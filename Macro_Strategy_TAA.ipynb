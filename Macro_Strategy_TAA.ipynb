{
 "cells": [
  {
   "cell_type": "markdown",
   "metadata": {
    "pycharm": {
     "name": "#%% md\n"
    }
   },
   "source": [
    "# 一. 宏观择时策略框架\n",
    "\n",
    "在研究资产配置的过程中，分析宏观经济基本面是一项重要内容。宏观经济状态与资产收益和风险有着密切的关系，如在经济周期的不同阶段，资产表现出不同的收益和风险特征，分析资产在经济周期不同阶段的表现，有利于管理人分析未来一段时间内资产所处的状态，为资产配置提供有价值的参考依据。\n",
    "目前，关于经济周期研究已经形成完善的理论框架，按照时间的长短，经济周期又可以分为短周期、中周期、中长周期和长周期。\n",
    "\n",
    "- 短周期又叫基钦周期，也叫存货周期，将经济周期波动的原因归结为存货投资的变动，短周期一般 4－5 年。\n",
    "- 中周期又叫朱格拉底周期，将经济的周期变化归结为设备投资的变化，中周期一般 8－10 年。\n",
    "- 中长周期又叫库兹涅茨周期，一般 18－20年，主要与基础设施建设、产业结构升级和技术进步有关。\n",
    "- 长周期也叫康德拉杰耶夫周期，平均为 50－60 年。长短经济周期之间存在相互联系和相互作用，当长周期和短周期相互重叠时经济的波动更加明显和剧烈。\n",
    "\n",
    "经济周期可以划分为上升和下降 2个阶段。上升阶段也称为繁荣阶段，繁荣阶段的最高点称为经济周期的顶峰，下降阶段也称为衰退阶段，衰退阶段的最低点称为经济周期的谷底。\n",
    "经济周期也可以划分为 4 个阶段，分别是复苏、繁荣、衰退和萧条。复苏是经济在潜在水平之下的扩张，繁荣是经济在潜在水平之上的扩张，衰退是经济在潜在水平之上的收缩，而萧条是经济在潜在水平之下的收缩。 4 阶段的划分方法是对 2阶段划分的进一步细分，以经济的潜在增长水平为划分点，把上升阶段细分为复苏和繁荣两个阶段，把下降阶段划分为衰退和萧条 2 个阶段。"
   ]
  },
  {
   "cell_type": "markdown",
   "metadata": {
    "pycharm": {
     "name": "#%% md\n"
    }
   },
   "source": [
    "## 1.1 宏观环境对资产价格的影响\n",
    "\n",
    "当经济处于潜在水平之下的扩张阶段时，也就是经济运行到复苏阶段时，各种生产要素包括资本、劳动力、自然资源都还是过剩的，经济复苏提高了现有生产能力的利用效率，企业的边际收益水平开始提高，国家为了促使经济尽快复苏，采取扩张性的财政政策，加大政府支出，这一系列努力使得企业盈利有所改善，每股盈利开始增长。经济复苏阶段，中央银行一般都会采取比较宽松的货币政策，放松信贷，降低利率，为经济整体扩张提供动力，货币流动性开始推动股票的估值水平提高，每股盈利增长的改善和估值水平的提高推动股票价格上涨，所以这个期间股票表现较好。在这个时期，虽然经济活动在增强，但是通货膨胀通常会持续下降一段时间，低利率导致债券的表现也较好。\n",
    "当经济处于潜在水平之上的扩张阶段时，经济运行到繁荣阶段，经济增长不可能在原有的速度下持续，劳动力、原材料和生产设备的约束逐步显现出来，经济过热引发了通货膨胀压力，为了控制社会的通货膨胀预期，中央银行将通过提高银行存款准备金、控制信贷、提升利率等一系列手段，为过热的经济降温。利率上升导致债券收益率下降，所以债券的表现就很差。利率上升导致上市公司的资金成本上升，原材料和劳动力约束导致市场上原材料、劳动力价格的上涨，提高了企业的生产成本，尽管部分位于产业链上游的资源型企业能够从资源价格上涨中获利，但是对于大多数生产、加工、制造类企业来说，转嫁生产成本的能力十分有限，成本的上升侵蚀了企业利润，造成企业盈利增速下滑，这时股票市场显出疲态。\n",
    "当经济处于潜在水平之上的收缩阶段时，经济运行到衰退阶段，经济已经从周期顶峰开始回落，通货膨胀的压力仍然继续存在。在经济回落的过程中，由于总需求减少，生产型企业逐步感受到订单减少，而企业生产成本仍然居高不下，这种总需求减少的压力沿着产业链的从中下游向上游传导，导致企业整体的盈利能力下滑。央行为了控制经济的过度增长而采取紧缩的货币政策，紧缩的货币政策导致了股票的估值水平回落，每股盈利增速回落和估值水平下降，导致股票在这个阶段表现最差。在这个阶段，由于投资者的通货膨胀预期有所减弱，债券的收益率开始走出低谷。\n",
    "经济处在潜在水平之下的收缩阶段时，经济运行到萧条阶段，此时，由于总需求大幅减少，物价水平出现下降，通货膨胀的压力基本消除。由于市场预期政府会通过降息来防止经济大幅回落，刺激债券收益率上升。总需求大幅减少导致公司在这个阶段的盈利水平很差，盈利增长仍然处在低位，但是，由于货币政策仍然宽松，将股票的估值水平维持在较高水平，股票价格处于比较稳定的状态。随着经济触底，市场对经济增长的预期开始好转，企业盈利出现改善的迹象，货币充裕和经济增长的良好预期进一步推动股票上涨，股票在这个阶段取得最好收益。"
   ]
  },
  {
   "cell_type": "markdown",
   "metadata": {
    "pycharm": {
     "name": "#%% md\n"
    }
   },
   "source": [
    "## 1.2 选取经济指标\n",
    "\n",
    "上文中已经简要阐述宏观经济周期对资产价格的影响机制，为了进一步探索宏观经济对资产价格的影响以及为资产配置提供有益的指导，首先需要对宏观经济所处阶段进行划分。国内大多数机构在探索宏观择时策略时，考虑的变量包括国内生产总值、货币供应量、价格指数、工业增加值、利率等等。当然，我们构建宏观择时框架也涉及指标的选择，在选择相关指标时，我们考虑如下因素：一是指标的代表性，即能够充分代表经济整体运行的状况；二是指标的影响性，即能够对经济生活的各方面产生充分的影响；三是数据的可得性，即能够通过相关金融数据终端或国家统计数据集方便获得；四是数据的可算性，即能够通过现有的硬件软件设备计算相关数据。基于此，我们用三个重要的宏观经济变量作为划分划分经济状态的依据，这三个宏观经济变量分别是：国内生产总值 GDP、消费者价格指数 CPI，市场基准利率r。\n",
    "> 国内生产总值GDP：国内生产总值GDP指按市场价格计算的一个国家(或地区)所有常住单位在一定时期内生产活动的最终成果，它能反映一国经济运行状况的整体走势。持续、稳定提升的 GDP 增长表明国民经济运行状态良好，此时，投资者对当前和未来的实体经济有良好预期，公司利润也会稳定增长，资本市场总体上表现良好。与之相反，在 GDP 增速快速回落时，说明宏观经济体系内存在突出矛盾和问题，此时，投资者对经济和市场的前景十分谨慎，企业盈利情况会逐步恶化，资本市场也会出现大幅波动，一些资产价格会迅速回落。\n",
    "> 消费者物价指数 CPI：消费者物价指数 CPI代表一般物价水平的变化，是通货膨胀的代理变量之一。在通货膨胀的条件下，物价持续大幅上涨会引起资产价格波动，但波动的方向比较复杂，既可能上涨，也可能下跌。一般来讲，在通货膨胀初始阶段，物价开始上涨，企业盈利能力开始上升，推动股票价格上升。而在通货膨胀上升到较高程度时，价格上升会导致企业生产成本增加，一部分企业的盈利能力出现下降。在严重通货膨胀的条件下，市场会预期政府将紧缩银根、严格控制信贷、控制投资的快速上升、提高市场基准利率等一系列行动，导致债券和股票价格下降。\n",
    "> 市场利率 Rate：市场利率水平是货币政策的直接体现。一般认为，市场利率对股票、债券和货币资产的收益都有影响。在股票债券的基本模型DDM 模型中，市场利率是折现率的重要组成部分，折现率对资产价格变化有直接影响。"
   ]
  },
  {
   "cell_type": "markdown",
   "metadata": {
    "pycharm": {
     "name": "#%% md\n"
    }
   },
   "source": [
    "## 1.3 划分宏观经济状态\n",
    "实践过程中，主流机构在构建宏观因子时，通常会考虑多维度因子，打造完善的多因子体系。比如东方证券的“六维打分体系”，包括：宏观面、中观面、资金面、估值面、情绪面和政策面。宏观面关注的是经济周期；中观面关注的是行业和产业链的景气度；资金面关注的是流动性条件；估值面关注的是贵不贵的问题；情绪面关注的是市场的动量；政策面主要关注的是货币、财政、金融监管（如去杠杆、资管新规等）、行业监管、碳排放等等。\n",
    "但鉴于目前我们所面临的资源约束，数据可获得性以及算力的限制，我们在构建宏观择时框架时仅选定了三因子，即上文已经详细阐述的国内生产总值GDP、消费者物价指数CPI以及市场利率Rate。并进一步，对每个宏观经济变量考虑两种状态，国内生产总值GDP分为扩张和收缩两种状态、消费者物价指数 CPI 分为上升和下降两种状态、市场利率Rate 分为加息和降息两种状态，这样一共得到 8 种宏观状态。\n",
    "当然，对于宏观经济变量状态的划分，仍可以继续细分，如国内生产总值GDP可以进一步细分为复苏、繁荣、衰退和萧条四个阶段，还可以加入其它宏观经济变量，如同打标签一样对宏观经济状态进行更细化的描述形成更具体的画像，相关内容将在后续工作中不断完善。"
   ]
  },
  {
   "cell_type": "markdown",
   "metadata": {
    "pycharm": {
     "name": "#%% md\n"
    }
   },
   "source": [
    "## 1.4 确定可投资的大类资产类别\n",
    "通常情况下，大类资产配置的对象并不涉及大类资产的内部，而是以指数来代表大类资产，指数反应了大类资产的总体特征和变化规律，常见的指数有债券指数、股票指数、房地产指数、商品指数等，这些指数揭示了一定范围内大类资产的市场运行和发展的总体特征。\n",
    "当然，如果对大类资产进行合理细分，讨论细分类别资产的特征和运行规律，可以改善投资组合的内部结构，提高资产组合的收益。如按照风格来划分，如果大类资产的任何一个细分类别，具有不同于大类资产的收益和风险特征，就可以被看成是该大类资产的一种风格资产。通常的风格划分存在以下几种形式，股票风格资产可以划分为小股本股票、大股本股票、中等股本股票，或者成长股、价值股等；债券风格资产可以划分为公司债、国债、金融债，或者长期债券、中短期债券，又或者信用债券、担保债券等；商品期货可以划分为农产品期货、金属期货、工业品期货等。\n",
    "回到本次宏观择时策略中，为了简化分析我们仅考虑大类资产的总体特征，拟选取股票指数、债券指数、商品指数、货币指数，而对于各个大类资产的风格不在细分。风格资产的细化将在后续工作中不断完善，通过细化大类资产的风格特征，提高组合收益。"
   ]
  },
  {
   "cell_type": "markdown",
   "metadata": {
    "pycharm": {
     "name": "#%% md\n"
    }
   },
   "source": [
    "## 1.5 分析大类资产在不同宏观经济状态下的收益和风险特征\n",
    "前文已经划分宏观经济状态，根据国内生产总值GDP的扩张和收缩，消费者物价指数CPI的上升和下降，市场利率的加息和降息将宏观经济状态划分为8中状态，如下表所示：\n",
    "![](media/img_2.png)\n",
    "根据宏观经济数据，确定不同宏观经济状态所对应的的时间区间，随后分析大类资产，即股票指数、债券指数、商品指数以及货币指数，在不同宏观经济状态所对应的时间区间内的收益和风险特征。\n",
    "进一步分析大类资产在不同宏观经济状态下的表现，比较总结不同宏观经济状态下哪类资产表现较好，哪类资产表现较差，哪类资产波动率较大，即风险较大，哪类资产波动率较小，即风险较小。"
   ]
  },
  {
   "cell_type": "markdown",
   "metadata": {
    "pycharm": {
     "name": "#%% md\n"
    }
   },
   "source": [
    "## 1.6 确定不同宏观经济状态下的最优资产配置比例\n",
    "我们以各种宏观状态下资产收益和协方差作为计算最优资产配置的参数，用均值方差模型计算出投资组合的有效边界，求出一定约束条件下大类资产的最优投资比例。"
   ]
  },
  {
   "cell_type": "markdown",
   "metadata": {
    "pycharm": {
     "name": "#%% md\n"
    }
   },
   "source": [
    "## 1.7 回测宏观择时策略积累收益表现\n",
    "假设投资者按照宏观状态进行宏观择时，计算投资组合的积累收益，并考察累计收益的业绩表现。"
   ]
  },
  {
   "cell_type": "markdown",
   "metadata": {
    "pycharm": {
     "name": "#%% md\n"
    }
   },
   "source": [
    "# 二. 宏观择时策略数据验证"
   ]
  },
  {
   "cell_type": "markdown",
   "metadata": {
    "pycharm": {
     "name": "#%% md\n"
    }
   },
   "source": [
    "## 2.1 获取宏观经济数据"
   ]
  },
  {
   "cell_type": "markdown",
   "source": [
    "### 2.1.1 获取GDP数据"
   ],
   "metadata": {
    "collapsed": false,
    "pycharm": {
     "name": "#%% md\n"
    }
   }
  },
  {
   "cell_type": "code",
   "execution_count": 1,
   "metadata": {
    "pycharm": {
     "name": "#%%\n"
    }
   },
   "outputs": [
    {
     "data": {
      "text/plain": "             当季同比\n时间               \n2016-03-31  0.069\n1992-09-30  0.146\n2018-06-30  0.069",
      "text/html": "<div>\n<style scoped>\n    .dataframe tbody tr th:only-of-type {\n        vertical-align: middle;\n    }\n\n    .dataframe tbody tr th {\n        vertical-align: top;\n    }\n\n    .dataframe thead th {\n        text-align: right;\n    }\n</style>\n<table border=\"1\" class=\"dataframe\">\n  <thead>\n    <tr style=\"text-align: right;\">\n      <th></th>\n      <th>当季同比</th>\n    </tr>\n    <tr>\n      <th>时间</th>\n      <th></th>\n    </tr>\n  </thead>\n  <tbody>\n    <tr>\n      <th>2016-03-31</th>\n      <td>0.069</td>\n    </tr>\n    <tr>\n      <th>1992-09-30</th>\n      <td>0.146</td>\n    </tr>\n    <tr>\n      <th>2018-06-30</th>\n      <td>0.069</td>\n    </tr>\n  </tbody>\n</table>\n</div>"
     },
     "execution_count": 1,
     "metadata": {},
     "output_type": "execute_result"
    }
   ],
   "source": [
    "'''\n",
    "获取GDP数据\n",
    "从总量上来看，GDP具有明显的季节性特征，因此在分析GDP增速时通常采取剔除季节性影响后的数据，如同比、季调同比\n",
    "'''\n",
    "import pandas as pd\n",
    "data_GDP = pd.read_excel('data/MSTAA_data/GDP.xlsx',\n",
    "                         sheet_name='data_GDP',\n",
    "                         index_col='时间',\n",
    "                         parse_dates=True)\n",
    "data_GDP['当季同比'] = data_GDP['当季同比'] / 100\n",
    "data_GDP.sample(3)"
   ]
  },
  {
   "cell_type": "code",
   "execution_count": 2,
   "metadata": {
    "pycharm": {
     "name": "#%%\n"
    }
   },
   "outputs": [
    {
     "data": {
      "text/html": "\n<div id=\"altair-viz-73b7554f48634fa593a1039b8e332ffd\"></div>\n<script type=\"text/javascript\">\n  (function(spec, embedOpt){\n    let outputDiv = document.currentScript.previousElementSibling;\n    if (outputDiv.id !== \"altair-viz-73b7554f48634fa593a1039b8e332ffd\") {\n      outputDiv = document.getElementById(\"altair-viz-73b7554f48634fa593a1039b8e332ffd\");\n    }\n    const paths = {\n      \"vega\": \"https://cdn.jsdelivr.net/npm//vega@5?noext\",\n      \"vega-lib\": \"https://cdn.jsdelivr.net/npm//vega-lib?noext\",\n      \"vega-lite\": \"https://cdn.jsdelivr.net/npm//vega-lite@4.8.1?noext\",\n      \"vega-embed\": \"https://cdn.jsdelivr.net/npm//vega-embed@6?noext\",\n    };\n\n    function loadScript(lib) {\n      return new Promise(function(resolve, reject) {\n        var s = document.createElement('script');\n        s.src = paths[lib];\n        s.async = true;\n        s.onload = () => resolve(paths[lib]);\n        s.onerror = () => reject(`Error loading script: ${paths[lib]}`);\n        document.getElementsByTagName(\"head\")[0].appendChild(s);\n      });\n    }\n\n    function showError(err) {\n      outputDiv.innerHTML = `<div class=\"error\" style=\"color:red;\">${err}</div>`;\n      throw err;\n    }\n\n    function displayChart(vegaEmbed) {\n      vegaEmbed(outputDiv, spec, embedOpt)\n        .catch(err => showError(`Javascript Error: ${err.message}<br>This usually means there's a typo in your chart specification. See the javascript console for the full traceback.`));\n    }\n\n    if(typeof define === \"function\" && define.amd) {\n      requirejs.config({paths});\n      require([\"vega-embed\"], displayChart, err => showError(`Error loading script: ${err.message}`));\n    } else if (typeof vegaEmbed === \"function\") {\n      displayChart(vegaEmbed);\n    } else {\n      loadScript(\"vega\")\n        .then(() => loadScript(\"vega-lite\"))\n        .then(() => loadScript(\"vega-embed\"))\n        .catch(showError)\n        .then(() => displayChart(vegaEmbed));\n    }\n  })({\"config\": {\"view\": {\"continuousWidth\": 400, \"continuousHeight\": 300}}, \"data\": {\"name\": \"data-730ddd829dc532b5e6c33e5549cbf116\"}, \"mark\": \"trail\", \"encoding\": {\"size\": {\"type\": \"quantitative\", \"field\": \"y\"}, \"x\": {\"type\": \"temporal\", \"field\": \"x\"}, \"y\": {\"type\": \"quantitative\", \"field\": \"y\"}}, \"height\": 360, \"width\": 900, \"$schema\": \"https://vega.github.io/schema/vega-lite/v4.8.1.json\", \"datasets\": {\"data-730ddd829dc532b5e6c33e5549cbf116\": [{\"x\": \"1992-03-31T00:00:00\", \"y\": 0.136}, {\"x\": \"1992-06-30T00:00:00\", \"y\": 0.141}, {\"x\": \"1992-09-30T00:00:00\", \"y\": 0.146}, {\"x\": \"1992-12-31T00:00:00\", \"y\": 0.146}, {\"x\": \"1993-03-31T00:00:00\", \"y\": 0.153}, {\"x\": \"1993-06-30T00:00:00\", \"y\": 0.135}, {\"x\": \"1993-09-30T00:00:00\", \"y\": 0.129}, {\"x\": \"1993-12-31T00:00:00\", \"y\": 0.141}, {\"x\": \"1994-03-31T00:00:00\", \"y\": 0.141}, {\"x\": \"1994-06-30T00:00:00\", \"y\": 0.133}, {\"x\": \"1994-09-30T00:00:00\", \"y\": 0.131}, {\"x\": \"1994-12-31T00:00:00\", \"y\": 0.12}, {\"x\": \"1995-03-31T00:00:00\", \"y\": 0.11900000000000001}, {\"x\": \"1995-06-30T00:00:00\", \"y\": 0.11}, {\"x\": \"1995-09-30T00:00:00\", \"y\": 0.10400000000000001}, {\"x\": \"1995-12-31T00:00:00\", \"y\": 0.10800000000000001}, {\"x\": \"1996-03-31T00:00:00\", \"y\": 0.109}, {\"x\": \"1996-06-30T00:00:00\", \"y\": 0.094}, {\"x\": \"1996-09-30T00:00:00\", \"y\": 0.092}, {\"x\": \"1996-12-31T00:00:00\", \"y\": 0.10300000000000001}, {\"x\": \"1997-03-31T00:00:00\", \"y\": 0.10099999999999999}, {\"x\": \"1997-06-30T00:00:00\", \"y\": 0.1}, {\"x\": \"1997-09-30T00:00:00\", \"y\": 0.086}, {\"x\": \"1997-12-31T00:00:00\", \"y\": 0.086}, {\"x\": \"1998-03-31T00:00:00\", \"y\": 0.073}, {\"x\": \"1998-06-30T00:00:00\", \"y\": 0.069}, {\"x\": \"1998-09-30T00:00:00\", \"y\": 0.078}, {\"x\": \"1998-12-31T00:00:00\", \"y\": 0.091}, {\"x\": \"1999-03-31T00:00:00\", \"y\": 0.08900000000000001}, {\"x\": \"1999-06-30T00:00:00\", \"y\": 0.079}, {\"x\": \"1999-09-30T00:00:00\", \"y\": 0.076}, {\"x\": \"1999-12-31T00:00:00\", \"y\": 0.067}, {\"x\": \"2000-03-31T00:00:00\", \"y\": 0.087}, {\"x\": \"2000-06-30T00:00:00\", \"y\": 0.091}, {\"x\": \"2000-09-30T00:00:00\", \"y\": 0.08800000000000001}, {\"x\": \"2000-12-31T00:00:00\", \"y\": 0.075}, {\"x\": \"2001-03-31T00:00:00\", \"y\": 0.095}, {\"x\": \"2001-06-30T00:00:00\", \"y\": 0.086}, {\"x\": \"2001-09-30T00:00:00\", \"y\": 0.08}, {\"x\": \"2001-12-31T00:00:00\", \"y\": 0.075}, {\"x\": \"2002-03-31T00:00:00\", \"y\": 0.08900000000000001}, {\"x\": \"2002-06-30T00:00:00\", \"y\": 0.08800000000000001}, {\"x\": \"2002-09-30T00:00:00\", \"y\": 0.096}, {\"x\": \"2002-12-31T00:00:00\", \"y\": 0.091}, {\"x\": \"2003-03-31T00:00:00\", \"y\": 0.111}, {\"x\": \"2003-06-30T00:00:00\", \"y\": 0.091}, {\"x\": \"2003-09-30T00:00:00\", \"y\": 0.1}, {\"x\": \"2003-12-31T00:00:00\", \"y\": 0.1}, {\"x\": \"2004-03-31T00:00:00\", \"y\": 0.106}, {\"x\": \"2004-06-30T00:00:00\", \"y\": 0.11599999999999999}, {\"x\": \"2004-09-30T00:00:00\", \"y\": 0.098}, {\"x\": \"2004-12-31T00:00:00\", \"y\": 0.08800000000000001}, {\"x\": \"2005-03-31T00:00:00\", \"y\": 0.111}, {\"x\": \"2005-06-30T00:00:00\", \"y\": 0.111}, {\"x\": \"2005-09-30T00:00:00\", \"y\": 0.10800000000000001}, {\"x\": \"2005-12-31T00:00:00\", \"y\": 0.124}, {\"x\": \"2006-03-31T00:00:00\", \"y\": 0.125}, {\"x\": \"2006-06-30T00:00:00\", \"y\": 0.13699999999999998}, {\"x\": \"2006-09-30T00:00:00\", \"y\": 0.122}, {\"x\": \"2006-12-31T00:00:00\", \"y\": 0.125}, {\"x\": \"2007-03-31T00:00:00\", \"y\": 0.138}, {\"x\": \"2007-06-30T00:00:00\", \"y\": 0.15}, {\"x\": \"2007-09-30T00:00:00\", \"y\": 0.14300000000000002}, {\"x\": \"2007-12-31T00:00:00\", \"y\": 0.139}, {\"x\": \"2008-03-31T00:00:00\", \"y\": 0.115}, {\"x\": \"2008-06-30T00:00:00\", \"y\": 0.109}, {\"x\": \"2008-09-30T00:00:00\", \"y\": 0.095}, {\"x\": \"2008-12-31T00:00:00\", \"y\": 0.071}, {\"x\": \"2009-03-31T00:00:00\", \"y\": 0.064}, {\"x\": \"2009-06-30T00:00:00\", \"y\": 0.08199999999999999}, {\"x\": \"2009-09-30T00:00:00\", \"y\": 0.106}, {\"x\": \"2009-12-31T00:00:00\", \"y\": 0.11900000000000001}, {\"x\": \"2010-03-31T00:00:00\", \"y\": 0.122}, {\"x\": \"2010-06-30T00:00:00\", \"y\": 0.10800000000000001}, {\"x\": \"2010-09-30T00:00:00\", \"y\": 0.099}, {\"x\": \"2010-12-31T00:00:00\", \"y\": 0.099}, {\"x\": \"2011-03-31T00:00:00\", \"y\": 0.102}, {\"x\": \"2011-06-30T00:00:00\", \"y\": 0.1}, {\"x\": \"2011-09-30T00:00:00\", \"y\": 0.094}, {\"x\": \"2011-12-31T00:00:00\", \"y\": 0.08800000000000001}, {\"x\": \"2012-03-31T00:00:00\", \"y\": 0.081}, {\"x\": \"2012-06-30T00:00:00\", \"y\": 0.077}, {\"x\": \"2012-09-30T00:00:00\", \"y\": 0.075}, {\"x\": \"2012-12-31T00:00:00\", \"y\": 0.081}, {\"x\": \"2013-03-31T00:00:00\", \"y\": 0.079}, {\"x\": \"2013-06-30T00:00:00\", \"y\": 0.076}, {\"x\": \"2013-09-30T00:00:00\", \"y\": 0.079}, {\"x\": \"2013-12-31T00:00:00\", \"y\": 0.077}, {\"x\": \"2014-03-31T00:00:00\", \"y\": 0.075}, {\"x\": \"2014-06-30T00:00:00\", \"y\": 0.076}, {\"x\": \"2014-09-30T00:00:00\", \"y\": 0.07200000000000001}, {\"x\": \"2014-12-31T00:00:00\", \"y\": 0.073}, {\"x\": \"2015-03-31T00:00:00\", \"y\": 0.071}, {\"x\": \"2015-06-30T00:00:00\", \"y\": 0.071}, {\"x\": \"2015-09-30T00:00:00\", \"y\": 0.07}, {\"x\": \"2015-12-31T00:00:00\", \"y\": 0.069}, {\"x\": \"2016-03-31T00:00:00\", \"y\": 0.069}, {\"x\": \"2016-06-30T00:00:00\", \"y\": 0.068}, {\"x\": \"2016-09-30T00:00:00\", \"y\": 0.068}, {\"x\": \"2016-12-31T00:00:00\", \"y\": 0.069}, {\"x\": \"2017-03-31T00:00:00\", \"y\": 0.07}, {\"x\": \"2017-06-30T00:00:00\", \"y\": 0.07}, {\"x\": \"2017-09-30T00:00:00\", \"y\": 0.069}, {\"x\": \"2017-12-31T00:00:00\", \"y\": 0.068}, {\"x\": \"2018-03-31T00:00:00\", \"y\": 0.069}, {\"x\": \"2018-06-30T00:00:00\", \"y\": 0.069}, {\"x\": \"2018-09-30T00:00:00\", \"y\": 0.067}, {\"x\": \"2018-12-31T00:00:00\", \"y\": 0.065}, {\"x\": \"2019-03-31T00:00:00\", \"y\": 0.063}, {\"x\": \"2019-06-30T00:00:00\", \"y\": 0.06}, {\"x\": \"2019-09-30T00:00:00\", \"y\": 0.059000000000000004}, {\"x\": \"2019-12-31T00:00:00\", \"y\": 0.057999999999999996}, {\"x\": \"2020-03-31T00:00:00\", \"y\": -0.069}, {\"x\": \"2020-06-30T00:00:00\", \"y\": 0.031}, {\"x\": \"2020-09-30T00:00:00\", \"y\": 0.048}, {\"x\": \"2020-12-31T00:00:00\", \"y\": 0.064}, {\"x\": \"2021-03-31T00:00:00\", \"y\": 0.183}, {\"x\": \"2021-06-30T00:00:00\", \"y\": 0.079}, {\"x\": \"2021-09-30T00:00:00\", \"y\": 0.049}, {\"x\": \"2021-12-31T00:00:00\", \"y\": 0.04}, {\"x\": \"2022-03-31T00:00:00\", \"y\": 0.048}]}}, {\"mode\": \"vega-lite\"});\n</script>",
      "text/plain": "alt.Chart(...)"
     },
     "execution_count": 2,
     "metadata": {},
     "output_type": "execute_result"
    }
   ],
   "source": [
    "import altair as alt\n",
    "\n",
    "\n",
    "source = pd.DataFrame({\n",
    "    'x': data_GDP.index,\n",
    "    'y': data_GDP.当季同比\n",
    "})\n",
    "\n",
    "chart = alt.Chart(source).mark_trail().encode(\n",
    "    x='x:T',\n",
    "    y='y:Q',\n",
    "    size='y:Q').properties(\n",
    "    width = 150*6,\n",
    "    height=60*6\n",
    ")\n",
    "\n",
    "chart"
   ]
  },
  {
   "cell_type": "code",
   "execution_count": 3,
   "metadata": {
    "pycharm": {
     "name": "#%%\n"
    }
   },
   "outputs": [
    {
     "data": {
      "text/plain": "            当季同比\ncount  89.000000\nmean    0.086438\nstd     0.030933\nmin    -0.069000\n25%     0.069000\n50%     0.081000\n75%     0.102000\nmax     0.183000",
      "text/html": "<div>\n<style scoped>\n    .dataframe tbody tr th:only-of-type {\n        vertical-align: middle;\n    }\n\n    .dataframe tbody tr th {\n        vertical-align: top;\n    }\n\n    .dataframe thead th {\n        text-align: right;\n    }\n</style>\n<table border=\"1\" class=\"dataframe\">\n  <thead>\n    <tr style=\"text-align: right;\">\n      <th></th>\n      <th>当季同比</th>\n    </tr>\n  </thead>\n  <tbody>\n    <tr>\n      <th>count</th>\n      <td>89.000000</td>\n    </tr>\n    <tr>\n      <th>mean</th>\n      <td>0.086438</td>\n    </tr>\n    <tr>\n      <th>std</th>\n      <td>0.030933</td>\n    </tr>\n    <tr>\n      <th>min</th>\n      <td>-0.069000</td>\n    </tr>\n    <tr>\n      <th>25%</th>\n      <td>0.069000</td>\n    </tr>\n    <tr>\n      <th>50%</th>\n      <td>0.081000</td>\n    </tr>\n    <tr>\n      <th>75%</th>\n      <td>0.102000</td>\n    </tr>\n    <tr>\n      <th>max</th>\n      <td>0.183000</td>\n    </tr>\n  </tbody>\n</table>\n</div>"
     },
     "execution_count": 3,
     "metadata": {},
     "output_type": "execute_result"
    }
   ],
   "source": [
    "data_GDP_ = data_GDP[data_GDP.index > '2000-1-1']\n",
    "data_GDP_.describe()"
   ]
  },
  {
   "cell_type": "code",
   "execution_count": 4,
   "outputs": [
    {
     "data": {
      "text/plain": "0.081"
     },
     "execution_count": 4,
     "metadata": {},
     "output_type": "execute_result"
    }
   ],
   "source": [
    "data_GDP_.median()[0]"
   ],
   "metadata": {
    "collapsed": false,
    "pycharm": {
     "name": "#%%\n"
    }
   }
  },
  {
   "cell_type": "markdown",
   "source": [
    "自2000年1月1日至今，我国GDP季度同比增长率的50%分位数为0.081000。因此，采取简化处理，以GDP季度同比增长率的50%分位数为分水岭，超过该分位数指标则认为GDP状态为扩张，低于该分位数指标则认定为GDP状态为收缩。\n",
    "当然，这样的简化处理存在诸多不合理的地方，比如当前我国宏观经济已经进入新发展阶段，正在逐步从投资拉动转变，房地产投资和城投基建投资的增长模式已经成为过去，高质量发展成为新的路径。因此，当前阶段的增长率势必会回落，单纯以8.1%作为扩张和收缩的分水岭，存在不合理性。\n",
    "在未来的进一步研究中，将从以下几个方面进一步细化，使其更符合实际情况，如：（1）将宏观经济状态分为四个阶段，即复苏、繁荣、衰退和萧条；（2）依据发展阶段不同，将整个宏观经济划分为多个阶段，就各个阶段的宏观经济特征，设定适合特定宏观经济特征的扩张收缩分水岭。\n",
    "前述研究思路将在后续策略研究中，逐步深入探索，使得模型更为贴合市场实际，具有实际可操作性。"
   ],
   "metadata": {
    "collapsed": false,
    "pycharm": {
     "name": "#%% md\n"
    }
   }
  },
  {
   "cell_type": "code",
   "execution_count": 6,
   "outputs": [
    {
     "data": {
      "text/html": "\n<div id=\"altair-viz-9ab0abfc6f264938bf97f731a34f9c27\"></div>\n<script type=\"text/javascript\">\n  (function(spec, embedOpt){\n    let outputDiv = document.currentScript.previousElementSibling;\n    if (outputDiv.id !== \"altair-viz-9ab0abfc6f264938bf97f731a34f9c27\") {\n      outputDiv = document.getElementById(\"altair-viz-9ab0abfc6f264938bf97f731a34f9c27\");\n    }\n    const paths = {\n      \"vega\": \"https://cdn.jsdelivr.net/npm//vega@5?noext\",\n      \"vega-lib\": \"https://cdn.jsdelivr.net/npm//vega-lib?noext\",\n      \"vega-lite\": \"https://cdn.jsdelivr.net/npm//vega-lite@4.8.1?noext\",\n      \"vega-embed\": \"https://cdn.jsdelivr.net/npm//vega-embed@6?noext\",\n    };\n\n    function loadScript(lib) {\n      return new Promise(function(resolve, reject) {\n        var s = document.createElement('script');\n        s.src = paths[lib];\n        s.async = true;\n        s.onload = () => resolve(paths[lib]);\n        s.onerror = () => reject(`Error loading script: ${paths[lib]}`);\n        document.getElementsByTagName(\"head\")[0].appendChild(s);\n      });\n    }\n\n    function showError(err) {\n      outputDiv.innerHTML = `<div class=\"error\" style=\"color:red;\">${err}</div>`;\n      throw err;\n    }\n\n    function displayChart(vegaEmbed) {\n      vegaEmbed(outputDiv, spec, embedOpt)\n        .catch(err => showError(`Javascript Error: ${err.message}<br>This usually means there's a typo in your chart specification. See the javascript console for the full traceback.`));\n    }\n\n    if(typeof define === \"function\" && define.amd) {\n      requirejs.config({paths});\n      require([\"vega-embed\"], displayChart, err => showError(`Error loading script: ${err.message}`));\n    } else if (typeof vegaEmbed === \"function\") {\n      displayChart(vegaEmbed);\n    } else {\n      loadScript(\"vega\")\n        .then(() => loadScript(\"vega-lite\"))\n        .then(() => loadScript(\"vega-embed\"))\n        .catch(showError)\n        .then(() => displayChart(vegaEmbed));\n    }\n  })({\"config\": {\"view\": {\"continuousWidth\": 400, \"continuousHeight\": 300}}, \"data\": {\"name\": \"data-e23175ea7768f5fe8e5c38a48b744cc5\"}, \"mark\": \"trail\", \"encoding\": {\"size\": {\"type\": \"quantitative\", \"field\": \"y\"}, \"x\": {\"type\": \"temporal\", \"field\": \"x\"}, \"y\": {\"type\": \"quantitative\", \"field\": \"y\"}}, \"height\": 360, \"width\": 900, \"$schema\": \"https://vega.github.io/schema/vega-lite/v4.8.1.json\", \"datasets\": {\"data-e23175ea7768f5fe8e5c38a48b744cc5\": [{\"x\": \"2000-03-31T00:00:00\", \"y\": 0.087}, {\"x\": \"2000-06-30T00:00:00\", \"y\": 0.091}, {\"x\": \"2000-09-30T00:00:00\", \"y\": 0.08800000000000001}, {\"x\": \"2000-12-31T00:00:00\", \"y\": 0.075}, {\"x\": \"2001-03-31T00:00:00\", \"y\": 0.095}, {\"x\": \"2001-06-30T00:00:00\", \"y\": 0.086}, {\"x\": \"2001-09-30T00:00:00\", \"y\": 0.08}, {\"x\": \"2001-12-31T00:00:00\", \"y\": 0.075}, {\"x\": \"2002-03-31T00:00:00\", \"y\": 0.08900000000000001}, {\"x\": \"2002-06-30T00:00:00\", \"y\": 0.08800000000000001}, {\"x\": \"2002-09-30T00:00:00\", \"y\": 0.096}, {\"x\": \"2002-12-31T00:00:00\", \"y\": 0.091}, {\"x\": \"2003-03-31T00:00:00\", \"y\": 0.111}, {\"x\": \"2003-06-30T00:00:00\", \"y\": 0.091}, {\"x\": \"2003-09-30T00:00:00\", \"y\": 0.1}, {\"x\": \"2003-12-31T00:00:00\", \"y\": 0.1}, {\"x\": \"2004-03-31T00:00:00\", \"y\": 0.106}, {\"x\": \"2004-06-30T00:00:00\", \"y\": 0.11599999999999999}, {\"x\": \"2004-09-30T00:00:00\", \"y\": 0.098}, {\"x\": \"2004-12-31T00:00:00\", \"y\": 0.08800000000000001}, {\"x\": \"2005-03-31T00:00:00\", \"y\": 0.111}, {\"x\": \"2005-06-30T00:00:00\", \"y\": 0.111}, {\"x\": \"2005-09-30T00:00:00\", \"y\": 0.10800000000000001}, {\"x\": \"2005-12-31T00:00:00\", \"y\": 0.124}, {\"x\": \"2006-03-31T00:00:00\", \"y\": 0.125}, {\"x\": \"2006-06-30T00:00:00\", \"y\": 0.13699999999999998}, {\"x\": \"2006-09-30T00:00:00\", \"y\": 0.122}, {\"x\": \"2006-12-31T00:00:00\", \"y\": 0.125}, {\"x\": \"2007-03-31T00:00:00\", \"y\": 0.138}, {\"x\": \"2007-06-30T00:00:00\", \"y\": 0.15}, {\"x\": \"2007-09-30T00:00:00\", \"y\": 0.14300000000000002}, {\"x\": \"2007-12-31T00:00:00\", \"y\": 0.139}, {\"x\": \"2008-03-31T00:00:00\", \"y\": 0.115}, {\"x\": \"2008-06-30T00:00:00\", \"y\": 0.109}, {\"x\": \"2008-09-30T00:00:00\", \"y\": 0.095}, {\"x\": \"2008-12-31T00:00:00\", \"y\": 0.071}, {\"x\": \"2009-03-31T00:00:00\", \"y\": 0.064}, {\"x\": \"2009-06-30T00:00:00\", \"y\": 0.08199999999999999}, {\"x\": \"2009-09-30T00:00:00\", \"y\": 0.106}, {\"x\": \"2009-12-31T00:00:00\", \"y\": 0.11900000000000001}, {\"x\": \"2010-03-31T00:00:00\", \"y\": 0.122}, {\"x\": \"2010-06-30T00:00:00\", \"y\": 0.10800000000000001}, {\"x\": \"2010-09-30T00:00:00\", \"y\": 0.099}, {\"x\": \"2010-12-31T00:00:00\", \"y\": 0.099}, {\"x\": \"2011-03-31T00:00:00\", \"y\": 0.102}, {\"x\": \"2011-06-30T00:00:00\", \"y\": 0.1}, {\"x\": \"2011-09-30T00:00:00\", \"y\": 0.094}, {\"x\": \"2011-12-31T00:00:00\", \"y\": 0.08800000000000001}, {\"x\": \"2012-03-31T00:00:00\", \"y\": 0.081}, {\"x\": \"2012-06-30T00:00:00\", \"y\": 0.077}, {\"x\": \"2012-09-30T00:00:00\", \"y\": 0.075}, {\"x\": \"2012-12-31T00:00:00\", \"y\": 0.081}, {\"x\": \"2013-03-31T00:00:00\", \"y\": 0.079}, {\"x\": \"2013-06-30T00:00:00\", \"y\": 0.076}, {\"x\": \"2013-09-30T00:00:00\", \"y\": 0.079}, {\"x\": \"2013-12-31T00:00:00\", \"y\": 0.077}, {\"x\": \"2014-03-31T00:00:00\", \"y\": 0.075}, {\"x\": \"2014-06-30T00:00:00\", \"y\": 0.076}, {\"x\": \"2014-09-30T00:00:00\", \"y\": 0.07200000000000001}, {\"x\": \"2014-12-31T00:00:00\", \"y\": 0.073}, {\"x\": \"2015-03-31T00:00:00\", \"y\": 0.071}, {\"x\": \"2015-06-30T00:00:00\", \"y\": 0.071}, {\"x\": \"2015-09-30T00:00:00\", \"y\": 0.07}, {\"x\": \"2015-12-31T00:00:00\", \"y\": 0.069}, {\"x\": \"2016-03-31T00:00:00\", \"y\": 0.069}, {\"x\": \"2016-06-30T00:00:00\", \"y\": 0.068}, {\"x\": \"2016-09-30T00:00:00\", \"y\": 0.068}, {\"x\": \"2016-12-31T00:00:00\", \"y\": 0.069}, {\"x\": \"2017-03-31T00:00:00\", \"y\": 0.07}, {\"x\": \"2017-06-30T00:00:00\", \"y\": 0.07}, {\"x\": \"2017-09-30T00:00:00\", \"y\": 0.069}, {\"x\": \"2017-12-31T00:00:00\", \"y\": 0.068}, {\"x\": \"2018-03-31T00:00:00\", \"y\": 0.069}, {\"x\": \"2018-06-30T00:00:00\", \"y\": 0.069}, {\"x\": \"2018-09-30T00:00:00\", \"y\": 0.067}, {\"x\": \"2018-12-31T00:00:00\", \"y\": 0.065}, {\"x\": \"2019-03-31T00:00:00\", \"y\": 0.063}, {\"x\": \"2019-06-30T00:00:00\", \"y\": 0.06}, {\"x\": \"2019-09-30T00:00:00\", \"y\": 0.059000000000000004}, {\"x\": \"2019-12-31T00:00:00\", \"y\": 0.057999999999999996}, {\"x\": \"2020-03-31T00:00:00\", \"y\": -0.069}, {\"x\": \"2020-06-30T00:00:00\", \"y\": 0.031}, {\"x\": \"2020-09-30T00:00:00\", \"y\": 0.048}, {\"x\": \"2020-12-31T00:00:00\", \"y\": 0.064}, {\"x\": \"2021-03-31T00:00:00\", \"y\": 0.183}, {\"x\": \"2021-06-30T00:00:00\", \"y\": 0.079}, {\"x\": \"2021-09-30T00:00:00\", \"y\": 0.049}, {\"x\": \"2021-12-31T00:00:00\", \"y\": 0.04}, {\"x\": \"2022-03-31T00:00:00\", \"y\": 0.048}]}}, {\"mode\": \"vega-lite\"});\n</script>",
      "text/plain": "alt.Chart(...)"
     },
     "execution_count": 6,
     "metadata": {},
     "output_type": "execute_result"
    }
   ],
   "source": [
    "import altair as alt\n",
    "\n",
    "source = pd.DataFrame({\n",
    "    'x':data_GDP_.index,\n",
    "    'y':data_GDP_.当季同比\n",
    "})\n",
    "\n",
    "\n",
    "chart = alt.Chart(source).mark_trail().encode(\n",
    "    x='x:T',\n",
    "    y='y:Q',\n",
    "    size='y:Q').properties(\n",
    "    width = 150*6,\n",
    "    height=60*6\n",
    ")\n",
    "\n",
    "chart"
   ],
   "metadata": {
    "collapsed": false,
    "pycharm": {
     "name": "#%%\n"
    }
   }
  },
  {
   "cell_type": "code",
   "execution_count": 10,
   "outputs": [
    {
     "data": {
      "text/plain": "DatetimeIndex(['2000-03-31', '2000-06-30', '2000-09-30', '2001-03-31',\n               '2001-06-30', '2002-03-31', '2002-06-30', '2002-09-30',\n               '2002-12-31', '2003-03-31', '2003-06-30', '2003-09-30',\n               '2003-12-31', '2004-03-31', '2004-06-30', '2004-09-30',\n               '2004-12-31', '2005-03-31', '2005-06-30', '2005-09-30',\n               '2005-12-31', '2006-03-31', '2006-06-30', '2006-09-30',\n               '2006-12-31', '2007-03-31', '2007-06-30', '2007-09-30',\n               '2007-12-31', '2008-03-31', '2008-06-30', '2008-09-30',\n               '2009-06-30', '2009-09-30', '2009-12-31', '2010-03-31',\n               '2010-06-30', '2010-09-30', '2010-12-31', '2011-03-31',\n               '2011-06-30', '2011-09-30', '2011-12-31', '2021-03-31'],\n              dtype='datetime64[ns]', name='时间', freq=None)"
     },
     "execution_count": 10,
     "metadata": {},
     "output_type": "execute_result"
    }
   ],
   "source": [
    "# 获取扩张的时间区间\n",
    "expansion = data_GDP_[data_GDP_.当季同比 > data_GDP_.median()[0]].index\n",
    "expansion"
   ],
   "metadata": {
    "collapsed": false,
    "pycharm": {
     "name": "#%%\n"
    }
   }
  },
  {
   "cell_type": "code",
   "execution_count": 11,
   "outputs": [
    {
     "data": {
      "text/plain": "DatetimeIndex(['2000-12-31', '2001-09-30', '2001-12-31', '2008-12-31',\n               '2009-03-31', '2012-03-31', '2012-06-30', '2012-09-30',\n               '2012-12-31', '2013-03-31', '2013-06-30', '2013-09-30',\n               '2013-12-31', '2014-03-31', '2014-06-30', '2014-09-30',\n               '2014-12-31', '2015-03-31', '2015-06-30', '2015-09-30',\n               '2015-12-31', '2016-03-31', '2016-06-30', '2016-09-30',\n               '2016-12-31', '2017-03-31', '2017-06-30', '2017-09-30',\n               '2017-12-31', '2018-03-31', '2018-06-30', '2018-09-30',\n               '2018-12-31', '2019-03-31', '2019-06-30', '2019-09-30',\n               '2019-12-31', '2020-03-31', '2020-06-30', '2020-09-30',\n               '2020-12-31', '2021-06-30', '2021-09-30', '2021-12-31',\n               '2022-03-31'],\n              dtype='datetime64[ns]', name='时间', freq=None)"
     },
     "execution_count": 11,
     "metadata": {},
     "output_type": "execute_result"
    }
   ],
   "source": [
    "# 获取收缩的时间区间\n",
    "contraction = data_GDP_[data_GDP_.当季同比 <= data_GDP_.median()[0]].index\n",
    "contraction"
   ],
   "metadata": {
    "collapsed": false,
    "pycharm": {
     "name": "#%%\n"
    }
   }
  },
  {
   "cell_type": "code",
   "execution_count": 18,
   "outputs": [
    {
     "data": {
      "text/plain": "             当季同比  状态     颜色\n时间                          \n2000-03-31  0.087  扩张    red\n2000-06-30  0.091  扩张    red\n2000-09-30  0.088  扩张    red\n2000-12-31  0.075  收缩  green\n2001-03-31  0.095  扩张    red\n...           ...  ..    ...\n2021-03-31  0.183  扩张    red\n2021-06-30  0.079  收缩  green\n2021-09-30  0.049  收缩  green\n2021-12-31  0.040  收缩  green\n2022-03-31  0.048  收缩  green\n\n[89 rows x 3 columns]",
      "text/html": "<div>\n<style scoped>\n    .dataframe tbody tr th:only-of-type {\n        vertical-align: middle;\n    }\n\n    .dataframe tbody tr th {\n        vertical-align: top;\n    }\n\n    .dataframe thead th {\n        text-align: right;\n    }\n</style>\n<table border=\"1\" class=\"dataframe\">\n  <thead>\n    <tr style=\"text-align: right;\">\n      <th></th>\n      <th>当季同比</th>\n      <th>状态</th>\n      <th>颜色</th>\n    </tr>\n    <tr>\n      <th>时间</th>\n      <th></th>\n      <th></th>\n      <th></th>\n    </tr>\n  </thead>\n  <tbody>\n    <tr>\n      <th>2000-03-31</th>\n      <td>0.087</td>\n      <td>扩张</td>\n      <td>red</td>\n    </tr>\n    <tr>\n      <th>2000-06-30</th>\n      <td>0.091</td>\n      <td>扩张</td>\n      <td>red</td>\n    </tr>\n    <tr>\n      <th>2000-09-30</th>\n      <td>0.088</td>\n      <td>扩张</td>\n      <td>red</td>\n    </tr>\n    <tr>\n      <th>2000-12-31</th>\n      <td>0.075</td>\n      <td>收缩</td>\n      <td>green</td>\n    </tr>\n    <tr>\n      <th>2001-03-31</th>\n      <td>0.095</td>\n      <td>扩张</td>\n      <td>red</td>\n    </tr>\n    <tr>\n      <th>...</th>\n      <td>...</td>\n      <td>...</td>\n      <td>...</td>\n    </tr>\n    <tr>\n      <th>2021-03-31</th>\n      <td>0.183</td>\n      <td>扩张</td>\n      <td>red</td>\n    </tr>\n    <tr>\n      <th>2021-06-30</th>\n      <td>0.079</td>\n      <td>收缩</td>\n      <td>green</td>\n    </tr>\n    <tr>\n      <th>2021-09-30</th>\n      <td>0.049</td>\n      <td>收缩</td>\n      <td>green</td>\n    </tr>\n    <tr>\n      <th>2021-12-31</th>\n      <td>0.040</td>\n      <td>收缩</td>\n      <td>green</td>\n    </tr>\n    <tr>\n      <th>2022-03-31</th>\n      <td>0.048</td>\n      <td>收缩</td>\n      <td>green</td>\n    </tr>\n  </tbody>\n</table>\n<p>89 rows × 3 columns</p>\n</div>"
     },
     "execution_count": 18,
     "metadata": {},
     "output_type": "execute_result"
    }
   ],
   "source": [
    "for timeindex in data_GDP_.index:\n",
    "    if timeindex in expansion:\n",
    "        data_GDP_.loc[timeindex, '状态'] = '扩张'\n",
    "    if timeindex in contraction:\n",
    "        data_GDP_.loc[timeindex, '状态'] = '收缩'\n",
    "\n",
    "data_GDP_"
   ],
   "metadata": {
    "collapsed": false,
    "pycharm": {
     "name": "#%%\n"
    }
   }
  },
  {
   "cell_type": "code",
   "execution_count": 19,
   "outputs": [],
   "source": [
    "data_GDP_.to_excel('data/MSTAA_data/GDP_states.xlsx')"
   ],
   "metadata": {
    "collapsed": false,
    "pycharm": {
     "name": "#%%\n"
    }
   }
  },
  {
   "cell_type": "markdown",
   "source": [
    "将2000年1月1日至今的宏观经济状态划分为扩张和收缩两个阶段，详见下表：\n",
    "![](media/img_3.png)"
   ],
   "metadata": {
    "collapsed": false,
    "pycharm": {
     "name": "#%% md\n"
    }
   }
  },
  {
   "cell_type": "markdown",
   "source": [
    "### 2.1.2 获取CPI数据\n",
    "在划分2000年1月至今期间的CPI时，我们以 CPI月度环比和同比数据为基础，编制 CPI 指数，在当前的 CPI 比上一期 CPI 高时，就将当前一期的 CPI 确定为上升状态，在当前一期的 CPI 比上一期的 CPI 低时，就将当前一期确认为 CPI下降阶段。"
   ],
   "metadata": {
    "collapsed": false,
    "pycharm": {
     "name": "#%% md\n"
    }
   }
  },
  {
   "cell_type": "code",
   "execution_count": 2,
   "outputs": [
    {
     "data": {
      "text/plain": "               CPI\ndate              \n2017-07-31  0.0141\n2014-05-31  0.0248\n2010-06-30  0.0295\n2014-07-31  0.0229\n2008-02-29  0.0874",
      "text/html": "<div>\n<style scoped>\n    .dataframe tbody tr th:only-of-type {\n        vertical-align: middle;\n    }\n\n    .dataframe tbody tr th {\n        vertical-align: top;\n    }\n\n    .dataframe thead th {\n        text-align: right;\n    }\n</style>\n<table border=\"1\" class=\"dataframe\">\n  <thead>\n    <tr style=\"text-align: right;\">\n      <th></th>\n      <th>CPI</th>\n    </tr>\n    <tr>\n      <th>date</th>\n      <th></th>\n    </tr>\n  </thead>\n  <tbody>\n    <tr>\n      <th>2017-07-31</th>\n      <td>0.0141</td>\n    </tr>\n    <tr>\n      <th>2014-05-31</th>\n      <td>0.0248</td>\n    </tr>\n    <tr>\n      <th>2010-06-30</th>\n      <td>0.0295</td>\n    </tr>\n    <tr>\n      <th>2014-07-31</th>\n      <td>0.0229</td>\n    </tr>\n    <tr>\n      <th>2008-02-29</th>\n      <td>0.0874</td>\n    </tr>\n  </tbody>\n</table>\n</div>"
     },
     "execution_count": 2,
     "metadata": {},
     "output_type": "execute_result"
    }
   ],
   "source": [
    "import pandas as pd\n",
    "data_CPI = pd.read_excel('data/MSTAA_data/CPI.xlsx',\n",
    "                         sheet_name='data_CPI',\n",
    "                         index_col='date',\n",
    "                         parse_dates=True)\n",
    "data_CPI.CPI = data_CPI / 100\n",
    "\n",
    "data_CPI.sample(5)"
   ],
   "metadata": {
    "collapsed": false,
    "pycharm": {
     "name": "#%%\n"
    }
   }
  },
  {
   "cell_type": "code",
   "execution_count": 3,
   "outputs": [
    {
     "data": {
      "text/plain": "               CPI  states\ndate                      \n2022-01-31  0.0090     1.0\n2015-02-28  0.0143     1.0\n2006-10-31  0.0141     1.0\n2013-11-30  0.0302     1.0\n2003-10-31  0.0181     1.0",
      "text/html": "<div>\n<style scoped>\n    .dataframe tbody tr th:only-of-type {\n        vertical-align: middle;\n    }\n\n    .dataframe tbody tr th {\n        vertical-align: top;\n    }\n\n    .dataframe thead th {\n        text-align: right;\n    }\n</style>\n<table border=\"1\" class=\"dataframe\">\n  <thead>\n    <tr style=\"text-align: right;\">\n      <th></th>\n      <th>CPI</th>\n      <th>states</th>\n    </tr>\n    <tr>\n      <th>date</th>\n      <th></th>\n      <th></th>\n    </tr>\n  </thead>\n  <tbody>\n    <tr>\n      <th>2022-01-31</th>\n      <td>0.0090</td>\n      <td>1.0</td>\n    </tr>\n    <tr>\n      <th>2015-02-28</th>\n      <td>0.0143</td>\n      <td>1.0</td>\n    </tr>\n    <tr>\n      <th>2006-10-31</th>\n      <td>0.0141</td>\n      <td>1.0</td>\n    </tr>\n    <tr>\n      <th>2013-11-30</th>\n      <td>0.0302</td>\n      <td>1.0</td>\n    </tr>\n    <tr>\n      <th>2003-10-31</th>\n      <td>0.0181</td>\n      <td>1.0</td>\n    </tr>\n  </tbody>\n</table>\n</div>"
     },
     "execution_count": 3,
     "metadata": {},
     "output_type": "execute_result"
    }
   ],
   "source": [
    "for date in data_CPI.index:\n",
    "    if data_CPI.loc[date, 'CPI'] >= 0:\n",
    "        data_CPI.loc[date, 'states'] = 1\n",
    "    else:\n",
    "        data_CPI.loc[date, 'states'] = 0\n",
    "\n",
    "data_CPI.sample(5)"
   ],
   "metadata": {
    "collapsed": false,
    "pycharm": {
     "name": "#%%\n"
    }
   }
  },
  {
   "cell_type": "code",
   "execution_count": 4,
   "outputs": [
    {
     "data": {
      "text/html": "\n<div id=\"altair-viz-aaf4154bd03742fb8b6c33235140bcd2\"></div>\n<script type=\"text/javascript\">\n  (function(spec, embedOpt){\n    let outputDiv = document.currentScript.previousElementSibling;\n    if (outputDiv.id !== \"altair-viz-aaf4154bd03742fb8b6c33235140bcd2\") {\n      outputDiv = document.getElementById(\"altair-viz-aaf4154bd03742fb8b6c33235140bcd2\");\n    }\n    const paths = {\n      \"vega\": \"https://cdn.jsdelivr.net/npm//vega@5?noext\",\n      \"vega-lib\": \"https://cdn.jsdelivr.net/npm//vega-lib?noext\",\n      \"vega-lite\": \"https://cdn.jsdelivr.net/npm//vega-lite@4.8.1?noext\",\n      \"vega-embed\": \"https://cdn.jsdelivr.net/npm//vega-embed@6?noext\",\n    };\n\n    function loadScript(lib) {\n      return new Promise(function(resolve, reject) {\n        var s = document.createElement('script');\n        s.src = paths[lib];\n        s.async = true;\n        s.onload = () => resolve(paths[lib]);\n        s.onerror = () => reject(`Error loading script: ${paths[lib]}`);\n        document.getElementsByTagName(\"head\")[0].appendChild(s);\n      });\n    }\n\n    function showError(err) {\n      outputDiv.innerHTML = `<div class=\"error\" style=\"color:red;\">${err}</div>`;\n      throw err;\n    }\n\n    function displayChart(vegaEmbed) {\n      vegaEmbed(outputDiv, spec, embedOpt)\n        .catch(err => showError(`Javascript Error: ${err.message}<br>This usually means there's a typo in your chart specification. See the javascript console for the full traceback.`));\n    }\n\n    if(typeof define === \"function\" && define.amd) {\n      requirejs.config({paths});\n      require([\"vega-embed\"], displayChart, err => showError(`Error loading script: ${err.message}`));\n    } else if (typeof vegaEmbed === \"function\") {\n      displayChart(vegaEmbed);\n    } else {\n      loadScript(\"vega\")\n        .then(() => loadScript(\"vega-lite\"))\n        .then(() => loadScript(\"vega-embed\"))\n        .catch(showError)\n        .then(() => displayChart(vegaEmbed));\n    }\n  })({\"config\": {\"view\": {\"continuousWidth\": 400, \"continuousHeight\": 300}}, \"data\": {\"name\": \"data-6aea45218228119fbeeed3708c50f151\"}, \"mark\": \"trail\", \"encoding\": {\"size\": {\"type\": \"quantitative\", \"field\": \"y\"}, \"x\": {\"type\": \"temporal\", \"field\": \"x\"}, \"y\": {\"type\": \"quantitative\", \"field\": \"y\"}}, \"height\": 360, \"width\": 900, \"$schema\": \"https://vega.github.io/schema/vega-lite/v4.8.1.json\", \"datasets\": {\"data-6aea45218228119fbeeed3708c50f151\": [{\"x\": \"2000-01-31T00:00:00\", \"y\": -0.002}, {\"x\": \"2000-02-29T00:00:00\", \"y\": 0.006999999999999999}, {\"x\": \"2000-03-31T00:00:00\", \"y\": -0.002}, {\"x\": \"2000-04-30T00:00:00\", \"y\": -0.003}, {\"x\": \"2000-05-31T00:00:00\", \"y\": 0.001}, {\"x\": \"2000-06-30T00:00:00\", \"y\": 0.005}, {\"x\": \"2000-07-31T00:00:00\", \"y\": 0.005}, {\"x\": \"2000-08-31T00:00:00\", \"y\": 0.003}, {\"x\": \"2000-09-30T00:00:00\", \"y\": 0.0}, {\"x\": \"2000-10-31T00:00:00\", \"y\": 0.0}, {\"x\": \"2000-11-30T00:00:00\", \"y\": 0.013000000000000001}, {\"x\": \"2000-12-31T00:00:00\", \"y\": 0.015}, {\"x\": \"2001-01-31T00:00:00\", \"y\": 0.012}, {\"x\": \"2001-02-28T00:00:00\", \"y\": 0.0}, {\"x\": \"2001-03-31T00:00:00\", \"y\": 0.008}, {\"x\": \"2001-04-30T00:00:00\", \"y\": 0.016}, {\"x\": \"2001-05-31T00:00:00\", \"y\": 0.017}, {\"x\": \"2001-06-30T00:00:00\", \"y\": 0.013999999999999999}, {\"x\": \"2001-07-31T00:00:00\", \"y\": 0.015}, {\"x\": \"2001-08-31T00:00:00\", \"y\": 0.01}, {\"x\": \"2001-09-30T00:00:00\", \"y\": -0.001}, {\"x\": \"2001-10-31T00:00:00\", \"y\": 0.002}, {\"x\": \"2001-11-30T00:00:00\", \"y\": -0.003}, {\"x\": \"2001-12-31T00:00:00\", \"y\": -0.003}, {\"x\": \"2002-01-31T00:00:00\", \"y\": -0.01}, {\"x\": \"2002-02-28T00:00:00\", \"y\": 0.0}, {\"x\": \"2002-03-31T00:00:00\", \"y\": -0.008}, {\"x\": \"2002-04-30T00:00:00\", \"y\": -0.013000000000000001}, {\"x\": \"2002-05-31T00:00:00\", \"y\": -0.011000000000000001}, {\"x\": \"2002-06-30T00:00:00\", \"y\": -0.008}, {\"x\": \"2002-07-31T00:00:00\", \"y\": -0.009000000000000001}, {\"x\": \"2002-08-31T00:00:00\", \"y\": -0.006999999999999999}, {\"x\": \"2002-09-30T00:00:00\", \"y\": -0.006999999999999999}, {\"x\": \"2002-10-31T00:00:00\", \"y\": -0.008}, {\"x\": \"2002-11-30T00:00:00\", \"y\": -0.006999999999999999}, {\"x\": \"2002-12-31T00:00:00\", \"y\": -0.004}, {\"x\": \"2003-01-31T00:00:00\", \"y\": 0.0039000000000000003}, {\"x\": \"2003-02-28T00:00:00\", \"y\": 0.002}, {\"x\": \"2003-03-31T00:00:00\", \"y\": 0.0092}, {\"x\": \"2003-04-30T00:00:00\", \"y\": 0.0104}, {\"x\": \"2003-05-31T00:00:00\", \"y\": 0.0066}, {\"x\": \"2003-06-30T00:00:00\", \"y\": 0.0034000000000000002}, {\"x\": \"2003-07-31T00:00:00\", \"y\": 0.0052}, {\"x\": \"2003-08-31T00:00:00\", \"y\": 0.0091}, {\"x\": \"2003-09-30T00:00:00\", \"y\": 0.0111}, {\"x\": \"2003-10-31T00:00:00\", \"y\": 0.0181}, {\"x\": \"2003-11-30T00:00:00\", \"y\": 0.029500000000000002}, {\"x\": \"2003-12-31T00:00:00\", \"y\": 0.0319}, {\"x\": \"2004-01-31T00:00:00\", \"y\": 0.0317}, {\"x\": \"2004-02-29T00:00:00\", \"y\": 0.0209}, {\"x\": \"2004-03-31T00:00:00\", \"y\": 0.0304}, {\"x\": \"2004-04-30T00:00:00\", \"y\": 0.038}, {\"x\": \"2004-05-31T00:00:00\", \"y\": 0.0437}, {\"x\": \"2004-06-30T00:00:00\", \"y\": 0.049699999999999994}, {\"x\": \"2004-07-31T00:00:00\", \"y\": 0.0527}, {\"x\": \"2004-08-31T00:00:00\", \"y\": 0.0525}, {\"x\": \"2004-09-30T00:00:00\", \"y\": 0.0519}, {\"x\": \"2004-10-31T00:00:00\", \"y\": 0.042699999999999995}, {\"x\": \"2004-11-30T00:00:00\", \"y\": 0.0285}, {\"x\": \"2004-12-31T00:00:00\", \"y\": 0.0242}, {\"x\": \"2005-01-31T00:00:00\", \"y\": 0.0191}, {\"x\": \"2005-02-28T00:00:00\", \"y\": 0.0395}, {\"x\": \"2005-03-31T00:00:00\", \"y\": 0.0269}, {\"x\": \"2005-04-30T00:00:00\", \"y\": 0.0183}, {\"x\": \"2005-05-31T00:00:00\", \"y\": 0.0176}, {\"x\": \"2005-06-30T00:00:00\", \"y\": 0.016}, {\"x\": \"2005-07-31T00:00:00\", \"y\": 0.018000000000000002}, {\"x\": \"2005-08-31T00:00:00\", \"y\": 0.0126}, {\"x\": \"2005-09-30T00:00:00\", \"y\": 0.0088}, {\"x\": \"2005-10-31T00:00:00\", \"y\": 0.012199999999999999}, {\"x\": \"2005-11-30T00:00:00\", \"y\": 0.0131}, {\"x\": \"2005-12-31T00:00:00\", \"y\": 0.015600000000000001}, {\"x\": \"2006-01-31T00:00:00\", \"y\": 0.0189}, {\"x\": \"2006-02-28T00:00:00\", \"y\": 0.0086}, {\"x\": \"2006-03-31T00:00:00\", \"y\": 0.008}, {\"x\": \"2006-04-30T00:00:00\", \"y\": 0.0121}, {\"x\": \"2006-05-31T00:00:00\", \"y\": 0.0138}, {\"x\": \"2006-06-30T00:00:00\", \"y\": 0.0151}, {\"x\": \"2006-07-31T00:00:00\", \"y\": 0.0103}, {\"x\": \"2006-08-31T00:00:00\", \"y\": 0.0132}, {\"x\": \"2006-09-30T00:00:00\", \"y\": 0.0151}, {\"x\": \"2006-10-31T00:00:00\", \"y\": 0.0141}, {\"x\": \"2006-11-30T00:00:00\", \"y\": 0.018799999999999997}, {\"x\": \"2006-12-31T00:00:00\", \"y\": 0.0281}, {\"x\": \"2007-01-31T00:00:00\", \"y\": 0.0217}, {\"x\": \"2007-02-28T00:00:00\", \"y\": 0.0271}, {\"x\": \"2007-03-31T00:00:00\", \"y\": 0.032799999999999996}, {\"x\": \"2007-04-30T00:00:00\", \"y\": 0.030299999999999997}, {\"x\": \"2007-05-31T00:00:00\", \"y\": 0.0339}, {\"x\": \"2007-06-30T00:00:00\", \"y\": 0.0436}, {\"x\": \"2007-07-31T00:00:00\", \"y\": 0.0562}, {\"x\": \"2007-08-31T00:00:00\", \"y\": 0.0652}, {\"x\": \"2007-09-30T00:00:00\", \"y\": 0.062400000000000004}, {\"x\": \"2007-10-31T00:00:00\", \"y\": 0.065}, {\"x\": \"2007-11-30T00:00:00\", \"y\": 0.0694}, {\"x\": \"2007-12-31T00:00:00\", \"y\": 0.06509999999999999}, {\"x\": \"2008-01-31T00:00:00\", \"y\": 0.0708}, {\"x\": \"2008-02-29T00:00:00\", \"y\": 0.0874}, {\"x\": \"2008-03-31T00:00:00\", \"y\": 0.08310000000000001}, {\"x\": \"2008-04-30T00:00:00\", \"y\": 0.0848}, {\"x\": \"2008-05-31T00:00:00\", \"y\": 0.07719999999999999}, {\"x\": \"2008-06-30T00:00:00\", \"y\": 0.0708}, {\"x\": \"2008-07-31T00:00:00\", \"y\": 0.063}, {\"x\": \"2008-08-31T00:00:00\", \"y\": 0.049}, {\"x\": \"2008-09-30T00:00:00\", \"y\": 0.0464}, {\"x\": \"2008-10-31T00:00:00\", \"y\": 0.0397}, {\"x\": \"2008-11-30T00:00:00\", \"y\": 0.024300000000000002}, {\"x\": \"2008-12-31T00:00:00\", \"y\": 0.012}, {\"x\": \"2009-01-31T00:00:00\", \"y\": 0.0095}, {\"x\": \"2009-02-28T00:00:00\", \"y\": -0.015600000000000001}, {\"x\": \"2009-03-31T00:00:00\", \"y\": -0.011699999999999999}, {\"x\": \"2009-04-30T00:00:00\", \"y\": -0.015}, {\"x\": \"2009-05-31T00:00:00\", \"y\": -0.0137}, {\"x\": \"2009-06-30T00:00:00\", \"y\": -0.0167}, {\"x\": \"2009-07-31T00:00:00\", \"y\": -0.0181}, {\"x\": \"2009-08-31T00:00:00\", \"y\": -0.012}, {\"x\": \"2009-09-30T00:00:00\", \"y\": -0.0079}, {\"x\": \"2009-10-31T00:00:00\", \"y\": -0.0053}, {\"x\": \"2009-11-30T00:00:00\", \"y\": 0.005600000000000001}, {\"x\": \"2009-12-31T00:00:00\", \"y\": 0.018600000000000002}, {\"x\": \"2010-01-31T00:00:00\", \"y\": 0.015300000000000001}, {\"x\": \"2010-02-28T00:00:00\", \"y\": 0.027000000000000003}, {\"x\": \"2010-03-31T00:00:00\", \"y\": 0.023700000000000002}, {\"x\": \"2010-04-30T00:00:00\", \"y\": 0.0281}, {\"x\": \"2010-05-31T00:00:00\", \"y\": 0.030600000000000002}, {\"x\": \"2010-06-30T00:00:00\", \"y\": 0.029500000000000002}, {\"x\": \"2010-07-31T00:00:00\", \"y\": 0.033}, {\"x\": \"2010-08-31T00:00:00\", \"y\": 0.0348}, {\"x\": \"2010-09-30T00:00:00\", \"y\": 0.0361}, {\"x\": \"2010-10-31T00:00:00\", \"y\": 0.0437}, {\"x\": \"2010-11-30T00:00:00\", \"y\": 0.0512}, {\"x\": \"2010-12-31T00:00:00\", \"y\": 0.045899999999999996}, {\"x\": \"2011-01-31T00:00:00\", \"y\": 0.049100000000000005}, {\"x\": \"2011-02-28T00:00:00\", \"y\": 0.049400000000000006}, {\"x\": \"2011-03-31T00:00:00\", \"y\": 0.0538}, {\"x\": \"2011-04-30T00:00:00\", \"y\": 0.053399999999999996}, {\"x\": \"2011-05-31T00:00:00\", \"y\": 0.055099999999999996}, {\"x\": \"2011-06-30T00:00:00\", \"y\": 0.0636}, {\"x\": \"2011-07-31T00:00:00\", \"y\": 0.0645}, {\"x\": \"2011-08-31T00:00:00\", \"y\": 0.061500000000000006}, {\"x\": \"2011-09-30T00:00:00\", \"y\": 0.060700000000000004}, {\"x\": \"2011-10-31T00:00:00\", \"y\": 0.055}, {\"x\": \"2011-11-30T00:00:00\", \"y\": 0.042199999999999994}, {\"x\": \"2011-12-31T00:00:00\", \"y\": 0.0407}, {\"x\": \"2012-01-31T00:00:00\", \"y\": 0.0455}, {\"x\": \"2012-02-29T00:00:00\", \"y\": 0.0316}, {\"x\": \"2012-03-31T00:00:00\", \"y\": 0.0359}, {\"x\": \"2012-04-30T00:00:00\", \"y\": 0.0337}, {\"x\": \"2012-05-31T00:00:00\", \"y\": 0.03}, {\"x\": \"2012-06-30T00:00:00\", \"y\": 0.0215}, {\"x\": \"2012-07-31T00:00:00\", \"y\": 0.0178}, {\"x\": \"2012-08-31T00:00:00\", \"y\": 0.0204}, {\"x\": \"2012-09-30T00:00:00\", \"y\": 0.0191}, {\"x\": \"2012-10-31T00:00:00\", \"y\": 0.0172}, {\"x\": \"2012-11-30T00:00:00\", \"y\": 0.0204}, {\"x\": \"2012-12-31T00:00:00\", \"y\": 0.0252}, {\"x\": \"2013-01-31T00:00:00\", \"y\": 0.0203}, {\"x\": \"2013-02-28T00:00:00\", \"y\": 0.0322}, {\"x\": \"2013-03-31T00:00:00\", \"y\": 0.0207}, {\"x\": \"2013-04-30T00:00:00\", \"y\": 0.0239}, {\"x\": \"2013-05-31T00:00:00\", \"y\": 0.021}, {\"x\": \"2013-06-30T00:00:00\", \"y\": 0.026699999999999998}, {\"x\": \"2013-07-31T00:00:00\", \"y\": 0.026699999999999998}, {\"x\": \"2013-08-31T00:00:00\", \"y\": 0.025699999999999997}, {\"x\": \"2013-09-30T00:00:00\", \"y\": 0.0305}, {\"x\": \"2013-10-31T00:00:00\", \"y\": 0.0321}, {\"x\": \"2013-11-30T00:00:00\", \"y\": 0.0302}, {\"x\": \"2013-12-31T00:00:00\", \"y\": 0.025}, {\"x\": \"2014-01-31T00:00:00\", \"y\": 0.024900000000000002}, {\"x\": \"2014-02-28T00:00:00\", \"y\": 0.0195}, {\"x\": \"2014-03-31T00:00:00\", \"y\": 0.023799999999999998}, {\"x\": \"2014-04-30T00:00:00\", \"y\": 0.018000000000000002}, {\"x\": \"2014-05-31T00:00:00\", \"y\": 0.0248}, {\"x\": \"2014-06-30T00:00:00\", \"y\": 0.023399999999999997}, {\"x\": \"2014-07-31T00:00:00\", \"y\": 0.0229}, {\"x\": \"2014-08-31T00:00:00\", \"y\": 0.0199}, {\"x\": \"2014-09-30T00:00:00\", \"y\": 0.0163}, {\"x\": \"2014-10-31T00:00:00\", \"y\": 0.016}, {\"x\": \"2014-11-30T00:00:00\", \"y\": 0.0144}, {\"x\": \"2014-12-31T00:00:00\", \"y\": 0.0151}, {\"x\": \"2015-01-31T00:00:00\", \"y\": 0.0076}, {\"x\": \"2015-02-28T00:00:00\", \"y\": 0.0143}, {\"x\": \"2015-03-31T00:00:00\", \"y\": 0.0138}, {\"x\": \"2015-04-30T00:00:00\", \"y\": 0.0151}, {\"x\": \"2015-05-31T00:00:00\", \"y\": 0.0123}, {\"x\": \"2015-06-30T00:00:00\", \"y\": 0.0139}, {\"x\": \"2015-07-31T00:00:00\", \"y\": 0.0165}, {\"x\": \"2015-08-31T00:00:00\", \"y\": 0.0196}, {\"x\": \"2015-09-30T00:00:00\", \"y\": 0.016}, {\"x\": \"2015-10-31T00:00:00\", \"y\": 0.0127}, {\"x\": \"2015-11-30T00:00:00\", \"y\": 0.0149}, {\"x\": \"2015-12-31T00:00:00\", \"y\": 0.016399999999999998}, {\"x\": \"2016-01-31T00:00:00\", \"y\": 0.0175}, {\"x\": \"2016-02-29T00:00:00\", \"y\": 0.022799999999999997}, {\"x\": \"2016-03-31T00:00:00\", \"y\": 0.023}, {\"x\": \"2016-04-30T00:00:00\", \"y\": 0.0233}, {\"x\": \"2016-05-31T00:00:00\", \"y\": 0.0204}, {\"x\": \"2016-06-30T00:00:00\", \"y\": 0.018799999999999997}, {\"x\": \"2016-07-31T00:00:00\", \"y\": 0.0177}, {\"x\": \"2016-08-31T00:00:00\", \"y\": 0.0134}, {\"x\": \"2016-09-30T00:00:00\", \"y\": 0.0192}, {\"x\": \"2016-10-31T00:00:00\", \"y\": 0.021}, {\"x\": \"2016-11-30T00:00:00\", \"y\": 0.0225}, {\"x\": \"2016-12-31T00:00:00\", \"y\": 0.0208}, {\"x\": \"2017-01-31T00:00:00\", \"y\": 0.0255}, {\"x\": \"2017-02-28T00:00:00\", \"y\": 0.008}, {\"x\": \"2017-03-31T00:00:00\", \"y\": 0.0092}, {\"x\": \"2017-04-30T00:00:00\", \"y\": 0.011699999999999999}, {\"x\": \"2017-05-31T00:00:00\", \"y\": 0.0152}, {\"x\": \"2017-06-30T00:00:00\", \"y\": 0.015}, {\"x\": \"2017-07-31T00:00:00\", \"y\": 0.0141}, {\"x\": \"2017-08-31T00:00:00\", \"y\": 0.0177}, {\"x\": \"2017-09-30T00:00:00\", \"y\": 0.0163}, {\"x\": \"2017-10-31T00:00:00\", \"y\": 0.0187}, {\"x\": \"2017-11-30T00:00:00\", \"y\": 0.0173}, {\"x\": \"2017-12-31T00:00:00\", \"y\": 0.018500000000000003}, {\"x\": \"2018-01-31T00:00:00\", \"y\": 0.0147}, {\"x\": \"2018-02-28T00:00:00\", \"y\": 0.028999999999999998}, {\"x\": \"2018-03-31T00:00:00\", \"y\": 0.0206}, {\"x\": \"2018-04-30T00:00:00\", \"y\": 0.018000000000000002}, {\"x\": \"2018-05-31T00:00:00\", \"y\": 0.0175}, {\"x\": \"2018-06-30T00:00:00\", \"y\": 0.018500000000000003}, {\"x\": \"2018-07-31T00:00:00\", \"y\": 0.0206}, {\"x\": \"2018-08-31T00:00:00\", \"y\": 0.023}, {\"x\": \"2018-09-30T00:00:00\", \"y\": 0.024700000000000003}, {\"x\": \"2018-10-31T00:00:00\", \"y\": 0.0254}, {\"x\": \"2018-11-30T00:00:00\", \"y\": 0.0218}, {\"x\": \"2018-12-31T00:00:00\", \"y\": 0.018600000000000002}, {\"x\": \"2019-01-31T00:00:00\", \"y\": 0.0174}, {\"x\": \"2019-02-28T00:00:00\", \"y\": 0.0149}, {\"x\": \"2019-03-31T00:00:00\", \"y\": 0.022799999999999997}, {\"x\": \"2019-04-30T00:00:00\", \"y\": 0.0254}, {\"x\": \"2019-05-31T00:00:00\", \"y\": 0.0274}, {\"x\": \"2019-06-30T00:00:00\", \"y\": 0.0268}, {\"x\": \"2019-07-31T00:00:00\", \"y\": 0.0278}, {\"x\": \"2019-08-31T00:00:00\", \"y\": 0.028399999999999998}, {\"x\": \"2019-09-30T00:00:00\", \"y\": 0.0302}, {\"x\": \"2019-10-31T00:00:00\", \"y\": 0.037599999999999995}, {\"x\": \"2019-11-30T00:00:00\", \"y\": 0.0449}, {\"x\": \"2019-12-31T00:00:00\", \"y\": 0.0446}, {\"x\": \"2020-01-31T00:00:00\", \"y\": 0.0538}, {\"x\": \"2020-02-29T00:00:00\", \"y\": 0.051699999999999996}, {\"x\": \"2020-03-31T00:00:00\", \"y\": 0.042699999999999995}, {\"x\": \"2020-04-30T00:00:00\", \"y\": 0.033}, {\"x\": \"2020-05-31T00:00:00\", \"y\": 0.024399999999999998}, {\"x\": \"2020-06-30T00:00:00\", \"y\": 0.0248}, {\"x\": \"2020-07-31T00:00:00\", \"y\": 0.027000000000000003}, {\"x\": \"2020-08-31T00:00:00\", \"y\": 0.023799999999999998}, {\"x\": \"2020-09-30T00:00:00\", \"y\": 0.0172}, {\"x\": \"2020-10-31T00:00:00\", \"y\": 0.005}, {\"x\": \"2020-11-30T00:00:00\", \"y\": -0.005}, {\"x\": \"2020-12-31T00:00:00\", \"y\": 0.002}, {\"x\": \"2021-01-31T00:00:00\", \"y\": -0.003}, {\"x\": \"2021-02-28T00:00:00\", \"y\": -0.002}, {\"x\": \"2021-03-31T00:00:00\", \"y\": 0.004}, {\"x\": \"2021-04-30T00:00:00\", \"y\": 0.009000000000000001}, {\"x\": \"2021-05-31T00:00:00\", \"y\": 0.013000000000000001}, {\"x\": \"2021-06-30T00:00:00\", \"y\": 0.011000000000000001}, {\"x\": \"2021-07-31T00:00:00\", \"y\": 0.01}, {\"x\": \"2021-08-31T00:00:00\", \"y\": 0.008}, {\"x\": \"2021-09-30T00:00:00\", \"y\": 0.006999999999999999}, {\"x\": \"2021-10-31T00:00:00\", \"y\": 0.015}, {\"x\": \"2021-11-30T00:00:00\", \"y\": 0.023}, {\"x\": \"2021-12-31T00:00:00\", \"y\": 0.015}, {\"x\": \"2022-01-31T00:00:00\", \"y\": 0.009000000000000001}, {\"x\": \"2022-02-28T00:00:00\", \"y\": 0.009000000000000001}, {\"x\": \"2022-03-31T00:00:00\", \"y\": 0.015}]}}, {\"mode\": \"vega-lite\"});\n</script>",
      "text/plain": "alt.Chart(...)"
     },
     "execution_count": 4,
     "metadata": {},
     "output_type": "execute_result"
    }
   ],
   "source": [
    "import altair as alt\n",
    "\n",
    "source = pd.DataFrame({\n",
    "    'x':data_CPI.index,\n",
    "    'y':data_CPI.CPI\n",
    "})\n",
    "\n",
    "chart = alt.Chart(source).mark_trail().encode(\n",
    "    x='x:T',\n",
    "    y='y:Q',\n",
    "    size='y:Q').properties(\n",
    "    width = 150*6,\n",
    "    height=60*6)\n",
    "\n",
    "chart"
   ],
   "metadata": {
    "collapsed": false,
    "pycharm": {
     "name": "#%%\n"
    }
   }
  },
  {
   "cell_type": "markdown",
   "source": [
    "data_CPI数据集中states列的1表示CPI上升，即通胀，0表示CPI下降，即通缩。"
   ],
   "metadata": {
    "collapsed": false,
    "pycharm": {
     "name": "#%% md\n"
    }
   }
  },
  {
   "cell_type": "code",
   "execution_count": 28,
   "outputs": [],
   "source": [
    "# 存储CPI_states\n",
    "data_CPI.to_excel('data/MSTAA_data/CPI_states.xlsx')"
   ],
   "metadata": {
    "collapsed": false,
    "pycharm": {
     "name": "#%%\n"
    }
   }
  },
  {
   "cell_type": "markdown",
   "source": [
    "将2000年1月1日至今的宏观经济状态根据CPI划分为扩张和收缩两个阶段，详见下表：\n",
    "![](media/img_4.png)"
   ],
   "metadata": {
    "collapsed": false,
    "pycharm": {
     "name": "#%% md\n"
    }
   }
  },
  {
   "cell_type": "markdown",
   "source": [
    "### 2.1.3 获取利率数据"
   ],
   "metadata": {
    "collapsed": false,
    "pycharm": {
     "name": "#%% md\n"
    }
   }
  },
  {
   "cell_type": "markdown",
   "source": [],
   "metadata": {
    "collapsed": false,
    "pycharm": {
     "name": "#%% md\n"
    }
   }
  },
  {
   "cell_type": "code",
   "execution_count": 1,
   "outputs": [
    {
     "data": {
      "text/plain": "              rate\ndate              \n2014-04-11  0.0577\n2011-08-04  0.0656\n2014-04-04  0.0577",
      "text/html": "<div>\n<style scoped>\n    .dataframe tbody tr th:only-of-type {\n        vertical-align: middle;\n    }\n\n    .dataframe tbody tr th {\n        vertical-align: top;\n    }\n\n    .dataframe thead th {\n        text-align: right;\n    }\n</style>\n<table border=\"1\" class=\"dataframe\">\n  <thead>\n    <tr style=\"text-align: right;\">\n      <th></th>\n      <th>rate</th>\n    </tr>\n    <tr>\n      <th>date</th>\n      <th></th>\n    </tr>\n  </thead>\n  <tbody>\n    <tr>\n      <th>2014-04-11</th>\n      <td>0.0577</td>\n    </tr>\n    <tr>\n      <th>2011-08-04</th>\n      <td>0.0656</td>\n    </tr>\n    <tr>\n      <th>2014-04-04</th>\n      <td>0.0577</td>\n    </tr>\n  </tbody>\n</table>\n</div>"
     },
     "execution_count": 1,
     "metadata": {},
     "output_type": "execute_result"
    }
   ],
   "source": [
    "import pandas as pd\n",
    "\n",
    "data_RATE = pd.read_excel('data/MSTAA_data/rate.xlsx',\n",
    "                          sheet_name='rate',\n",
    "                          index_col='date',\n",
    "                          parse_dates=True,\n",
    "                          na_filter=True)\n",
    "\n",
    "data_RATE.fillna(method='ffill', inplace=True)\n",
    "data_RATE_ = data_RATE.apply(lambda x : x / 100)\n",
    "data_RATE_.sample(3)"
   ],
   "metadata": {
    "collapsed": false,
    "pycharm": {
     "name": "#%%\n"
    }
   }
  },
  {
   "cell_type": "code",
   "execution_count": 2,
   "outputs": [
    {
     "data": {
      "text/html": "\n<div id=\"altair-viz-0ddb40bd5a504292aaba7f1b1ff770be\"></div>\n<script type=\"text/javascript\">\n  (function(spec, embedOpt){\n    let outputDiv = document.currentScript.previousElementSibling;\n    if (outputDiv.id !== \"altair-viz-0ddb40bd5a504292aaba7f1b1ff770be\") {\n      outputDiv = document.getElementById(\"altair-viz-0ddb40bd5a504292aaba7f1b1ff770be\");\n    }\n    const paths = {\n      \"vega\": \"https://cdn.jsdelivr.net/npm//vega@5?noext\",\n      \"vega-lib\": \"https://cdn.jsdelivr.net/npm//vega-lib?noext\",\n      \"vega-lite\": \"https://cdn.jsdelivr.net/npm//vega-lite@4.8.1?noext\",\n      \"vega-embed\": \"https://cdn.jsdelivr.net/npm//vega-embed@6?noext\",\n    };\n\n    function loadScript(lib) {\n      return new Promise(function(resolve, reject) {\n        var s = document.createElement('script');\n        s.src = paths[lib];\n        s.async = true;\n        s.onload = () => resolve(paths[lib]);\n        s.onerror = () => reject(`Error loading script: ${paths[lib]}`);\n        document.getElementsByTagName(\"head\")[0].appendChild(s);\n      });\n    }\n\n    function showError(err) {\n      outputDiv.innerHTML = `<div class=\"error\" style=\"color:red;\">${err}</div>`;\n      throw err;\n    }\n\n    function displayChart(vegaEmbed) {\n      vegaEmbed(outputDiv, spec, embedOpt)\n        .catch(err => showError(`Javascript Error: ${err.message}<br>This usually means there's a typo in your chart specification. See the javascript console for the full traceback.`));\n    }\n\n    if(typeof define === \"function\" && define.amd) {\n      requirejs.config({paths});\n      require([\"vega-embed\"], displayChart, err => showError(`Error loading script: ${err.message}`));\n    } else if (typeof vegaEmbed === \"function\") {\n      displayChart(vegaEmbed);\n    } else {\n      loadScript(\"vega\")\n        .then(() => loadScript(\"vega-lite\"))\n        .then(() => loadScript(\"vega-embed\"))\n        .catch(showError)\n        .then(() => displayChart(vegaEmbed));\n    }\n  })({\"config\": {\"view\": {\"continuousWidth\": 400, \"continuousHeight\": 300}}, \"data\": {\"name\": \"data-87be4431b70574fd36d75e42d4d5c808\"}, \"mark\": \"trail\", \"encoding\": {\"size\": {\"type\": \"quantitative\", \"field\": \"y\"}, \"x\": {\"type\": \"temporal\", \"field\": \"x\"}, \"y\": {\"type\": \"quantitative\", \"field\": \"y\"}}, \"height\": 360, \"width\": 900, \"$schema\": \"https://vega.github.io/schema/vega-lite/v4.8.1.json\", \"datasets\": {\"data-87be4431b70574fd36d75e42d4d5c808\": [{\"x\": \"2000-03-27T00:00:00\", \"y\": 0.058499999999999996}, {\"x\": \"2000-05-11T00:00:00\", \"y\": 0.058499999999999996}, {\"x\": \"2000-06-26T00:00:00\", \"y\": 0.058499999999999996}, {\"x\": \"2000-06-28T00:00:00\", \"y\": 0.058499999999999996}, {\"x\": \"2000-07-03T00:00:00\", \"y\": 0.058499999999999996}, {\"x\": \"2000-12-01T00:00:00\", \"y\": 0.058499999999999996}, {\"x\": \"2001-04-24T00:00:00\", \"y\": 0.058499999999999996}, {\"x\": \"2001-12-18T00:00:00\", \"y\": 0.058499999999999996}, {\"x\": \"2002-02-21T00:00:00\", \"y\": 0.053099999999999994}, {\"x\": \"2002-06-05T00:00:00\", \"y\": 0.053099999999999994}, {\"x\": \"2004-03-09T00:00:00\", \"y\": 0.053099999999999994}, {\"x\": \"2004-03-11T00:00:00\", \"y\": 0.053099999999999994}, {\"x\": \"2004-05-11T00:00:00\", \"y\": 0.053099999999999994}, {\"x\": \"2004-06-01T00:00:00\", \"y\": 0.053099999999999994}, {\"x\": \"2004-08-03T00:00:00\", \"y\": 0.053099999999999994}, {\"x\": \"2004-10-29T00:00:00\", \"y\": 0.0558}, {\"x\": \"2005-01-12T00:00:00\", \"y\": 0.0558}, {\"x\": \"2005-03-17T00:00:00\", \"y\": 0.0558}, {\"x\": \"2005-04-14T00:00:00\", \"y\": 0.0558}, {\"x\": \"2005-04-15T00:00:00\", \"y\": 0.0558}, {\"x\": \"2005-05-24T00:00:00\", \"y\": 0.0558}, {\"x\": \"2005-05-30T00:00:00\", \"y\": 0.0558}, {\"x\": \"2005-06-15T00:00:00\", \"y\": 0.0558}, {\"x\": \"2005-06-20T00:00:00\", \"y\": 0.0558}, {\"x\": \"2005-06-21T00:00:00\", \"y\": 0.0558}, {\"x\": \"2005-06-22T00:00:00\", \"y\": 0.0558}, {\"x\": \"2005-07-27T00:00:00\", \"y\": 0.0558}, {\"x\": \"2005-07-28T00:00:00\", \"y\": 0.0558}, {\"x\": \"2005-07-29T00:00:00\", \"y\": 0.0558}, {\"x\": \"2005-11-02T00:00:00\", \"y\": 0.0558}, {\"x\": \"2005-11-04T00:00:00\", \"y\": 0.0558}, {\"x\": \"2005-11-08T00:00:00\", \"y\": 0.0558}, {\"x\": \"2006-01-12T00:00:00\", \"y\": 0.0558}, {\"x\": \"2006-01-16T00:00:00\", \"y\": 0.0558}, {\"x\": \"2006-02-09T00:00:00\", \"y\": 0.0558}, {\"x\": \"2006-02-16T00:00:00\", \"y\": 0.0558}, {\"x\": \"2006-03-28T00:00:00\", \"y\": 0.0558}, {\"x\": \"2006-04-25T00:00:00\", \"y\": 0.0558}, {\"x\": \"2006-04-28T00:00:00\", \"y\": 0.058499999999999996}, {\"x\": \"2006-07-14T00:00:00\", \"y\": 0.058499999999999996}, {\"x\": \"2006-08-19T00:00:00\", \"y\": 0.061200000000000004}, {\"x\": \"2006-11-20T00:00:00\", \"y\": 0.061200000000000004}, {\"x\": \"2006-12-25T00:00:00\", \"y\": 0.061200000000000004}, {\"x\": \"2006-12-26T00:00:00\", \"y\": 0.061200000000000004}, {\"x\": \"2006-12-30T00:00:00\", \"y\": 0.061200000000000004}, {\"x\": \"2007-01-10T00:00:00\", \"y\": 0.061200000000000004}, {\"x\": \"2007-01-11T00:00:00\", \"y\": 0.061200000000000004}, {\"x\": \"2007-01-15T00:00:00\", \"y\": 0.061200000000000004}, {\"x\": \"2007-01-16T00:00:00\", \"y\": 0.061200000000000004}, {\"x\": \"2007-01-17T00:00:00\", \"y\": 0.061200000000000004}, {\"x\": \"2007-01-22T00:00:00\", \"y\": 0.061200000000000004}, {\"x\": \"2007-01-23T00:00:00\", \"y\": 0.061200000000000004}, {\"x\": \"2007-01-24T00:00:00\", \"y\": 0.061200000000000004}, {\"x\": \"2007-01-25T00:00:00\", \"y\": 0.061200000000000004}, {\"x\": \"2007-02-05T00:00:00\", \"y\": 0.061200000000000004}, {\"x\": \"2007-02-07T00:00:00\", \"y\": 0.061200000000000004}, {\"x\": \"2007-02-09T00:00:00\", \"y\": 0.061200000000000004}, {\"x\": \"2007-02-26T00:00:00\", \"y\": 0.061200000000000004}, {\"x\": \"2007-03-18T00:00:00\", \"y\": 0.0639}, {\"x\": \"2007-05-19T00:00:00\", \"y\": 0.06570000000000001}, {\"x\": \"2007-06-29T00:00:00\", \"y\": 0.06570000000000001}, {\"x\": \"2007-07-11T00:00:00\", \"y\": 0.06570000000000001}, {\"x\": \"2007-07-21T00:00:00\", \"y\": 0.0684}, {\"x\": \"2007-08-22T00:00:00\", \"y\": 0.0702}, {\"x\": \"2007-09-15T00:00:00\", \"y\": 0.0729}, {\"x\": \"2007-12-21T00:00:00\", \"y\": 0.0747}, {\"x\": \"2008-02-05T00:00:00\", \"y\": 0.0747}, {\"x\": \"2008-02-19T00:00:00\", \"y\": 0.0747}, {\"x\": \"2008-02-20T00:00:00\", \"y\": 0.0747}, {\"x\": \"2008-02-26T00:00:00\", \"y\": 0.0747}, {\"x\": \"2008-02-27T00:00:00\", \"y\": 0.0747}, {\"x\": \"2008-02-28T00:00:00\", \"y\": 0.0747}, {\"x\": \"2008-02-29T00:00:00\", \"y\": 0.0747}, {\"x\": \"2008-03-03T00:00:00\", \"y\": 0.0747}, {\"x\": \"2008-03-04T00:00:00\", \"y\": 0.0747}, {\"x\": \"2008-03-05T00:00:00\", \"y\": 0.0747}, {\"x\": \"2008-03-06T00:00:00\", \"y\": 0.0747}, {\"x\": \"2008-03-07T00:00:00\", \"y\": 0.0747}, {\"x\": \"2008-03-10T00:00:00\", \"y\": 0.0747}, {\"x\": \"2008-03-11T00:00:00\", \"y\": 0.0747}, {\"x\": \"2008-03-12T00:00:00\", \"y\": 0.0747}, {\"x\": \"2008-03-13T00:00:00\", \"y\": 0.0747}, {\"x\": \"2008-03-14T00:00:00\", \"y\": 0.0747}, {\"x\": \"2008-03-17T00:00:00\", \"y\": 0.0747}, {\"x\": \"2008-03-18T00:00:00\", \"y\": 0.0747}, {\"x\": \"2008-03-19T00:00:00\", \"y\": 0.0747}, {\"x\": \"2008-03-20T00:00:00\", \"y\": 0.0747}, {\"x\": \"2008-03-21T00:00:00\", \"y\": 0.0747}, {\"x\": \"2008-03-24T00:00:00\", \"y\": 0.0747}, {\"x\": \"2008-03-25T00:00:00\", \"y\": 0.0747}, {\"x\": \"2008-03-26T00:00:00\", \"y\": 0.0747}, {\"x\": \"2008-03-27T00:00:00\", \"y\": 0.0747}, {\"x\": \"2008-03-28T00:00:00\", \"y\": 0.0747}, {\"x\": \"2008-03-31T00:00:00\", \"y\": 0.0747}, {\"x\": \"2008-04-01T00:00:00\", \"y\": 0.0747}, {\"x\": \"2008-04-03T00:00:00\", \"y\": 0.0747}, {\"x\": \"2008-04-07T00:00:00\", \"y\": 0.0747}, {\"x\": \"2008-04-08T00:00:00\", \"y\": 0.0747}, {\"x\": \"2008-04-09T00:00:00\", \"y\": 0.0747}, {\"x\": \"2008-04-10T00:00:00\", \"y\": 0.0747}, {\"x\": \"2008-04-11T00:00:00\", \"y\": 0.0747}, {\"x\": \"2008-04-14T00:00:00\", \"y\": 0.0747}, {\"x\": \"2008-04-15T00:00:00\", \"y\": 0.0747}, {\"x\": \"2008-04-16T00:00:00\", \"y\": 0.0747}, {\"x\": \"2008-04-17T00:00:00\", \"y\": 0.0747}, {\"x\": \"2008-04-18T00:00:00\", \"y\": 0.0747}, {\"x\": \"2008-04-21T00:00:00\", \"y\": 0.0747}, {\"x\": \"2008-04-22T00:00:00\", \"y\": 0.0747}, {\"x\": \"2008-04-23T00:00:00\", \"y\": 0.0747}, {\"x\": \"2008-04-24T00:00:00\", \"y\": 0.0747}, {\"x\": \"2008-04-25T00:00:00\", \"y\": 0.0747}, {\"x\": \"2008-04-28T00:00:00\", \"y\": 0.0747}, {\"x\": \"2008-04-29T00:00:00\", \"y\": 0.0747}, {\"x\": \"2008-04-30T00:00:00\", \"y\": 0.0747}, {\"x\": \"2008-05-04T00:00:00\", \"y\": 0.0747}, {\"x\": \"2008-05-05T00:00:00\", \"y\": 0.0747}, {\"x\": \"2008-05-06T00:00:00\", \"y\": 0.0747}, {\"x\": \"2008-05-07T00:00:00\", \"y\": 0.0747}, {\"x\": \"2008-05-08T00:00:00\", \"y\": 0.0747}, {\"x\": \"2008-05-09T00:00:00\", \"y\": 0.0747}, {\"x\": \"2008-05-12T00:00:00\", \"y\": 0.0747}, {\"x\": \"2008-05-13T00:00:00\", \"y\": 0.0747}, {\"x\": \"2008-05-14T00:00:00\", \"y\": 0.0747}, {\"x\": \"2008-05-15T00:00:00\", \"y\": 0.0747}, {\"x\": \"2008-05-28T00:00:00\", \"y\": 0.0747}, {\"x\": \"2008-06-04T00:00:00\", \"y\": 0.0747}, {\"x\": \"2008-06-05T00:00:00\", \"y\": 0.0747}, {\"x\": \"2008-06-11T00:00:00\", \"y\": 0.0747}, {\"x\": \"2008-06-13T00:00:00\", \"y\": 0.0747}, {\"x\": \"2008-06-20T00:00:00\", \"y\": 0.0747}, {\"x\": \"2008-06-30T00:00:00\", \"y\": 0.0747}, {\"x\": \"2008-07-03T00:00:00\", \"y\": 0.0747}, {\"x\": \"2008-07-29T00:00:00\", \"y\": 0.0747}, {\"x\": \"2008-07-30T00:00:00\", \"y\": 0.0747}, {\"x\": \"2008-07-31T00:00:00\", \"y\": 0.0747}, {\"x\": \"2008-08-01T00:00:00\", \"y\": 0.0747}, {\"x\": \"2008-08-04T00:00:00\", \"y\": 0.0747}, {\"x\": \"2008-08-05T00:00:00\", \"y\": 0.0747}, {\"x\": \"2008-08-06T00:00:00\", \"y\": 0.0747}, {\"x\": \"2008-08-07T00:00:00\", \"y\": 0.0747}, {\"x\": \"2008-08-08T00:00:00\", \"y\": 0.0747}, {\"x\": \"2008-08-11T00:00:00\", \"y\": 0.0747}, {\"x\": \"2008-08-12T00:00:00\", \"y\": 0.0747}, {\"x\": \"2008-08-13T00:00:00\", \"y\": 0.0747}, {\"x\": \"2008-08-14T00:00:00\", \"y\": 0.0747}, {\"x\": \"2008-08-15T00:00:00\", \"y\": 0.0747}, {\"x\": \"2008-08-18T00:00:00\", \"y\": 0.0747}, {\"x\": \"2008-08-19T00:00:00\", \"y\": 0.0747}, {\"x\": \"2008-08-20T00:00:00\", \"y\": 0.0747}, {\"x\": \"2008-08-21T00:00:00\", \"y\": 0.0747}, {\"x\": \"2008-08-22T00:00:00\", \"y\": 0.0747}, {\"x\": \"2008-08-25T00:00:00\", \"y\": 0.0747}, {\"x\": \"2008-08-26T00:00:00\", \"y\": 0.0747}, {\"x\": \"2008-08-27T00:00:00\", \"y\": 0.0747}, {\"x\": \"2008-08-28T00:00:00\", \"y\": 0.0747}, {\"x\": \"2008-08-29T00:00:00\", \"y\": 0.0747}, {\"x\": \"2008-09-01T00:00:00\", \"y\": 0.0747}, {\"x\": \"2008-09-02T00:00:00\", \"y\": 0.0747}, {\"x\": \"2008-09-03T00:00:00\", \"y\": 0.0747}, {\"x\": \"2008-09-04T00:00:00\", \"y\": 0.0747}, {\"x\": \"2008-09-05T00:00:00\", \"y\": 0.0747}, {\"x\": \"2008-09-08T00:00:00\", \"y\": 0.0747}, {\"x\": \"2008-09-09T00:00:00\", \"y\": 0.0747}, {\"x\": \"2008-09-10T00:00:00\", \"y\": 0.0747}, {\"x\": \"2008-09-11T00:00:00\", \"y\": 0.0747}, {\"x\": \"2008-09-12T00:00:00\", \"y\": 0.0747}, {\"x\": \"2008-09-16T00:00:00\", \"y\": 0.07200000000000001}, {\"x\": \"2008-09-17T00:00:00\", \"y\": 0.07200000000000001}, {\"x\": \"2008-09-18T00:00:00\", \"y\": 0.07200000000000001}, {\"x\": \"2008-09-19T00:00:00\", \"y\": 0.07200000000000001}, {\"x\": \"2008-09-23T00:00:00\", \"y\": 0.07200000000000001}, {\"x\": \"2008-09-24T00:00:00\", \"y\": 0.07200000000000001}, {\"x\": \"2008-09-25T00:00:00\", \"y\": 0.07200000000000001}, {\"x\": \"2008-09-26T00:00:00\", \"y\": 0.07200000000000001}, {\"x\": \"2008-09-28T00:00:00\", \"y\": 0.07200000000000001}, {\"x\": \"2008-10-06T00:00:00\", \"y\": 0.07200000000000001}, {\"x\": \"2008-10-07T00:00:00\", \"y\": 0.07200000000000001}, {\"x\": \"2008-10-08T00:00:00\", \"y\": 0.07200000000000001}, {\"x\": \"2008-10-09T00:00:00\", \"y\": 0.0693}, {\"x\": \"2008-10-10T00:00:00\", \"y\": 0.0693}, {\"x\": \"2008-10-13T00:00:00\", \"y\": 0.0693}, {\"x\": \"2008-10-14T00:00:00\", \"y\": 0.0693}, {\"x\": \"2008-10-15T00:00:00\", \"y\": 0.0693}, {\"x\": \"2008-10-16T00:00:00\", \"y\": 0.0693}, {\"x\": \"2008-10-17T00:00:00\", \"y\": 0.0693}, {\"x\": \"2008-10-20T00:00:00\", \"y\": 0.0693}, {\"x\": \"2008-10-21T00:00:00\", \"y\": 0.0693}, {\"x\": \"2008-10-22T00:00:00\", \"y\": 0.0693}, {\"x\": \"2008-10-23T00:00:00\", \"y\": 0.0693}, {\"x\": \"2008-10-24T00:00:00\", \"y\": 0.0693}, {\"x\": \"2008-10-27T00:00:00\", \"y\": 0.0693}, {\"x\": \"2008-10-28T00:00:00\", \"y\": 0.0693}, {\"x\": \"2008-10-29T00:00:00\", \"y\": 0.0693}, {\"x\": \"2008-10-30T00:00:00\", \"y\": 0.0666}, {\"x\": \"2008-10-31T00:00:00\", \"y\": 0.0666}, {\"x\": \"2008-11-03T00:00:00\", \"y\": 0.0666}, {\"x\": \"2008-11-04T00:00:00\", \"y\": 0.0666}, {\"x\": \"2008-11-05T00:00:00\", \"y\": 0.0666}, {\"x\": \"2008-11-06T00:00:00\", \"y\": 0.0666}, {\"x\": \"2008-11-07T00:00:00\", \"y\": 0.0666}, {\"x\": \"2008-11-10T00:00:00\", \"y\": 0.0666}, {\"x\": \"2008-11-11T00:00:00\", \"y\": 0.0666}, {\"x\": \"2008-11-12T00:00:00\", \"y\": 0.0666}, {\"x\": \"2008-11-13T00:00:00\", \"y\": 0.0666}, {\"x\": \"2008-11-14T00:00:00\", \"y\": 0.0666}, {\"x\": \"2008-11-17T00:00:00\", \"y\": 0.0666}, {\"x\": \"2008-11-18T00:00:00\", \"y\": 0.0666}, {\"x\": \"2008-11-19T00:00:00\", \"y\": 0.0666}, {\"x\": \"2008-11-20T00:00:00\", \"y\": 0.0666}, {\"x\": \"2008-11-21T00:00:00\", \"y\": 0.0666}, {\"x\": \"2008-11-24T00:00:00\", \"y\": 0.0666}, {\"x\": \"2008-11-27T00:00:00\", \"y\": 0.0558}, {\"x\": \"2008-12-23T00:00:00\", \"y\": 0.053099999999999994}, {\"x\": \"2009-02-23T00:00:00\", \"y\": 0.053099999999999994}, {\"x\": \"2009-03-03T00:00:00\", \"y\": 0.053099999999999994}, {\"x\": \"2009-06-09T00:00:00\", \"y\": 0.053099999999999994}, {\"x\": \"2009-06-16T00:00:00\", \"y\": 0.053099999999999994}, {\"x\": \"2009-06-18T00:00:00\", \"y\": 0.053099999999999994}, {\"x\": \"2009-06-19T00:00:00\", \"y\": 0.053099999999999994}, {\"x\": \"2009-06-23T00:00:00\", \"y\": 0.053099999999999994}, {\"x\": \"2009-06-25T00:00:00\", \"y\": 0.053099999999999994}, {\"x\": \"2009-06-30T00:00:00\", \"y\": 0.053099999999999994}, {\"x\": \"2009-07-14T00:00:00\", \"y\": 0.053099999999999994}, {\"x\": \"2009-07-21T00:00:00\", \"y\": 0.053099999999999994}, {\"x\": \"2009-07-28T00:00:00\", \"y\": 0.053099999999999994}, {\"x\": \"2009-07-29T00:00:00\", \"y\": 0.053099999999999994}, {\"x\": \"2009-07-31T00:00:00\", \"y\": 0.053099999999999994}, {\"x\": \"2009-08-04T00:00:00\", \"y\": 0.053099999999999994}, {\"x\": \"2009-08-07T00:00:00\", \"y\": 0.053099999999999994}, {\"x\": \"2009-08-14T00:00:00\", \"y\": 0.053099999999999994}, {\"x\": \"2009-08-17T00:00:00\", \"y\": 0.053099999999999994}, {\"x\": \"2009-08-20T00:00:00\", \"y\": 0.053099999999999994}, {\"x\": \"2009-08-21T00:00:00\", \"y\": 0.053099999999999994}, {\"x\": \"2009-08-26T00:00:00\", \"y\": 0.053099999999999994}, {\"x\": \"2009-08-28T00:00:00\", \"y\": 0.053099999999999994}, {\"x\": \"2009-08-31T00:00:00\", \"y\": 0.053099999999999994}, {\"x\": \"2009-09-03T00:00:00\", \"y\": 0.053099999999999994}, {\"x\": \"2009-10-13T00:00:00\", \"y\": 0.053099999999999994}, {\"x\": \"2009-10-14T00:00:00\", \"y\": 0.053099999999999994}, {\"x\": \"2009-10-20T00:00:00\", \"y\": 0.053099999999999994}, {\"x\": \"2009-10-22T00:00:00\", \"y\": 0.053099999999999994}, {\"x\": \"2009-11-18T00:00:00\", \"y\": 0.053099999999999994}, {\"x\": \"2010-01-06T00:00:00\", \"y\": 0.053099999999999994}, {\"x\": \"2010-02-21T00:00:00\", \"y\": 0.053099999999999994}, {\"x\": \"2010-02-22T00:00:00\", \"y\": 0.053099999999999994}, {\"x\": \"2010-03-31T00:00:00\", \"y\": 0.053099999999999994}, {\"x\": \"2010-04-14T00:00:00\", \"y\": 0.053099999999999994}, {\"x\": \"2010-06-23T00:00:00\", \"y\": 0.053099999999999994}, {\"x\": \"2010-07-16T00:00:00\", \"y\": 0.053099999999999994}, {\"x\": \"2010-08-11T00:00:00\", \"y\": 0.053099999999999994}, {\"x\": \"2010-08-17T00:00:00\", \"y\": 0.053099999999999994}, {\"x\": \"2010-08-23T00:00:00\", \"y\": 0.053099999999999994}, {\"x\": \"2010-08-25T00:00:00\", \"y\": 0.053099999999999994}, {\"x\": \"2010-10-20T00:00:00\", \"y\": 0.0556}, {\"x\": \"2010-10-29T00:00:00\", \"y\": 0.0556}, {\"x\": \"2010-12-06T00:00:00\", \"y\": 0.0556}, {\"x\": \"2010-12-23T00:00:00\", \"y\": 0.0556}, {\"x\": \"2010-12-26T00:00:00\", \"y\": 0.0581}, {\"x\": \"2011-01-13T00:00:00\", \"y\": 0.0581}, {\"x\": \"2011-01-14T00:00:00\", \"y\": 0.0581}, {\"x\": \"2011-01-20T00:00:00\", \"y\": 0.0581}, {\"x\": \"2011-02-09T00:00:00\", \"y\": 0.060599999999999994}, {\"x\": \"2011-04-06T00:00:00\", \"y\": 0.06309999999999999}, {\"x\": \"2011-06-15T00:00:00\", \"y\": 0.06309999999999999}, {\"x\": \"2011-07-04T00:00:00\", \"y\": 0.06309999999999999}, {\"x\": \"2011-07-06T00:00:00\", \"y\": 0.06309999999999999}, {\"x\": \"2011-07-07T00:00:00\", \"y\": 0.06559999999999999}, {\"x\": \"2011-07-15T00:00:00\", \"y\": 0.06559999999999999}, {\"x\": \"2011-07-20T00:00:00\", \"y\": 0.06559999999999999}, {\"x\": \"2011-08-04T00:00:00\", \"y\": 0.06559999999999999}, {\"x\": \"2011-08-10T00:00:00\", \"y\": 0.06559999999999999}, {\"x\": \"2011-08-12T00:00:00\", \"y\": 0.06559999999999999}, {\"x\": \"2011-08-15T00:00:00\", \"y\": 0.06559999999999999}, {\"x\": \"2011-08-18T00:00:00\", \"y\": 0.06559999999999999}, {\"x\": \"2011-08-19T00:00:00\", \"y\": 0.06559999999999999}, {\"x\": \"2011-09-02T00:00:00\", \"y\": 0.06559999999999999}, {\"x\": \"2011-09-07T00:00:00\", \"y\": 0.06559999999999999}, {\"x\": \"2011-09-14T00:00:00\", \"y\": 0.06559999999999999}, {\"x\": \"2011-09-15T00:00:00\", \"y\": 0.06559999999999999}, {\"x\": \"2011-09-16T00:00:00\", \"y\": 0.06559999999999999}, {\"x\": \"2011-09-23T00:00:00\", \"y\": 0.06559999999999999}, {\"x\": \"2011-09-26T00:00:00\", \"y\": 0.06559999999999999}, {\"x\": \"2011-09-27T00:00:00\", \"y\": 0.06559999999999999}, {\"x\": \"2011-10-11T00:00:00\", \"y\": 0.06559999999999999}, {\"x\": \"2011-10-12T00:00:00\", \"y\": 0.06559999999999999}, {\"x\": \"2011-10-14T00:00:00\", \"y\": 0.06559999999999999}, {\"x\": \"2011-10-18T00:00:00\", \"y\": 0.06559999999999999}, {\"x\": \"2011-10-21T00:00:00\", \"y\": 0.06559999999999999}, {\"x\": \"2011-10-24T00:00:00\", \"y\": 0.06559999999999999}, {\"x\": \"2011-11-01T00:00:00\", \"y\": 0.06559999999999999}, {\"x\": \"2011-11-02T00:00:00\", \"y\": 0.06559999999999999}, {\"x\": \"2011-11-17T00:00:00\", \"y\": 0.06559999999999999}, {\"x\": \"2011-11-18T00:00:00\", \"y\": 0.06559999999999999}, {\"x\": \"2011-11-22T00:00:00\", \"y\": 0.06559999999999999}, {\"x\": \"2011-11-23T00:00:00\", \"y\": 0.06559999999999999}, {\"x\": \"2011-11-28T00:00:00\", \"y\": 0.06559999999999999}, {\"x\": \"2011-11-29T00:00:00\", \"y\": 0.06559999999999999}, {\"x\": \"2011-12-12T00:00:00\", \"y\": 0.06559999999999999}, {\"x\": \"2011-12-13T00:00:00\", \"y\": 0.06559999999999999}, {\"x\": \"2011-12-14T00:00:00\", \"y\": 0.06559999999999999}, {\"x\": \"2011-12-16T00:00:00\", \"y\": 0.06559999999999999}, {\"x\": \"2011-12-20T00:00:00\", \"y\": 0.06559999999999999}, {\"x\": \"2011-12-22T00:00:00\", \"y\": 0.06559999999999999}, {\"x\": \"2011-12-26T00:00:00\", \"y\": 0.06559999999999999}, {\"x\": \"2012-01-06T00:00:00\", \"y\": 0.06559999999999999}, {\"x\": \"2012-02-28T00:00:00\", \"y\": 0.06559999999999999}, {\"x\": \"2012-03-02T00:00:00\", \"y\": 0.06559999999999999}, {\"x\": \"2012-03-05T00:00:00\", \"y\": 0.06559999999999999}, {\"x\": \"2012-03-23T00:00:00\", \"y\": 0.06559999999999999}, {\"x\": \"2012-04-09T00:00:00\", \"y\": 0.06559999999999999}, {\"x\": \"2012-04-25T00:00:00\", \"y\": 0.06559999999999999}, {\"x\": \"2012-04-26T00:00:00\", \"y\": 0.06559999999999999}, {\"x\": \"2012-06-08T00:00:00\", \"y\": 0.06309999999999999}, {\"x\": \"2012-07-06T00:00:00\", \"y\": 0.06}, {\"x\": \"2012-08-02T00:00:00\", \"y\": 0.06}, {\"x\": \"2012-09-05T00:00:00\", \"y\": 0.06}, {\"x\": \"2012-10-09T00:00:00\", \"y\": 0.06}, {\"x\": \"2012-10-19T00:00:00\", \"y\": 0.06}, {\"x\": \"2012-10-25T00:00:00\", \"y\": 0.06}, {\"x\": \"2012-11-13T00:00:00\", \"y\": 0.06}, {\"x\": \"2012-11-15T00:00:00\", \"y\": 0.06}, {\"x\": \"2012-11-21T00:00:00\", \"y\": 0.06}, {\"x\": \"2012-12-07T00:00:00\", \"y\": 0.06}, {\"x\": \"2012-12-14T00:00:00\", \"y\": 0.06}, {\"x\": \"2012-12-17T00:00:00\", \"y\": 0.06}, {\"x\": \"2012-12-18T00:00:00\", \"y\": 0.06}, {\"x\": \"2012-12-20T00:00:00\", \"y\": 0.06}, {\"x\": \"2012-12-21T00:00:00\", \"y\": 0.06}, {\"x\": \"2012-12-24T00:00:00\", \"y\": 0.06}, {\"x\": \"2012-12-27T00:00:00\", \"y\": 0.06}, {\"x\": \"2012-12-28T00:00:00\", \"y\": 0.06}, {\"x\": \"2013-02-20T00:00:00\", \"y\": 0.06}, {\"x\": \"2013-03-18T00:00:00\", \"y\": 0.06}, {\"x\": \"2013-03-19T00:00:00\", \"y\": 0.06}, {\"x\": \"2013-04-02T00:00:00\", \"y\": 0.06}, {\"x\": \"2013-04-03T00:00:00\", \"y\": 0.06}, {\"x\": \"2013-04-10T00:00:00\", \"y\": 0.06}, {\"x\": \"2013-04-15T00:00:00\", \"y\": 0.06}, {\"x\": \"2013-04-16T00:00:00\", \"y\": 0.06}, {\"x\": \"2013-04-19T00:00:00\", \"y\": 0.06}, {\"x\": \"2013-04-22T00:00:00\", \"y\": 0.06}, {\"x\": \"2013-04-23T00:00:00\", \"y\": 0.06}, {\"x\": \"2013-06-04T00:00:00\", \"y\": 0.06}, {\"x\": \"2013-06-20T00:00:00\", \"y\": 0.06}, {\"x\": \"2013-06-24T00:00:00\", \"y\": 0.06}, {\"x\": \"2013-07-05T00:00:00\", \"y\": 0.06}, {\"x\": \"2013-07-08T00:00:00\", \"y\": 0.06}, {\"x\": \"2013-07-11T00:00:00\", \"y\": 0.06}, {\"x\": \"2013-07-12T00:00:00\", \"y\": 0.06}, {\"x\": \"2013-07-15T00:00:00\", \"y\": 0.06}, {\"x\": \"2013-07-17T00:00:00\", \"y\": 0.06}, {\"x\": \"2013-07-18T00:00:00\", \"y\": 0.06}, {\"x\": \"2013-07-23T00:00:00\", \"y\": 0.06}, {\"x\": \"2013-07-24T00:00:00\", \"y\": 0.06}, {\"x\": \"2013-07-25T00:00:00\", \"y\": 0.06}, {\"x\": \"2013-07-26T00:00:00\", \"y\": 0.06}, {\"x\": \"2013-07-31T00:00:00\", \"y\": 0.06}, {\"x\": \"2013-08-05T00:00:00\", \"y\": 0.06}, {\"x\": \"2013-08-06T00:00:00\", \"y\": 0.06}, {\"x\": \"2013-08-07T00:00:00\", \"y\": 0.06}, {\"x\": \"2013-08-08T00:00:00\", \"y\": 0.06}, {\"x\": \"2013-08-14T00:00:00\", \"y\": 0.06}, {\"x\": \"2013-08-15T00:00:00\", \"y\": 0.06}, {\"x\": \"2013-08-16T00:00:00\", \"y\": 0.06}, {\"x\": \"2013-08-19T00:00:00\", \"y\": 0.06}, {\"x\": \"2013-08-22T00:00:00\", \"y\": 0.06}, {\"x\": \"2013-09-02T00:00:00\", \"y\": 0.06}, {\"x\": \"2013-09-17T00:00:00\", \"y\": 0.06}, {\"x\": \"2013-09-30T00:00:00\", \"y\": 0.06}, {\"x\": \"2013-10-08T00:00:00\", \"y\": 0.06}, {\"x\": \"2013-10-29T00:00:00\", \"y\": 0.06}, {\"x\": \"2013-11-06T00:00:00\", \"y\": 0.06}, {\"x\": \"2013-11-18T00:00:00\", \"y\": 0.06}, {\"x\": \"2013-11-19T00:00:00\", \"y\": 0.06}, {\"x\": \"2013-11-20T00:00:00\", \"y\": 0.06}, {\"x\": \"2013-11-21T00:00:00\", \"y\": 0.06}, {\"x\": \"2013-11-25T00:00:00\", \"y\": 0.06}, {\"x\": \"2013-11-26T00:00:00\", \"y\": 0.06}, {\"x\": \"2013-11-27T00:00:00\", \"y\": 0.06}, {\"x\": \"2013-11-28T00:00:00\", \"y\": 0.06}, {\"x\": \"2013-11-29T00:00:00\", \"y\": 0.06}, {\"x\": \"2013-12-04T00:00:00\", \"y\": 0.06}, {\"x\": \"2013-12-10T00:00:00\", \"y\": 0.06}, {\"x\": \"2013-12-11T00:00:00\", \"y\": 0.06}, {\"x\": \"2013-12-12T00:00:00\", \"y\": 0.06}, {\"x\": \"2013-12-18T00:00:00\", \"y\": 0.06}, {\"x\": \"2013-12-26T00:00:00\", \"y\": 0.06}, {\"x\": \"2013-12-27T00:00:00\", \"y\": 0.06}, {\"x\": \"2014-01-02T00:00:00\", \"y\": 0.06}, {\"x\": \"2014-01-03T00:00:00\", \"y\": 0.06}, {\"x\": \"2014-01-06T00:00:00\", \"y\": 0.06}, {\"x\": \"2014-01-14T00:00:00\", \"y\": 0.06}, {\"x\": \"2014-01-15T00:00:00\", \"y\": 0.06}, {\"x\": \"2014-01-16T00:00:00\", \"y\": 0.06}, {\"x\": \"2014-01-24T00:00:00\", \"y\": 0.06}, {\"x\": \"2014-01-26T00:00:00\", \"y\": 0.06}, {\"x\": \"2014-01-27T00:00:00\", \"y\": 0.06}, {\"x\": \"2014-01-28T00:00:00\", \"y\": 0.06}, {\"x\": \"2014-02-10T00:00:00\", \"y\": 0.06}, {\"x\": \"2014-02-11T00:00:00\", \"y\": 0.06}, {\"x\": \"2014-02-18T00:00:00\", \"y\": 0.06}, {\"x\": \"2014-02-20T00:00:00\", \"y\": 0.06}, {\"x\": \"2014-02-25T00:00:00\", \"y\": 0.0576}, {\"x\": \"2014-02-26T00:00:00\", \"y\": 0.0576}, {\"x\": \"2014-02-27T00:00:00\", \"y\": 0.0576}, {\"x\": \"2014-02-28T00:00:00\", \"y\": 0.0576}, {\"x\": \"2014-03-03T00:00:00\", \"y\": 0.0576}, {\"x\": \"2014-03-04T00:00:00\", \"y\": 0.0576}, {\"x\": \"2014-03-05T00:00:00\", \"y\": 0.0576}, {\"x\": \"2014-03-06T00:00:00\", \"y\": 0.0576}, {\"x\": \"2014-03-07T00:00:00\", \"y\": 0.0576}, {\"x\": \"2014-03-10T00:00:00\", \"y\": 0.0576}, {\"x\": \"2014-03-11T00:00:00\", \"y\": 0.0576}, {\"x\": \"2014-03-12T00:00:00\", \"y\": 0.0576}, {\"x\": \"2014-03-13T00:00:00\", \"y\": 0.0576}, {\"x\": \"2014-03-14T00:00:00\", \"y\": 0.0576}, {\"x\": \"2014-03-17T00:00:00\", \"y\": 0.0576}, {\"x\": \"2014-03-18T00:00:00\", \"y\": 0.0576}, {\"x\": \"2014-03-19T00:00:00\", \"y\": 0.0576}, {\"x\": \"2014-03-20T00:00:00\", \"y\": 0.0576}, {\"x\": \"2014-03-21T00:00:00\", \"y\": 0.0576}, {\"x\": \"2014-03-24T00:00:00\", \"y\": 0.0576}, {\"x\": \"2014-03-25T00:00:00\", \"y\": 0.0576}, {\"x\": \"2014-03-26T00:00:00\", \"y\": 0.0576}, {\"x\": \"2014-03-27T00:00:00\", \"y\": 0.0576}, {\"x\": \"2014-03-28T00:00:00\", \"y\": 0.0576}, {\"x\": \"2014-03-31T00:00:00\", \"y\": 0.0576}, {\"x\": \"2014-04-01T00:00:00\", \"y\": 0.057699999999999994}, {\"x\": \"2014-04-02T00:00:00\", \"y\": 0.057699999999999994}, {\"x\": \"2014-04-03T00:00:00\", \"y\": 0.057699999999999994}, {\"x\": \"2014-04-04T00:00:00\", \"y\": 0.057699999999999994}, {\"x\": \"2014-04-08T00:00:00\", \"y\": 0.057699999999999994}, {\"x\": \"2014-04-09T00:00:00\", \"y\": 0.057699999999999994}, {\"x\": \"2014-04-10T00:00:00\", \"y\": 0.057699999999999994}, {\"x\": \"2014-04-11T00:00:00\", \"y\": 0.057699999999999994}, {\"x\": \"2014-04-14T00:00:00\", \"y\": 0.057699999999999994}, {\"x\": \"2014-04-15T00:00:00\", \"y\": 0.057699999999999994}, {\"x\": \"2014-04-16T00:00:00\", \"y\": 0.057699999999999994}, {\"x\": \"2014-04-17T00:00:00\", \"y\": 0.057699999999999994}, {\"x\": \"2014-04-18T00:00:00\", \"y\": 0.057699999999999994}, {\"x\": \"2014-04-21T00:00:00\", \"y\": 0.057699999999999994}, {\"x\": \"2014-04-22T00:00:00\", \"y\": 0.057699999999999994}, {\"x\": \"2014-04-23T00:00:00\", \"y\": 0.057699999999999994}, {\"x\": \"2014-04-24T00:00:00\", \"y\": 0.057699999999999994}, {\"x\": \"2014-04-25T00:00:00\", \"y\": 0.057699999999999994}, {\"x\": \"2014-04-28T00:00:00\", \"y\": 0.057699999999999994}, {\"x\": \"2014-04-29T00:00:00\", \"y\": 0.057699999999999994}, {\"x\": \"2014-04-30T00:00:00\", \"y\": 0.057699999999999994}, {\"x\": \"2014-05-04T00:00:00\", \"y\": 0.057699999999999994}, {\"x\": \"2014-05-05T00:00:00\", \"y\": 0.057699999999999994}, {\"x\": \"2014-05-06T00:00:00\", \"y\": 0.057699999999999994}, {\"x\": \"2014-05-07T00:00:00\", \"y\": 0.057699999999999994}, {\"x\": \"2014-05-08T00:00:00\", \"y\": 0.057699999999999994}, {\"x\": \"2014-05-09T00:00:00\", \"y\": 0.057699999999999994}, {\"x\": \"2014-05-12T00:00:00\", \"y\": 0.057699999999999994}, {\"x\": \"2014-05-13T00:00:00\", \"y\": 0.057699999999999994}, {\"x\": \"2014-05-14T00:00:00\", \"y\": 0.057699999999999994}, {\"x\": \"2014-05-15T00:00:00\", \"y\": 0.057699999999999994}, {\"x\": \"2014-05-16T00:00:00\", \"y\": 0.057699999999999994}, {\"x\": \"2014-05-19T00:00:00\", \"y\": 0.057699999999999994}, {\"x\": \"2014-05-20T00:00:00\", \"y\": 0.057699999999999994}, {\"x\": \"2014-05-21T00:00:00\", \"y\": 0.057699999999999994}, {\"x\": \"2014-05-22T00:00:00\", \"y\": 0.057699999999999994}, {\"x\": \"2014-05-23T00:00:00\", \"y\": 0.057699999999999994}, {\"x\": \"2014-05-26T00:00:00\", \"y\": 0.057699999999999994}, {\"x\": \"2014-05-27T00:00:00\", \"y\": 0.057699999999999994}, {\"x\": \"2014-05-28T00:00:00\", \"y\": 0.057699999999999994}, {\"x\": \"2014-05-29T00:00:00\", \"y\": 0.057699999999999994}, {\"x\": \"2014-05-30T00:00:00\", \"y\": 0.057699999999999994}, {\"x\": \"2014-06-03T00:00:00\", \"y\": 0.057699999999999994}, {\"x\": \"2014-06-04T00:00:00\", \"y\": 0.057699999999999994}, {\"x\": \"2014-06-05T00:00:00\", \"y\": 0.057699999999999994}, {\"x\": \"2014-06-06T00:00:00\", \"y\": 0.057699999999999994}, {\"x\": \"2014-06-09T00:00:00\", \"y\": 0.057699999999999994}, {\"x\": \"2014-06-10T00:00:00\", \"y\": 0.057699999999999994}, {\"x\": \"2014-06-11T00:00:00\", \"y\": 0.057699999999999994}, {\"x\": \"2014-06-12T00:00:00\", \"y\": 0.057699999999999994}, {\"x\": \"2014-06-13T00:00:00\", \"y\": 0.057699999999999994}, {\"x\": \"2014-06-16T00:00:00\", \"y\": 0.057699999999999994}, {\"x\": \"2014-06-17T00:00:00\", \"y\": 0.0576}, {\"x\": \"2014-06-18T00:00:00\", \"y\": 0.0576}, {\"x\": \"2014-06-19T00:00:00\", \"y\": 0.0576}, {\"x\": \"2014-06-20T00:00:00\", \"y\": 0.0576}, {\"x\": \"2014-06-23T00:00:00\", \"y\": 0.0576}, {\"x\": \"2014-06-24T00:00:00\", \"y\": 0.0576}, {\"x\": \"2014-06-25T00:00:00\", \"y\": 0.0576}, {\"x\": \"2014-06-26T00:00:00\", \"y\": 0.0576}, {\"x\": \"2014-06-27T00:00:00\", \"y\": 0.0576}, {\"x\": \"2014-06-30T00:00:00\", \"y\": 0.0576}, {\"x\": \"2014-07-01T00:00:00\", \"y\": 0.0576}, {\"x\": \"2014-07-02T00:00:00\", \"y\": 0.0576}, {\"x\": \"2014-07-03T00:00:00\", \"y\": 0.0576}, {\"x\": \"2014-07-04T00:00:00\", \"y\": 0.0576}, {\"x\": \"2014-07-07T00:00:00\", \"y\": 0.0576}, {\"x\": \"2014-07-08T00:00:00\", \"y\": 0.0576}, {\"x\": \"2014-07-09T00:00:00\", \"y\": 0.0576}, {\"x\": \"2014-07-10T00:00:00\", \"y\": 0.0576}, {\"x\": \"2014-07-11T00:00:00\", \"y\": 0.0576}, {\"x\": \"2014-07-14T00:00:00\", \"y\": 0.0576}, {\"x\": \"2014-07-15T00:00:00\", \"y\": 0.0576}, {\"x\": \"2014-07-16T00:00:00\", \"y\": 0.0576}, {\"x\": \"2014-07-17T00:00:00\", \"y\": 0.0576}, {\"x\": \"2014-07-18T00:00:00\", \"y\": 0.0576}, {\"x\": \"2014-07-21T00:00:00\", \"y\": 0.0576}, {\"x\": \"2014-07-22T00:00:00\", \"y\": 0.0576}, {\"x\": \"2014-07-23T00:00:00\", \"y\": 0.0576}, {\"x\": \"2014-07-24T00:00:00\", \"y\": 0.0576}, {\"x\": \"2014-07-25T00:00:00\", \"y\": 0.0576}, {\"x\": \"2014-07-28T00:00:00\", \"y\": 0.0576}, {\"x\": \"2014-07-29T00:00:00\", \"y\": 0.0576}, {\"x\": \"2014-07-30T00:00:00\", \"y\": 0.0576}, {\"x\": \"2014-07-31T00:00:00\", \"y\": 0.0576}, {\"x\": \"2014-08-01T00:00:00\", \"y\": 0.0576}, {\"x\": \"2014-08-04T00:00:00\", \"y\": 0.0576}, {\"x\": \"2014-08-05T00:00:00\", \"y\": 0.0576}, {\"x\": \"2014-08-06T00:00:00\", \"y\": 0.0576}, {\"x\": \"2014-08-07T00:00:00\", \"y\": 0.0576}, {\"x\": \"2014-08-08T00:00:00\", \"y\": 0.0576}, {\"x\": \"2014-08-11T00:00:00\", \"y\": 0.0576}, {\"x\": \"2014-08-12T00:00:00\", \"y\": 0.0576}, {\"x\": \"2014-08-13T00:00:00\", \"y\": 0.0576}, {\"x\": \"2014-08-14T00:00:00\", \"y\": 0.0576}, {\"x\": \"2014-08-15T00:00:00\", \"y\": 0.0576}, {\"x\": \"2014-08-18T00:00:00\", \"y\": 0.0576}, {\"x\": \"2014-08-19T00:00:00\", \"y\": 0.0576}, {\"x\": \"2014-08-20T00:00:00\", \"y\": 0.0576}, {\"x\": \"2014-08-21T00:00:00\", \"y\": 0.0576}, {\"x\": \"2014-08-22T00:00:00\", \"y\": 0.0576}, {\"x\": \"2014-08-25T00:00:00\", \"y\": 0.0576}, {\"x\": \"2014-08-26T00:00:00\", \"y\": 0.0576}, {\"x\": \"2014-08-27T00:00:00\", \"y\": 0.0576}, {\"x\": \"2014-08-28T00:00:00\", \"y\": 0.0576}, {\"x\": \"2014-08-29T00:00:00\", \"y\": 0.0576}, {\"x\": \"2014-09-01T00:00:00\", \"y\": 0.0576}, {\"x\": \"2014-09-02T00:00:00\", \"y\": 0.0576}, {\"x\": \"2014-09-03T00:00:00\", \"y\": 0.0576}, {\"x\": \"2014-09-04T00:00:00\", \"y\": 0.0576}, {\"x\": \"2014-09-05T00:00:00\", \"y\": 0.0576}, {\"x\": \"2014-09-09T00:00:00\", \"y\": 0.0576}, {\"x\": \"2014-09-10T00:00:00\", \"y\": 0.0576}, {\"x\": \"2014-09-11T00:00:00\", \"y\": 0.0576}, {\"x\": \"2014-09-12T00:00:00\", \"y\": 0.0576}, {\"x\": \"2014-09-15T00:00:00\", \"y\": 0.0576}, {\"x\": \"2014-09-16T00:00:00\", \"y\": 0.0576}, {\"x\": \"2014-09-17T00:00:00\", \"y\": 0.0576}, {\"x\": \"2014-09-18T00:00:00\", \"y\": 0.0576}, {\"x\": \"2014-09-19T00:00:00\", \"y\": 0.0576}, {\"x\": \"2014-09-22T00:00:00\", \"y\": 0.0576}, {\"x\": \"2014-09-23T00:00:00\", \"y\": 0.0576}, {\"x\": \"2014-09-24T00:00:00\", \"y\": 0.0576}, {\"x\": \"2014-09-25T00:00:00\", \"y\": 0.0576}, {\"x\": \"2014-09-26T00:00:00\", \"y\": 0.0576}, {\"x\": \"2014-09-28T00:00:00\", \"y\": 0.0576}, {\"x\": \"2014-09-29T00:00:00\", \"y\": 0.0576}, {\"x\": \"2014-09-30T00:00:00\", \"y\": 0.0576}, {\"x\": \"2014-10-08T00:00:00\", \"y\": 0.0576}, {\"x\": \"2014-10-09T00:00:00\", \"y\": 0.0576}, {\"x\": \"2014-10-10T00:00:00\", \"y\": 0.0576}, {\"x\": \"2014-10-11T00:00:00\", \"y\": 0.0576}, {\"x\": \"2014-10-13T00:00:00\", \"y\": 0.0576}, {\"x\": \"2014-10-14T00:00:00\", \"y\": 0.0576}, {\"x\": \"2014-10-15T00:00:00\", \"y\": 0.0576}, {\"x\": \"2014-10-16T00:00:00\", \"y\": 0.0576}, {\"x\": \"2014-10-17T00:00:00\", \"y\": 0.0576}, {\"x\": \"2014-10-20T00:00:00\", \"y\": 0.0576}, {\"x\": \"2014-10-21T00:00:00\", \"y\": 0.0576}, {\"x\": \"2014-10-22T00:00:00\", \"y\": 0.0576}, {\"x\": \"2014-10-23T00:00:00\", \"y\": 0.0576}, {\"x\": \"2014-10-24T00:00:00\", \"y\": 0.0576}, {\"x\": \"2014-10-27T00:00:00\", \"y\": 0.0576}, {\"x\": \"2014-10-28T00:00:00\", \"y\": 0.0576}, {\"x\": \"2014-10-29T00:00:00\", \"y\": 0.0576}, {\"x\": \"2014-10-30T00:00:00\", \"y\": 0.0576}, {\"x\": \"2014-10-31T00:00:00\", \"y\": 0.0576}, {\"x\": \"2014-11-03T00:00:00\", \"y\": 0.0576}, {\"x\": \"2014-11-04T00:00:00\", \"y\": 0.0576}, {\"x\": \"2014-11-05T00:00:00\", \"y\": 0.0576}, {\"x\": \"2014-11-06T00:00:00\", \"y\": 0.0576}, {\"x\": \"2014-11-07T00:00:00\", \"y\": 0.0576}, {\"x\": \"2014-11-10T00:00:00\", \"y\": 0.0576}, {\"x\": \"2014-11-11T00:00:00\", \"y\": 0.0576}, {\"x\": \"2014-11-12T00:00:00\", \"y\": 0.0576}, {\"x\": \"2014-11-13T00:00:00\", \"y\": 0.0576}, {\"x\": \"2014-11-14T00:00:00\", \"y\": 0.0576}, {\"x\": \"2014-11-17T00:00:00\", \"y\": 0.0576}, {\"x\": \"2014-11-18T00:00:00\", \"y\": 0.0576}, {\"x\": \"2014-11-19T00:00:00\", \"y\": 0.0576}, {\"x\": \"2014-11-20T00:00:00\", \"y\": 0.0576}, {\"x\": \"2014-11-21T00:00:00\", \"y\": 0.0576}, {\"x\": \"2014-11-22T00:00:00\", \"y\": 0.055999999999999994}, {\"x\": \"2014-11-24T00:00:00\", \"y\": 0.0556}, {\"x\": \"2014-11-25T00:00:00\", \"y\": 0.0556}, {\"x\": \"2014-11-26T00:00:00\", \"y\": 0.0556}, {\"x\": \"2014-11-27T00:00:00\", \"y\": 0.0552}, {\"x\": \"2014-11-28T00:00:00\", \"y\": 0.055099999999999996}, {\"x\": \"2014-12-01T00:00:00\", \"y\": 0.055099999999999996}, {\"x\": \"2014-12-02T00:00:00\", \"y\": 0.055099999999999996}, {\"x\": \"2014-12-03T00:00:00\", \"y\": 0.055099999999999996}, {\"x\": \"2014-12-04T00:00:00\", \"y\": 0.055099999999999996}, {\"x\": \"2014-12-05T00:00:00\", \"y\": 0.055099999999999996}, {\"x\": \"2014-12-08T00:00:00\", \"y\": 0.055099999999999996}, {\"x\": \"2014-12-09T00:00:00\", \"y\": 0.055099999999999996}, {\"x\": \"2014-12-10T00:00:00\", \"y\": 0.055099999999999996}, {\"x\": \"2014-12-11T00:00:00\", \"y\": 0.055099999999999996}, {\"x\": \"2014-12-12T00:00:00\", \"y\": 0.055099999999999996}, {\"x\": \"2014-12-15T00:00:00\", \"y\": 0.055099999999999996}, {\"x\": \"2014-12-16T00:00:00\", \"y\": 0.055099999999999996}, {\"x\": \"2014-12-17T00:00:00\", \"y\": 0.055099999999999996}, {\"x\": \"2014-12-18T00:00:00\", \"y\": 0.055099999999999996}, {\"x\": \"2014-12-19T00:00:00\", \"y\": 0.055099999999999996}, {\"x\": \"2014-12-22T00:00:00\", \"y\": 0.055099999999999996}, {\"x\": \"2014-12-23T00:00:00\", \"y\": 0.055099999999999996}, {\"x\": \"2014-12-24T00:00:00\", \"y\": 0.055099999999999996}, {\"x\": \"2014-12-25T00:00:00\", \"y\": 0.055099999999999996}, {\"x\": \"2014-12-26T00:00:00\", \"y\": 0.055099999999999996}, {\"x\": \"2014-12-29T00:00:00\", \"y\": 0.055099999999999996}, {\"x\": \"2014-12-30T00:00:00\", \"y\": 0.055099999999999996}, {\"x\": \"2014-12-31T00:00:00\", \"y\": 0.055099999999999996}, {\"x\": \"2015-01-04T00:00:00\", \"y\": 0.055099999999999996}, {\"x\": \"2015-01-05T00:00:00\", \"y\": 0.055099999999999996}, {\"x\": \"2015-01-06T00:00:00\", \"y\": 0.055099999999999996}, {\"x\": \"2015-01-07T00:00:00\", \"y\": 0.055099999999999996}, {\"x\": \"2015-01-08T00:00:00\", \"y\": 0.055099999999999996}, {\"x\": \"2015-01-09T00:00:00\", \"y\": 0.055099999999999996}, {\"x\": \"2015-01-12T00:00:00\", \"y\": 0.055099999999999996}, {\"x\": \"2015-01-13T00:00:00\", \"y\": 0.055099999999999996}, {\"x\": \"2015-01-14T00:00:00\", \"y\": 0.055099999999999996}, {\"x\": \"2015-01-15T00:00:00\", \"y\": 0.055099999999999996}, {\"x\": \"2015-01-16T00:00:00\", \"y\": 0.055099999999999996}, {\"x\": \"2015-01-19T00:00:00\", \"y\": 0.055099999999999996}, {\"x\": \"2015-01-20T00:00:00\", \"y\": 0.055099999999999996}, {\"x\": \"2015-01-21T00:00:00\", \"y\": 0.055099999999999996}, {\"x\": \"2015-01-22T00:00:00\", \"y\": 0.055099999999999996}, {\"x\": \"2015-01-23T00:00:00\", \"y\": 0.055099999999999996}, {\"x\": \"2015-01-26T00:00:00\", \"y\": 0.055099999999999996}, {\"x\": \"2015-01-27T00:00:00\", \"y\": 0.055099999999999996}, {\"x\": \"2015-01-28T00:00:00\", \"y\": 0.055099999999999996}, {\"x\": \"2015-01-29T00:00:00\", \"y\": 0.055099999999999996}, {\"x\": \"2015-01-30T00:00:00\", \"y\": 0.055099999999999996}, {\"x\": \"2015-02-02T00:00:00\", \"y\": 0.055099999999999996}, {\"x\": \"2015-02-03T00:00:00\", \"y\": 0.055099999999999996}, {\"x\": \"2015-02-04T00:00:00\", \"y\": 0.055099999999999996}, {\"x\": \"2015-02-05T00:00:00\", \"y\": 0.055099999999999996}, {\"x\": \"2015-02-06T00:00:00\", \"y\": 0.055099999999999996}, {\"x\": \"2015-02-09T00:00:00\", \"y\": 0.055099999999999996}, {\"x\": \"2015-02-10T00:00:00\", \"y\": 0.055099999999999996}, {\"x\": \"2015-02-11T00:00:00\", \"y\": 0.055099999999999996}, {\"x\": \"2015-02-12T00:00:00\", \"y\": 0.055099999999999996}, {\"x\": \"2015-02-13T00:00:00\", \"y\": 0.055099999999999996}, {\"x\": \"2015-02-15T00:00:00\", \"y\": 0.055099999999999996}, {\"x\": \"2015-02-16T00:00:00\", \"y\": 0.055099999999999996}, {\"x\": \"2015-02-17T00:00:00\", \"y\": 0.055099999999999996}, {\"x\": \"2015-02-25T00:00:00\", \"y\": 0.055099999999999996}, {\"x\": \"2015-02-26T00:00:00\", \"y\": 0.055099999999999996}, {\"x\": \"2015-02-27T00:00:00\", \"y\": 0.055099999999999996}, {\"x\": \"2015-02-28T00:00:00\", \"y\": 0.055099999999999996}, {\"x\": \"2015-03-01T00:00:00\", \"y\": 0.0535}, {\"x\": \"2015-03-02T00:00:00\", \"y\": 0.053}, {\"x\": \"2015-03-03T00:00:00\", \"y\": 0.053}, {\"x\": \"2015-03-04T00:00:00\", \"y\": 0.053}, {\"x\": \"2015-03-05T00:00:00\", \"y\": 0.053}, {\"x\": \"2015-03-06T00:00:00\", \"y\": 0.053}, {\"x\": \"2015-03-09T00:00:00\", \"y\": 0.053}, {\"x\": \"2015-03-10T00:00:00\", \"y\": 0.053}, {\"x\": \"2015-03-11T00:00:00\", \"y\": 0.053}, {\"x\": \"2015-03-12T00:00:00\", \"y\": 0.053}, {\"x\": \"2015-03-13T00:00:00\", \"y\": 0.053}, {\"x\": \"2015-03-16T00:00:00\", \"y\": 0.053}, {\"x\": \"2015-03-17T00:00:00\", \"y\": 0.053}, {\"x\": \"2015-03-18T00:00:00\", \"y\": 0.053}, {\"x\": \"2015-03-19T00:00:00\", \"y\": 0.053}, {\"x\": \"2015-03-20T00:00:00\", \"y\": 0.053}, {\"x\": \"2015-03-23T00:00:00\", \"y\": 0.053}, {\"x\": \"2015-03-24T00:00:00\", \"y\": 0.053}, {\"x\": \"2015-03-25T00:00:00\", \"y\": 0.053}, {\"x\": \"2015-03-26T00:00:00\", \"y\": 0.053}, {\"x\": \"2015-03-27T00:00:00\", \"y\": 0.053}, {\"x\": \"2015-03-30T00:00:00\", \"y\": 0.053}, {\"x\": \"2015-03-31T00:00:00\", \"y\": 0.053}, {\"x\": \"2015-04-01T00:00:00\", \"y\": 0.053}, {\"x\": \"2015-04-02T00:00:00\", \"y\": 0.053}, {\"x\": \"2015-04-03T00:00:00\", \"y\": 0.053}, {\"x\": \"2015-04-07T00:00:00\", \"y\": 0.053}, {\"x\": \"2015-04-08T00:00:00\", \"y\": 0.053}, {\"x\": \"2015-04-09T00:00:00\", \"y\": 0.053}, {\"x\": \"2015-04-10T00:00:00\", \"y\": 0.053}, {\"x\": \"2015-04-13T00:00:00\", \"y\": 0.053}, {\"x\": \"2015-04-14T00:00:00\", \"y\": 0.053}, {\"x\": \"2015-04-15T00:00:00\", \"y\": 0.053}, {\"x\": \"2015-04-16T00:00:00\", \"y\": 0.053}, {\"x\": \"2015-04-17T00:00:00\", \"y\": 0.053}, {\"x\": \"2015-04-20T00:00:00\", \"y\": 0.053}, {\"x\": \"2015-04-21T00:00:00\", \"y\": 0.053}, {\"x\": \"2015-04-22T00:00:00\", \"y\": 0.053}, {\"x\": \"2015-04-23T00:00:00\", \"y\": 0.053}, {\"x\": \"2015-04-24T00:00:00\", \"y\": 0.053}, {\"x\": \"2015-04-27T00:00:00\", \"y\": 0.053}, {\"x\": \"2015-04-28T00:00:00\", \"y\": 0.053}, {\"x\": \"2015-04-29T00:00:00\", \"y\": 0.053}, {\"x\": \"2015-04-30T00:00:00\", \"y\": 0.053}, {\"x\": \"2015-05-04T00:00:00\", \"y\": 0.053}, {\"x\": \"2015-05-05T00:00:00\", \"y\": 0.053}, {\"x\": \"2015-05-06T00:00:00\", \"y\": 0.053}, {\"x\": \"2015-05-07T00:00:00\", \"y\": 0.053}, {\"x\": \"2015-05-08T00:00:00\", \"y\": 0.053}, {\"x\": \"2015-05-11T00:00:00\", \"y\": 0.05074999999999999}, {\"x\": \"2015-05-12T00:00:00\", \"y\": 0.050499999999999996}, {\"x\": \"2015-05-13T00:00:00\", \"y\": 0.050499999999999996}, {\"x\": \"2015-05-14T00:00:00\", \"y\": 0.050499999999999996}, {\"x\": \"2015-05-15T00:00:00\", \"y\": 0.050499999999999996}, {\"x\": \"2015-05-18T00:00:00\", \"y\": 0.050499999999999996}, {\"x\": \"2015-05-19T00:00:00\", \"y\": 0.050499999999999996}, {\"x\": \"2015-05-20T00:00:00\", \"y\": 0.050499999999999996}, {\"x\": \"2015-05-21T00:00:00\", \"y\": 0.050499999999999996}, {\"x\": \"2015-05-22T00:00:00\", \"y\": 0.050499999999999996}, {\"x\": \"2015-05-25T00:00:00\", \"y\": 0.050499999999999996}, {\"x\": \"2015-05-26T00:00:00\", \"y\": 0.050499999999999996}, {\"x\": \"2015-05-27T00:00:00\", \"y\": 0.050499999999999996}, {\"x\": \"2015-05-28T00:00:00\", \"y\": 0.050499999999999996}, {\"x\": \"2015-05-29T00:00:00\", \"y\": 0.050499999999999996}, {\"x\": \"2015-06-01T00:00:00\", \"y\": 0.050499999999999996}, {\"x\": \"2015-06-02T00:00:00\", \"y\": 0.050499999999999996}, {\"x\": \"2015-06-03T00:00:00\", \"y\": 0.050499999999999996}, {\"x\": \"2015-06-04T00:00:00\", \"y\": 0.050499999999999996}, {\"x\": \"2015-06-05T00:00:00\", \"y\": 0.050499999999999996}, {\"x\": \"2015-06-08T00:00:00\", \"y\": 0.050499999999999996}, {\"x\": \"2015-06-09T00:00:00\", \"y\": 0.050499999999999996}, {\"x\": \"2015-06-10T00:00:00\", \"y\": 0.050499999999999996}, {\"x\": \"2015-06-11T00:00:00\", \"y\": 0.050499999999999996}, {\"x\": \"2015-06-12T00:00:00\", \"y\": 0.050499999999999996}, {\"x\": \"2015-06-15T00:00:00\", \"y\": 0.050499999999999996}, {\"x\": \"2015-06-16T00:00:00\", \"y\": 0.050499999999999996}, {\"x\": \"2015-06-17T00:00:00\", \"y\": 0.050499999999999996}, {\"x\": \"2015-06-18T00:00:00\", \"y\": 0.050499999999999996}, {\"x\": \"2015-06-19T00:00:00\", \"y\": 0.050499999999999996}, {\"x\": \"2015-06-23T00:00:00\", \"y\": 0.050499999999999996}, {\"x\": \"2015-06-24T00:00:00\", \"y\": 0.050499999999999996}, {\"x\": \"2015-06-25T00:00:00\", \"y\": 0.050499999999999996}, {\"x\": \"2015-06-26T00:00:00\", \"y\": 0.050499999999999996}, {\"x\": \"2015-06-28T00:00:00\", \"y\": 0.048499999999999995}, {\"x\": \"2015-06-29T00:00:00\", \"y\": 0.048}, {\"x\": \"2015-06-30T00:00:00\", \"y\": 0.048}, {\"x\": \"2015-07-01T00:00:00\", \"y\": 0.048}, {\"x\": \"2015-07-02T00:00:00\", \"y\": 0.048}, {\"x\": \"2015-07-03T00:00:00\", \"y\": 0.048}, {\"x\": \"2015-07-06T00:00:00\", \"y\": 0.048}, {\"x\": \"2015-07-07T00:00:00\", \"y\": 0.048}, {\"x\": \"2015-07-08T00:00:00\", \"y\": 0.048}, {\"x\": \"2015-07-09T00:00:00\", \"y\": 0.048}, {\"x\": \"2015-07-10T00:00:00\", \"y\": 0.048}, {\"x\": \"2015-07-13T00:00:00\", \"y\": 0.048}, {\"x\": \"2015-07-14T00:00:00\", \"y\": 0.048}, {\"x\": \"2015-07-15T00:00:00\", \"y\": 0.048}, {\"x\": \"2015-07-16T00:00:00\", \"y\": 0.048}, {\"x\": \"2015-07-17T00:00:00\", \"y\": 0.048}, {\"x\": \"2015-07-20T00:00:00\", \"y\": 0.048}, {\"x\": \"2015-07-21T00:00:00\", \"y\": 0.048}, {\"x\": \"2015-07-22T00:00:00\", \"y\": 0.048}, {\"x\": \"2015-07-23T00:00:00\", \"y\": 0.048}, {\"x\": \"2015-07-24T00:00:00\", \"y\": 0.048}, {\"x\": \"2015-07-27T00:00:00\", \"y\": 0.048}, {\"x\": \"2015-07-28T00:00:00\", \"y\": 0.048}, {\"x\": \"2015-07-29T00:00:00\", \"y\": 0.048}, {\"x\": \"2015-07-30T00:00:00\", \"y\": 0.048}, {\"x\": \"2015-07-31T00:00:00\", \"y\": 0.048}, {\"x\": \"2015-08-03T00:00:00\", \"y\": 0.048}, {\"x\": \"2015-08-04T00:00:00\", \"y\": 0.048}, {\"x\": \"2015-08-05T00:00:00\", \"y\": 0.048}, {\"x\": \"2015-08-06T00:00:00\", \"y\": 0.048}, {\"x\": \"2015-08-07T00:00:00\", \"y\": 0.048}, {\"x\": \"2015-08-10T00:00:00\", \"y\": 0.048}, {\"x\": \"2015-08-11T00:00:00\", \"y\": 0.048}, {\"x\": \"2015-08-12T00:00:00\", \"y\": 0.048}, {\"x\": \"2015-08-13T00:00:00\", \"y\": 0.048}, {\"x\": \"2015-08-14T00:00:00\", \"y\": 0.048}, {\"x\": \"2015-08-17T00:00:00\", \"y\": 0.048}, {\"x\": \"2015-08-18T00:00:00\", \"y\": 0.048}, {\"x\": \"2015-08-19T00:00:00\", \"y\": 0.048}, {\"x\": \"2015-08-20T00:00:00\", \"y\": 0.048}, {\"x\": \"2015-08-21T00:00:00\", \"y\": 0.048}, {\"x\": \"2015-08-24T00:00:00\", \"y\": 0.048}, {\"x\": \"2015-08-25T00:00:00\", \"y\": 0.048}, {\"x\": \"2015-08-26T00:00:00\", \"y\": 0.04574999999999999}, {\"x\": \"2015-08-27T00:00:00\", \"y\": 0.0455}, {\"x\": \"2015-08-28T00:00:00\", \"y\": 0.0455}, {\"x\": \"2015-08-31T00:00:00\", \"y\": 0.0455}, {\"x\": \"2015-09-01T00:00:00\", \"y\": 0.0455}, {\"x\": \"2015-09-02T00:00:00\", \"y\": 0.0455}, {\"x\": \"2015-09-06T00:00:00\", \"y\": 0.0455}, {\"x\": \"2015-09-07T00:00:00\", \"y\": 0.0455}, {\"x\": \"2015-09-08T00:00:00\", \"y\": 0.0455}, {\"x\": \"2015-09-09T00:00:00\", \"y\": 0.0455}, {\"x\": \"2015-09-10T00:00:00\", \"y\": 0.0455}, {\"x\": \"2015-09-11T00:00:00\", \"y\": 0.0455}, {\"x\": \"2015-09-14T00:00:00\", \"y\": 0.0455}, {\"x\": \"2015-09-15T00:00:00\", \"y\": 0.0455}, {\"x\": \"2015-09-16T00:00:00\", \"y\": 0.0455}, {\"x\": \"2015-09-17T00:00:00\", \"y\": 0.0455}, {\"x\": \"2015-09-18T00:00:00\", \"y\": 0.0455}, {\"x\": \"2015-09-22T00:00:00\", \"y\": 0.0455}, {\"x\": \"2015-09-23T00:00:00\", \"y\": 0.0455}, {\"x\": \"2015-09-24T00:00:00\", \"y\": 0.0455}, {\"x\": \"2015-09-25T00:00:00\", \"y\": 0.0455}, {\"x\": \"2015-09-28T00:00:00\", \"y\": 0.0455}, {\"x\": \"2015-09-29T00:00:00\", \"y\": 0.0455}, {\"x\": \"2015-09-30T00:00:00\", \"y\": 0.0455}, {\"x\": \"2015-10-08T00:00:00\", \"y\": 0.0455}, {\"x\": \"2015-10-09T00:00:00\", \"y\": 0.0455}, {\"x\": \"2015-10-10T00:00:00\", \"y\": 0.0455}, {\"x\": \"2015-10-12T00:00:00\", \"y\": 0.0455}, {\"x\": \"2015-10-13T00:00:00\", \"y\": 0.0455}, {\"x\": \"2015-10-14T00:00:00\", \"y\": 0.0455}, {\"x\": \"2015-10-15T00:00:00\", \"y\": 0.0455}, {\"x\": \"2015-10-16T00:00:00\", \"y\": 0.0455}, {\"x\": \"2015-10-19T00:00:00\", \"y\": 0.0455}, {\"x\": \"2015-10-20T00:00:00\", \"y\": 0.0455}, {\"x\": \"2015-10-21T00:00:00\", \"y\": 0.0455}, {\"x\": \"2015-10-22T00:00:00\", \"y\": 0.0455}, {\"x\": \"2015-10-23T00:00:00\", \"y\": 0.0455}, {\"x\": \"2015-10-24T00:00:00\", \"y\": 0.0435}, {\"x\": \"2015-10-26T00:00:00\", \"y\": 0.043}, {\"x\": \"2015-10-27T00:00:00\", \"y\": 0.043}, {\"x\": \"2015-10-28T00:00:00\", \"y\": 0.043}, {\"x\": \"2015-10-29T00:00:00\", \"y\": 0.043}, {\"x\": \"2015-10-30T00:00:00\", \"y\": 0.043}, {\"x\": \"2015-11-02T00:00:00\", \"y\": 0.043}, {\"x\": \"2015-11-03T00:00:00\", \"y\": 0.043}, {\"x\": \"2015-11-04T00:00:00\", \"y\": 0.043}, {\"x\": \"2015-11-05T00:00:00\", \"y\": 0.043}, {\"x\": \"2015-11-06T00:00:00\", \"y\": 0.043}, {\"x\": \"2015-11-09T00:00:00\", \"y\": 0.043}, {\"x\": \"2015-11-10T00:00:00\", \"y\": 0.043}, {\"x\": \"2015-11-11T00:00:00\", \"y\": 0.043}, {\"x\": \"2015-11-12T00:00:00\", \"y\": 0.043}, {\"x\": \"2015-11-13T00:00:00\", \"y\": 0.043}, {\"x\": \"2015-11-16T00:00:00\", \"y\": 0.043}, {\"x\": \"2015-11-17T00:00:00\", \"y\": 0.043}, {\"x\": \"2015-11-18T00:00:00\", \"y\": 0.043}, {\"x\": \"2015-11-19T00:00:00\", \"y\": 0.043}, {\"x\": \"2015-11-20T00:00:00\", \"y\": 0.043}, {\"x\": \"2015-11-23T00:00:00\", \"y\": 0.043}, {\"x\": \"2015-11-24T00:00:00\", \"y\": 0.043}, {\"x\": \"2015-11-25T00:00:00\", \"y\": 0.043}, {\"x\": \"2015-11-26T00:00:00\", \"y\": 0.043}, {\"x\": \"2015-11-27T00:00:00\", \"y\": 0.043}, {\"x\": \"2015-11-30T00:00:00\", \"y\": 0.043}, {\"x\": \"2015-12-01T00:00:00\", \"y\": 0.043}, {\"x\": \"2015-12-02T00:00:00\", \"y\": 0.043}, {\"x\": \"2015-12-03T00:00:00\", \"y\": 0.043}, {\"x\": \"2015-12-04T00:00:00\", \"y\": 0.043}, {\"x\": \"2015-12-07T00:00:00\", \"y\": 0.043}, {\"x\": \"2015-12-08T00:00:00\", \"y\": 0.043}, {\"x\": \"2015-12-09T00:00:00\", \"y\": 0.043}, {\"x\": \"2015-12-10T00:00:00\", \"y\": 0.043}, {\"x\": \"2015-12-11T00:00:00\", \"y\": 0.043}, {\"x\": \"2015-12-14T00:00:00\", \"y\": 0.043}, {\"x\": \"2015-12-15T00:00:00\", \"y\": 0.043}, {\"x\": \"2015-12-16T00:00:00\", \"y\": 0.043}, {\"x\": \"2015-12-17T00:00:00\", \"y\": 0.043}, {\"x\": \"2015-12-18T00:00:00\", \"y\": 0.043}, {\"x\": \"2015-12-21T00:00:00\", \"y\": 0.043}, {\"x\": \"2015-12-22T00:00:00\", \"y\": 0.043}, {\"x\": \"2015-12-23T00:00:00\", \"y\": 0.043}, {\"x\": \"2015-12-24T00:00:00\", \"y\": 0.043}, {\"x\": \"2015-12-25T00:00:00\", \"y\": 0.043}, {\"x\": \"2015-12-28T00:00:00\", \"y\": 0.043}, {\"x\": \"2015-12-29T00:00:00\", \"y\": 0.043}, {\"x\": \"2015-12-30T00:00:00\", \"y\": 0.043}, {\"x\": \"2015-12-31T00:00:00\", \"y\": 0.043}, {\"x\": \"2016-01-04T00:00:00\", \"y\": 0.043}, {\"x\": \"2016-01-05T00:00:00\", \"y\": 0.043}, {\"x\": \"2016-01-06T00:00:00\", \"y\": 0.043}, {\"x\": \"2016-01-07T00:00:00\", \"y\": 0.043}, {\"x\": \"2016-01-08T00:00:00\", \"y\": 0.043}, {\"x\": \"2016-01-11T00:00:00\", \"y\": 0.043}, {\"x\": \"2016-01-12T00:00:00\", \"y\": 0.043}, {\"x\": \"2016-01-13T00:00:00\", \"y\": 0.043}, {\"x\": \"2016-01-14T00:00:00\", \"y\": 0.043}, {\"x\": \"2016-01-15T00:00:00\", \"y\": 0.043}, {\"x\": \"2016-01-18T00:00:00\", \"y\": 0.043}, {\"x\": \"2016-01-19T00:00:00\", \"y\": 0.043}, {\"x\": \"2016-01-20T00:00:00\", \"y\": 0.043}, {\"x\": \"2016-01-21T00:00:00\", \"y\": 0.043}, {\"x\": \"2016-01-22T00:00:00\", \"y\": 0.043}, {\"x\": \"2016-01-25T00:00:00\", \"y\": 0.043}, {\"x\": \"2016-01-26T00:00:00\", \"y\": 0.043}, {\"x\": \"2016-01-27T00:00:00\", \"y\": 0.043}, {\"x\": \"2016-01-28T00:00:00\", \"y\": 0.043}, {\"x\": \"2016-01-29T00:00:00\", \"y\": 0.043}, {\"x\": \"2016-02-01T00:00:00\", \"y\": 0.043}, {\"x\": \"2016-02-02T00:00:00\", \"y\": 0.043}, {\"x\": \"2016-02-03T00:00:00\", \"y\": 0.043}, {\"x\": \"2016-02-04T00:00:00\", \"y\": 0.043}, {\"x\": \"2016-02-05T00:00:00\", \"y\": 0.043}, {\"x\": \"2016-02-06T00:00:00\", \"y\": 0.043}, {\"x\": \"2016-02-14T00:00:00\", \"y\": 0.043}, {\"x\": \"2016-02-15T00:00:00\", \"y\": 0.043}, {\"x\": \"2016-02-16T00:00:00\", \"y\": 0.043}, {\"x\": \"2016-02-17T00:00:00\", \"y\": 0.043}, {\"x\": \"2016-02-18T00:00:00\", \"y\": 0.043}, {\"x\": \"2016-02-19T00:00:00\", \"y\": 0.043}, {\"x\": \"2016-02-22T00:00:00\", \"y\": 0.043}, {\"x\": \"2016-02-23T00:00:00\", \"y\": 0.043}, {\"x\": \"2016-02-24T00:00:00\", \"y\": 0.043}, {\"x\": \"2016-02-25T00:00:00\", \"y\": 0.043}, {\"x\": \"2016-02-26T00:00:00\", \"y\": 0.043}, {\"x\": \"2016-02-29T00:00:00\", \"y\": 0.043}, {\"x\": \"2016-03-01T00:00:00\", \"y\": 0.043}, {\"x\": \"2016-03-02T00:00:00\", \"y\": 0.043}, {\"x\": \"2016-03-03T00:00:00\", \"y\": 0.043}, {\"x\": \"2016-03-04T00:00:00\", \"y\": 0.043}, {\"x\": \"2016-03-07T00:00:00\", \"y\": 0.043}, {\"x\": \"2016-03-08T00:00:00\", \"y\": 0.043}, {\"x\": \"2016-03-09T00:00:00\", \"y\": 0.043}, {\"x\": \"2016-03-10T00:00:00\", \"y\": 0.043}, {\"x\": \"2016-03-11T00:00:00\", \"y\": 0.043}, {\"x\": \"2016-03-14T00:00:00\", \"y\": 0.043}, {\"x\": \"2016-03-15T00:00:00\", \"y\": 0.043}, {\"x\": \"2016-03-16T00:00:00\", \"y\": 0.043}, {\"x\": \"2016-03-17T00:00:00\", \"y\": 0.043}, {\"x\": \"2016-03-18T00:00:00\", \"y\": 0.043}, {\"x\": \"2016-03-21T00:00:00\", \"y\": 0.043}, {\"x\": \"2016-03-22T00:00:00\", \"y\": 0.043}, {\"x\": \"2016-03-23T00:00:00\", \"y\": 0.043}, {\"x\": \"2016-03-24T00:00:00\", \"y\": 0.043}, {\"x\": \"2016-03-25T00:00:00\", \"y\": 0.043}, {\"x\": \"2016-03-28T00:00:00\", \"y\": 0.043}, {\"x\": \"2016-03-29T00:00:00\", \"y\": 0.043}, {\"x\": \"2016-03-30T00:00:00\", \"y\": 0.043}, {\"x\": \"2016-03-31T00:00:00\", \"y\": 0.043}, {\"x\": \"2016-04-01T00:00:00\", \"y\": 0.043}, {\"x\": \"2016-04-05T00:00:00\", \"y\": 0.043}, {\"x\": \"2016-04-06T00:00:00\", \"y\": 0.043}, {\"x\": \"2016-04-07T00:00:00\", \"y\": 0.043}, {\"x\": \"2016-04-08T00:00:00\", \"y\": 0.043}, {\"x\": \"2016-04-11T00:00:00\", \"y\": 0.043}, {\"x\": \"2016-04-12T00:00:00\", \"y\": 0.043}, {\"x\": \"2016-04-13T00:00:00\", \"y\": 0.043}, {\"x\": \"2016-04-14T00:00:00\", \"y\": 0.043}, {\"x\": \"2016-04-15T00:00:00\", \"y\": 0.043}, {\"x\": \"2016-04-18T00:00:00\", \"y\": 0.043}, {\"x\": \"2016-04-19T00:00:00\", \"y\": 0.043}, {\"x\": \"2016-04-20T00:00:00\", \"y\": 0.043}, {\"x\": \"2016-04-21T00:00:00\", \"y\": 0.043}, {\"x\": \"2016-04-22T00:00:00\", \"y\": 0.043}, {\"x\": \"2016-04-25T00:00:00\", \"y\": 0.043}, {\"x\": \"2016-04-26T00:00:00\", \"y\": 0.043}, {\"x\": \"2016-04-27T00:00:00\", \"y\": 0.043}, {\"x\": \"2016-04-28T00:00:00\", \"y\": 0.043}, {\"x\": \"2016-04-29T00:00:00\", \"y\": 0.043}, {\"x\": \"2016-05-03T00:00:00\", \"y\": 0.043}, {\"x\": \"2016-05-04T00:00:00\", \"y\": 0.043}, {\"x\": \"2016-05-05T00:00:00\", \"y\": 0.043}, {\"x\": \"2016-05-06T00:00:00\", \"y\": 0.043}, {\"x\": \"2016-05-09T00:00:00\", \"y\": 0.043}, {\"x\": \"2016-05-10T00:00:00\", \"y\": 0.043}, {\"x\": \"2016-05-11T00:00:00\", \"y\": 0.043}, {\"x\": \"2016-05-12T00:00:00\", \"y\": 0.043}, {\"x\": \"2016-05-13T00:00:00\", \"y\": 0.043}, {\"x\": \"2016-05-16T00:00:00\", \"y\": 0.043}, {\"x\": \"2016-05-17T00:00:00\", \"y\": 0.043}, {\"x\": \"2016-05-18T00:00:00\", \"y\": 0.043}, {\"x\": \"2016-05-19T00:00:00\", \"y\": 0.043}, {\"x\": \"2016-05-20T00:00:00\", \"y\": 0.043}, {\"x\": \"2016-05-23T00:00:00\", \"y\": 0.043}, {\"x\": \"2016-05-24T00:00:00\", \"y\": 0.043}, {\"x\": \"2016-05-25T00:00:00\", \"y\": 0.043}, {\"x\": \"2016-05-26T00:00:00\", \"y\": 0.043}, {\"x\": \"2016-05-27T00:00:00\", \"y\": 0.043}, {\"x\": \"2016-05-30T00:00:00\", \"y\": 0.043}, {\"x\": \"2016-05-31T00:00:00\", \"y\": 0.043}, {\"x\": \"2016-06-01T00:00:00\", \"y\": 0.043}, {\"x\": \"2016-06-02T00:00:00\", \"y\": 0.043}, {\"x\": \"2016-06-03T00:00:00\", \"y\": 0.043}, {\"x\": \"2016-06-06T00:00:00\", \"y\": 0.043}, {\"x\": \"2016-06-07T00:00:00\", \"y\": 0.043}, {\"x\": \"2016-06-08T00:00:00\", \"y\": 0.043}, {\"x\": \"2016-06-12T00:00:00\", \"y\": 0.043}, {\"x\": \"2016-06-13T00:00:00\", \"y\": 0.043}, {\"x\": \"2016-06-14T00:00:00\", \"y\": 0.043}, {\"x\": \"2016-06-15T00:00:00\", \"y\": 0.043}, {\"x\": \"2016-06-16T00:00:00\", \"y\": 0.043}, {\"x\": \"2016-06-17T00:00:00\", \"y\": 0.043}, {\"x\": \"2016-06-20T00:00:00\", \"y\": 0.043}, {\"x\": \"2016-06-21T00:00:00\", \"y\": 0.043}, {\"x\": \"2016-06-22T00:00:00\", \"y\": 0.043}, {\"x\": \"2016-06-23T00:00:00\", \"y\": 0.043}, {\"x\": \"2016-06-24T00:00:00\", \"y\": 0.043}, {\"x\": \"2016-06-27T00:00:00\", \"y\": 0.043}, {\"x\": \"2016-06-28T00:00:00\", \"y\": 0.043}, {\"x\": \"2016-06-29T00:00:00\", \"y\": 0.043}, {\"x\": \"2016-06-30T00:00:00\", \"y\": 0.043}, {\"x\": \"2016-07-01T00:00:00\", \"y\": 0.043}, {\"x\": \"2016-07-04T00:00:00\", \"y\": 0.043}, {\"x\": \"2016-07-05T00:00:00\", \"y\": 0.043}, {\"x\": \"2016-07-06T00:00:00\", \"y\": 0.043}, {\"x\": \"2016-07-07T00:00:00\", \"y\": 0.043}, {\"x\": \"2016-07-08T00:00:00\", \"y\": 0.043}, {\"x\": \"2016-07-11T00:00:00\", \"y\": 0.043}, {\"x\": \"2016-07-12T00:00:00\", \"y\": 0.043}, {\"x\": \"2016-07-13T00:00:00\", \"y\": 0.043}, {\"x\": \"2016-07-14T00:00:00\", \"y\": 0.043}, {\"x\": \"2016-07-15T00:00:00\", \"y\": 0.043}, {\"x\": \"2016-07-18T00:00:00\", \"y\": 0.043}, {\"x\": \"2016-07-19T00:00:00\", \"y\": 0.043}, {\"x\": \"2016-07-20T00:00:00\", \"y\": 0.043}, {\"x\": \"2016-07-21T00:00:00\", \"y\": 0.043}, {\"x\": \"2016-07-22T00:00:00\", \"y\": 0.043}, {\"x\": \"2016-07-25T00:00:00\", \"y\": 0.043}, {\"x\": \"2016-07-26T00:00:00\", \"y\": 0.043}, {\"x\": \"2016-07-27T00:00:00\", \"y\": 0.043}, {\"x\": \"2016-07-28T00:00:00\", \"y\": 0.043}, {\"x\": \"2016-07-29T00:00:00\", \"y\": 0.043}, {\"x\": \"2016-08-01T00:00:00\", \"y\": 0.043}, {\"x\": \"2016-08-02T00:00:00\", \"y\": 0.043}, {\"x\": \"2016-08-03T00:00:00\", \"y\": 0.043}, {\"x\": \"2016-08-04T00:00:00\", \"y\": 0.043}, {\"x\": \"2016-08-05T00:00:00\", \"y\": 0.043}, {\"x\": \"2016-08-08T00:00:00\", \"y\": 0.043}, {\"x\": \"2016-08-09T00:00:00\", \"y\": 0.043}, {\"x\": \"2016-08-10T00:00:00\", \"y\": 0.043}, {\"x\": \"2016-08-11T00:00:00\", \"y\": 0.043}, {\"x\": \"2016-08-12T00:00:00\", \"y\": 0.043}, {\"x\": \"2016-08-15T00:00:00\", \"y\": 0.043}, {\"x\": \"2016-08-16T00:00:00\", \"y\": 0.043}, {\"x\": \"2016-08-17T00:00:00\", \"y\": 0.043}, {\"x\": \"2016-08-18T00:00:00\", \"y\": 0.043}, {\"x\": \"2016-08-19T00:00:00\", \"y\": 0.043}, {\"x\": \"2016-08-22T00:00:00\", \"y\": 0.043}, {\"x\": \"2016-08-23T00:00:00\", \"y\": 0.043}, {\"x\": \"2016-08-24T00:00:00\", \"y\": 0.043}, {\"x\": \"2016-08-25T00:00:00\", \"y\": 0.043}, {\"x\": \"2016-08-26T00:00:00\", \"y\": 0.043}, {\"x\": \"2016-08-29T00:00:00\", \"y\": 0.043}, {\"x\": \"2016-08-30T00:00:00\", \"y\": 0.043}, {\"x\": \"2016-08-31T00:00:00\", \"y\": 0.043}, {\"x\": \"2016-09-01T00:00:00\", \"y\": 0.043}, {\"x\": \"2016-09-02T00:00:00\", \"y\": 0.043}, {\"x\": \"2016-09-05T00:00:00\", \"y\": 0.043}, {\"x\": \"2016-09-06T00:00:00\", \"y\": 0.043}, {\"x\": \"2016-09-07T00:00:00\", \"y\": 0.043}, {\"x\": \"2016-09-08T00:00:00\", \"y\": 0.043}, {\"x\": \"2016-09-09T00:00:00\", \"y\": 0.043}, {\"x\": \"2016-09-12T00:00:00\", \"y\": 0.043}, {\"x\": \"2016-09-13T00:00:00\", \"y\": 0.043}, {\"x\": \"2016-09-14T00:00:00\", \"y\": 0.043}, {\"x\": \"2016-09-18T00:00:00\", \"y\": 0.043}, {\"x\": \"2016-09-19T00:00:00\", \"y\": 0.043}, {\"x\": \"2016-09-20T00:00:00\", \"y\": 0.043}, {\"x\": \"2016-09-21T00:00:00\", \"y\": 0.043}, {\"x\": \"2016-09-22T00:00:00\", \"y\": 0.043}, {\"x\": \"2016-09-23T00:00:00\", \"y\": 0.043}, {\"x\": \"2016-09-26T00:00:00\", \"y\": 0.043}, {\"x\": \"2016-09-27T00:00:00\", \"y\": 0.043}, {\"x\": \"2016-09-28T00:00:00\", \"y\": 0.043}, {\"x\": \"2016-09-29T00:00:00\", \"y\": 0.043}, {\"x\": \"2016-09-30T00:00:00\", \"y\": 0.043}, {\"x\": \"2016-10-08T00:00:00\", \"y\": 0.043}, {\"x\": \"2016-10-09T00:00:00\", \"y\": 0.043}, {\"x\": \"2016-10-10T00:00:00\", \"y\": 0.043}, {\"x\": \"2016-10-11T00:00:00\", \"y\": 0.043}, {\"x\": \"2016-10-12T00:00:00\", \"y\": 0.043}, {\"x\": \"2016-10-13T00:00:00\", \"y\": 0.043}, {\"x\": \"2016-10-14T00:00:00\", \"y\": 0.043}, {\"x\": \"2016-10-17T00:00:00\", \"y\": 0.043}, {\"x\": \"2016-10-18T00:00:00\", \"y\": 0.043}, {\"x\": \"2016-10-19T00:00:00\", \"y\": 0.043}, {\"x\": \"2016-10-20T00:00:00\", \"y\": 0.043}, {\"x\": \"2016-10-21T00:00:00\", \"y\": 0.043}, {\"x\": \"2016-10-24T00:00:00\", \"y\": 0.043}, {\"x\": \"2016-10-25T00:00:00\", \"y\": 0.043}, {\"x\": \"2016-10-26T00:00:00\", \"y\": 0.043}, {\"x\": \"2016-10-27T00:00:00\", \"y\": 0.043}, {\"x\": \"2016-10-28T00:00:00\", \"y\": 0.043}, {\"x\": \"2016-10-31T00:00:00\", \"y\": 0.043}, {\"x\": \"2016-11-01T00:00:00\", \"y\": 0.043}, {\"x\": \"2016-11-02T00:00:00\", \"y\": 0.043}, {\"x\": \"2016-11-03T00:00:00\", \"y\": 0.043}, {\"x\": \"2016-11-04T00:00:00\", \"y\": 0.043}, {\"x\": \"2016-11-07T00:00:00\", \"y\": 0.043}, {\"x\": \"2016-11-08T00:00:00\", \"y\": 0.043}, {\"x\": \"2016-11-09T00:00:00\", \"y\": 0.043}, {\"x\": \"2016-11-10T00:00:00\", \"y\": 0.043}, {\"x\": \"2016-11-11T00:00:00\", \"y\": 0.043}, {\"x\": \"2016-11-14T00:00:00\", \"y\": 0.043}, {\"x\": \"2016-11-15T00:00:00\", \"y\": 0.043}, {\"x\": \"2016-11-16T00:00:00\", \"y\": 0.043}, {\"x\": \"2016-11-17T00:00:00\", \"y\": 0.043}, {\"x\": \"2016-11-18T00:00:00\", \"y\": 0.043}, {\"x\": \"2016-11-21T00:00:00\", \"y\": 0.043}, {\"x\": \"2016-11-22T00:00:00\", \"y\": 0.043}, {\"x\": \"2016-11-23T00:00:00\", \"y\": 0.043}, {\"x\": \"2016-11-24T00:00:00\", \"y\": 0.043}, {\"x\": \"2016-11-25T00:00:00\", \"y\": 0.043}, {\"x\": \"2016-11-28T00:00:00\", \"y\": 0.043}, {\"x\": \"2016-11-29T00:00:00\", \"y\": 0.043}, {\"x\": \"2016-11-30T00:00:00\", \"y\": 0.043}, {\"x\": \"2016-12-01T00:00:00\", \"y\": 0.043}, {\"x\": \"2016-12-02T00:00:00\", \"y\": 0.043}, {\"x\": \"2016-12-05T00:00:00\", \"y\": 0.043}, {\"x\": \"2016-12-06T00:00:00\", \"y\": 0.043}, {\"x\": \"2016-12-07T00:00:00\", \"y\": 0.043}, {\"x\": \"2016-12-08T00:00:00\", \"y\": 0.043}, {\"x\": \"2016-12-09T00:00:00\", \"y\": 0.043}, {\"x\": \"2016-12-12T00:00:00\", \"y\": 0.043}, {\"x\": \"2016-12-13T00:00:00\", \"y\": 0.043}, {\"x\": \"2016-12-14T00:00:00\", \"y\": 0.043}, {\"x\": \"2016-12-15T00:00:00\", \"y\": 0.043}, {\"x\": \"2016-12-16T00:00:00\", \"y\": 0.043}, {\"x\": \"2016-12-19T00:00:00\", \"y\": 0.043}, {\"x\": \"2016-12-20T00:00:00\", \"y\": 0.043}, {\"x\": \"2016-12-21T00:00:00\", \"y\": 0.043}, {\"x\": \"2016-12-22T00:00:00\", \"y\": 0.043}, {\"x\": \"2016-12-23T00:00:00\", \"y\": 0.043}, {\"x\": \"2016-12-26T00:00:00\", \"y\": 0.043}, {\"x\": \"2016-12-27T00:00:00\", \"y\": 0.043}, {\"x\": \"2016-12-28T00:00:00\", \"y\": 0.043}, {\"x\": \"2016-12-29T00:00:00\", \"y\": 0.043}, {\"x\": \"2016-12-30T00:00:00\", \"y\": 0.043}, {\"x\": \"2017-01-03T00:00:00\", \"y\": 0.043}, {\"x\": \"2017-01-04T00:00:00\", \"y\": 0.043}, {\"x\": \"2017-01-05T00:00:00\", \"y\": 0.043}, {\"x\": \"2017-01-06T00:00:00\", \"y\": 0.043}, {\"x\": \"2017-01-09T00:00:00\", \"y\": 0.043}, {\"x\": \"2017-01-10T00:00:00\", \"y\": 0.043}, {\"x\": \"2017-01-11T00:00:00\", \"y\": 0.043}, {\"x\": \"2017-01-12T00:00:00\", \"y\": 0.043}, {\"x\": \"2017-01-13T00:00:00\", \"y\": 0.043}, {\"x\": \"2017-01-16T00:00:00\", \"y\": 0.043}, {\"x\": \"2017-01-17T00:00:00\", \"y\": 0.043}, {\"x\": \"2017-01-18T00:00:00\", \"y\": 0.043}, {\"x\": \"2017-01-19T00:00:00\", \"y\": 0.043}, {\"x\": \"2017-01-20T00:00:00\", \"y\": 0.043}, {\"x\": \"2017-01-22T00:00:00\", \"y\": 0.043}, {\"x\": \"2017-01-23T00:00:00\", \"y\": 0.043}, {\"x\": \"2017-01-24T00:00:00\", \"y\": 0.043}, {\"x\": \"2017-01-25T00:00:00\", \"y\": 0.043}, {\"x\": \"2017-01-26T00:00:00\", \"y\": 0.043}, {\"x\": \"2017-02-03T00:00:00\", \"y\": 0.043}, {\"x\": \"2017-02-04T00:00:00\", \"y\": 0.043}, {\"x\": \"2017-02-06T00:00:00\", \"y\": 0.043}, {\"x\": \"2017-02-07T00:00:00\", \"y\": 0.043}, {\"x\": \"2017-02-08T00:00:00\", \"y\": 0.043}, {\"x\": \"2017-02-09T00:00:00\", \"y\": 0.043}, {\"x\": \"2017-02-10T00:00:00\", \"y\": 0.043}, {\"x\": \"2017-02-13T00:00:00\", \"y\": 0.043}, {\"x\": \"2017-02-14T00:00:00\", \"y\": 0.043}, {\"x\": \"2017-02-15T00:00:00\", \"y\": 0.043}, {\"x\": \"2017-02-16T00:00:00\", \"y\": 0.043}, {\"x\": \"2017-02-17T00:00:00\", \"y\": 0.043}, {\"x\": \"2017-02-20T00:00:00\", \"y\": 0.043}, {\"x\": \"2017-02-21T00:00:00\", \"y\": 0.043}, {\"x\": \"2017-02-22T00:00:00\", \"y\": 0.043}, {\"x\": \"2017-02-23T00:00:00\", \"y\": 0.043}, {\"x\": \"2017-02-24T00:00:00\", \"y\": 0.043}, {\"x\": \"2017-02-27T00:00:00\", \"y\": 0.043}, {\"x\": \"2017-02-28T00:00:00\", \"y\": 0.043}, {\"x\": \"2017-03-01T00:00:00\", \"y\": 0.043}, {\"x\": \"2017-03-02T00:00:00\", \"y\": 0.043}, {\"x\": \"2017-03-03T00:00:00\", \"y\": 0.043}, {\"x\": \"2017-03-06T00:00:00\", \"y\": 0.043}, {\"x\": \"2017-03-07T00:00:00\", \"y\": 0.043}, {\"x\": \"2017-03-08T00:00:00\", \"y\": 0.043}, {\"x\": \"2017-03-09T00:00:00\", \"y\": 0.043}, {\"x\": \"2017-03-10T00:00:00\", \"y\": 0.043}, {\"x\": \"2017-03-13T00:00:00\", \"y\": 0.043}, {\"x\": \"2017-03-14T00:00:00\", \"y\": 0.043}, {\"x\": \"2017-03-15T00:00:00\", \"y\": 0.043}, {\"x\": \"2017-03-16T00:00:00\", \"y\": 0.043}, {\"x\": \"2017-03-17T00:00:00\", \"y\": 0.043}, {\"x\": \"2017-03-20T00:00:00\", \"y\": 0.043}, {\"x\": \"2017-03-21T00:00:00\", \"y\": 0.043}, {\"x\": \"2017-03-22T00:00:00\", \"y\": 0.043}, {\"x\": \"2017-03-23T00:00:00\", \"y\": 0.043}, {\"x\": \"2017-03-24T00:00:00\", \"y\": 0.043}, {\"x\": \"2017-03-27T00:00:00\", \"y\": 0.043}, {\"x\": \"2017-03-28T00:00:00\", \"y\": 0.043}, {\"x\": \"2017-03-29T00:00:00\", \"y\": 0.043}, {\"x\": \"2017-03-30T00:00:00\", \"y\": 0.043}, {\"x\": \"2017-03-31T00:00:00\", \"y\": 0.043}, {\"x\": \"2017-04-01T00:00:00\", \"y\": 0.043}, {\"x\": \"2017-04-05T00:00:00\", \"y\": 0.043}, {\"x\": \"2017-04-06T00:00:00\", \"y\": 0.043}, {\"x\": \"2017-04-07T00:00:00\", \"y\": 0.043}, {\"x\": \"2017-04-10T00:00:00\", \"y\": 0.043}, {\"x\": \"2017-04-11T00:00:00\", \"y\": 0.043}, {\"x\": \"2017-04-12T00:00:00\", \"y\": 0.043}, {\"x\": \"2017-04-13T00:00:00\", \"y\": 0.043}, {\"x\": \"2017-04-14T00:00:00\", \"y\": 0.043}, {\"x\": \"2017-04-17T00:00:00\", \"y\": 0.043}, {\"x\": \"2017-04-18T00:00:00\", \"y\": 0.043}, {\"x\": \"2017-04-19T00:00:00\", \"y\": 0.043}, {\"x\": \"2017-04-20T00:00:00\", \"y\": 0.043}, {\"x\": \"2017-04-21T00:00:00\", \"y\": 0.043}, {\"x\": \"2017-04-24T00:00:00\", \"y\": 0.043}, {\"x\": \"2017-04-25T00:00:00\", \"y\": 0.043}, {\"x\": \"2017-04-26T00:00:00\", \"y\": 0.043}, {\"x\": \"2017-04-27T00:00:00\", \"y\": 0.043}, {\"x\": \"2017-04-28T00:00:00\", \"y\": 0.043}, {\"x\": \"2017-05-02T00:00:00\", \"y\": 0.043}, {\"x\": \"2017-05-03T00:00:00\", \"y\": 0.043}, {\"x\": \"2017-05-04T00:00:00\", \"y\": 0.043}, {\"x\": \"2017-05-05T00:00:00\", \"y\": 0.043}, {\"x\": \"2017-05-08T00:00:00\", \"y\": 0.043}, {\"x\": \"2017-05-09T00:00:00\", \"y\": 0.043}, {\"x\": \"2017-05-10T00:00:00\", \"y\": 0.043}, {\"x\": \"2017-05-11T00:00:00\", \"y\": 0.043}, {\"x\": \"2017-05-12T00:00:00\", \"y\": 0.043}, {\"x\": \"2017-05-15T00:00:00\", \"y\": 0.043}, {\"x\": \"2017-05-16T00:00:00\", \"y\": 0.043}, {\"x\": \"2017-05-17T00:00:00\", \"y\": 0.043}, {\"x\": \"2017-05-18T00:00:00\", \"y\": 0.043}, {\"x\": \"2017-05-19T00:00:00\", \"y\": 0.043}, {\"x\": \"2017-05-22T00:00:00\", \"y\": 0.043}, {\"x\": \"2017-05-23T00:00:00\", \"y\": 0.043}, {\"x\": \"2017-05-24T00:00:00\", \"y\": 0.043}, {\"x\": \"2017-05-25T00:00:00\", \"y\": 0.043}, {\"x\": \"2017-05-26T00:00:00\", \"y\": 0.043}, {\"x\": \"2017-05-27T00:00:00\", \"y\": 0.043}, {\"x\": \"2017-05-31T00:00:00\", \"y\": 0.043}, {\"x\": \"2017-06-01T00:00:00\", \"y\": 0.043}, {\"x\": \"2017-06-02T00:00:00\", \"y\": 0.043}, {\"x\": \"2017-06-05T00:00:00\", \"y\": 0.043}, {\"x\": \"2017-06-06T00:00:00\", \"y\": 0.043}, {\"x\": \"2017-06-07T00:00:00\", \"y\": 0.043}, {\"x\": \"2017-06-08T00:00:00\", \"y\": 0.043}, {\"x\": \"2017-06-09T00:00:00\", \"y\": 0.043}, {\"x\": \"2017-06-12T00:00:00\", \"y\": 0.043}, {\"x\": \"2017-06-13T00:00:00\", \"y\": 0.043}, {\"x\": \"2017-06-14T00:00:00\", \"y\": 0.043}, {\"x\": \"2017-06-15T00:00:00\", \"y\": 0.043}, {\"x\": \"2017-06-16T00:00:00\", \"y\": 0.043}, {\"x\": \"2017-06-19T00:00:00\", \"y\": 0.043}, {\"x\": \"2017-06-20T00:00:00\", \"y\": 0.043}, {\"x\": \"2017-06-21T00:00:00\", \"y\": 0.043}, {\"x\": \"2017-06-22T00:00:00\", \"y\": 0.043}, {\"x\": \"2017-06-23T00:00:00\", \"y\": 0.043}, {\"x\": \"2017-06-26T00:00:00\", \"y\": 0.043}, {\"x\": \"2017-06-27T00:00:00\", \"y\": 0.043}, {\"x\": \"2017-06-28T00:00:00\", \"y\": 0.043}, {\"x\": \"2017-06-29T00:00:00\", \"y\": 0.043}, {\"x\": \"2017-06-30T00:00:00\", \"y\": 0.043}, {\"x\": \"2017-07-03T00:00:00\", \"y\": 0.043}, {\"x\": \"2017-07-04T00:00:00\", \"y\": 0.043}, {\"x\": \"2017-07-05T00:00:00\", \"y\": 0.043}, {\"x\": \"2017-07-06T00:00:00\", \"y\": 0.043}, {\"x\": \"2017-07-07T00:00:00\", \"y\": 0.043}, {\"x\": \"2017-07-10T00:00:00\", \"y\": 0.043}, {\"x\": \"2017-07-11T00:00:00\", \"y\": 0.043}, {\"x\": \"2017-07-12T00:00:00\", \"y\": 0.043}, {\"x\": \"2017-07-13T00:00:00\", \"y\": 0.043}, {\"x\": \"2017-07-14T00:00:00\", \"y\": 0.043}, {\"x\": \"2017-07-17T00:00:00\", \"y\": 0.043}, {\"x\": \"2017-07-18T00:00:00\", \"y\": 0.043}, {\"x\": \"2017-07-19T00:00:00\", \"y\": 0.043}, {\"x\": \"2017-07-20T00:00:00\", \"y\": 0.043}, {\"x\": \"2017-07-21T00:00:00\", \"y\": 0.043}, {\"x\": \"2017-07-24T00:00:00\", \"y\": 0.043}, {\"x\": \"2017-07-25T00:00:00\", \"y\": 0.043}, {\"x\": \"2017-07-26T00:00:00\", \"y\": 0.043}, {\"x\": \"2017-07-27T00:00:00\", \"y\": 0.043}, {\"x\": \"2017-07-28T00:00:00\", \"y\": 0.043}, {\"x\": \"2017-07-31T00:00:00\", \"y\": 0.043}, {\"x\": \"2017-08-01T00:00:00\", \"y\": 0.043}, {\"x\": \"2017-08-02T00:00:00\", \"y\": 0.043}, {\"x\": \"2017-08-03T00:00:00\", \"y\": 0.043}, {\"x\": \"2017-08-04T00:00:00\", \"y\": 0.043}, {\"x\": \"2017-08-07T00:00:00\", \"y\": 0.043}, {\"x\": \"2017-08-08T00:00:00\", \"y\": 0.043}, {\"x\": \"2017-08-09T00:00:00\", \"y\": 0.043}, {\"x\": \"2017-08-10T00:00:00\", \"y\": 0.043}, {\"x\": \"2017-08-11T00:00:00\", \"y\": 0.043}, {\"x\": \"2017-08-14T00:00:00\", \"y\": 0.043}, {\"x\": \"2017-08-15T00:00:00\", \"y\": 0.043}, {\"x\": \"2017-08-16T00:00:00\", \"y\": 0.043}, {\"x\": \"2017-08-17T00:00:00\", \"y\": 0.043}, {\"x\": \"2017-08-18T00:00:00\", \"y\": 0.043}, {\"x\": \"2017-08-21T00:00:00\", \"y\": 0.043}, {\"x\": \"2017-08-22T00:00:00\", \"y\": 0.043}, {\"x\": \"2017-08-23T00:00:00\", \"y\": 0.043}, {\"x\": \"2017-08-24T00:00:00\", \"y\": 0.043}, {\"x\": \"2017-08-25T00:00:00\", \"y\": 0.043}, {\"x\": \"2017-08-28T00:00:00\", \"y\": 0.043}, {\"x\": \"2017-08-29T00:00:00\", \"y\": 0.043}, {\"x\": \"2017-08-30T00:00:00\", \"y\": 0.043}, {\"x\": \"2017-08-31T00:00:00\", \"y\": 0.043}, {\"x\": \"2017-09-01T00:00:00\", \"y\": 0.043}, {\"x\": \"2017-09-04T00:00:00\", \"y\": 0.043}, {\"x\": \"2017-09-05T00:00:00\", \"y\": 0.043}, {\"x\": \"2017-09-06T00:00:00\", \"y\": 0.043}, {\"x\": \"2017-09-07T00:00:00\", \"y\": 0.043}, {\"x\": \"2017-09-08T00:00:00\", \"y\": 0.043}, {\"x\": \"2017-09-11T00:00:00\", \"y\": 0.043}, {\"x\": \"2017-09-12T00:00:00\", \"y\": 0.043}, {\"x\": \"2017-09-13T00:00:00\", \"y\": 0.043}, {\"x\": \"2017-09-14T00:00:00\", \"y\": 0.043}, {\"x\": \"2017-09-15T00:00:00\", \"y\": 0.043}, {\"x\": \"2017-09-18T00:00:00\", \"y\": 0.043}, {\"x\": \"2017-09-19T00:00:00\", \"y\": 0.043}, {\"x\": \"2017-09-20T00:00:00\", \"y\": 0.043}, {\"x\": \"2017-09-21T00:00:00\", \"y\": 0.043}, {\"x\": \"2017-09-22T00:00:00\", \"y\": 0.043}, {\"x\": \"2017-09-25T00:00:00\", \"y\": 0.043}, {\"x\": \"2017-09-26T00:00:00\", \"y\": 0.043}, {\"x\": \"2017-09-27T00:00:00\", \"y\": 0.043}, {\"x\": \"2017-09-28T00:00:00\", \"y\": 0.043}, {\"x\": \"2017-09-29T00:00:00\", \"y\": 0.043}, {\"x\": \"2017-09-30T00:00:00\", \"y\": 0.043}, {\"x\": \"2017-10-09T00:00:00\", \"y\": 0.043}, {\"x\": \"2017-10-10T00:00:00\", \"y\": 0.043}, {\"x\": \"2017-10-11T00:00:00\", \"y\": 0.043}, {\"x\": \"2017-10-12T00:00:00\", \"y\": 0.043}, {\"x\": \"2017-10-13T00:00:00\", \"y\": 0.043}, {\"x\": \"2017-10-16T00:00:00\", \"y\": 0.043}, {\"x\": \"2017-10-17T00:00:00\", \"y\": 0.043}, {\"x\": \"2017-10-18T00:00:00\", \"y\": 0.043}, {\"x\": \"2017-10-19T00:00:00\", \"y\": 0.043}, {\"x\": \"2017-10-20T00:00:00\", \"y\": 0.043}, {\"x\": \"2017-10-23T00:00:00\", \"y\": 0.043}, {\"x\": \"2017-10-24T00:00:00\", \"y\": 0.043}, {\"x\": \"2017-10-25T00:00:00\", \"y\": 0.043}, {\"x\": \"2017-10-26T00:00:00\", \"y\": 0.043}, {\"x\": \"2017-10-27T00:00:00\", \"y\": 0.043}, {\"x\": \"2017-10-30T00:00:00\", \"y\": 0.043}, {\"x\": \"2017-10-31T00:00:00\", \"y\": 0.043}, {\"x\": \"2017-11-01T00:00:00\", \"y\": 0.043}, {\"x\": \"2017-11-02T00:00:00\", \"y\": 0.043}, {\"x\": \"2017-11-03T00:00:00\", \"y\": 0.043}, {\"x\": \"2017-11-06T00:00:00\", \"y\": 0.043}, {\"x\": \"2017-11-07T00:00:00\", \"y\": 0.043}, {\"x\": \"2017-11-08T00:00:00\", \"y\": 0.043}, {\"x\": \"2017-11-09T00:00:00\", \"y\": 0.043}, {\"x\": \"2017-11-10T00:00:00\", \"y\": 0.043}, {\"x\": \"2017-11-13T00:00:00\", \"y\": 0.043}, {\"x\": \"2017-11-14T00:00:00\", \"y\": 0.043}, {\"x\": \"2017-11-15T00:00:00\", \"y\": 0.043}, {\"x\": \"2017-11-16T00:00:00\", \"y\": 0.043}, {\"x\": \"2017-11-17T00:00:00\", \"y\": 0.043}, {\"x\": \"2017-11-20T00:00:00\", \"y\": 0.043}, {\"x\": \"2017-11-21T00:00:00\", \"y\": 0.043}, {\"x\": \"2017-11-22T00:00:00\", \"y\": 0.043}, {\"x\": \"2017-11-23T00:00:00\", \"y\": 0.043}, {\"x\": \"2017-11-24T00:00:00\", \"y\": 0.043}, {\"x\": \"2017-11-27T00:00:00\", \"y\": 0.043}, {\"x\": \"2017-11-28T00:00:00\", \"y\": 0.043}, {\"x\": \"2017-11-29T00:00:00\", \"y\": 0.043}, {\"x\": \"2017-11-30T00:00:00\", \"y\": 0.043}, {\"x\": \"2017-12-01T00:00:00\", \"y\": 0.043}, {\"x\": \"2017-12-04T00:00:00\", \"y\": 0.043}, {\"x\": \"2017-12-05T00:00:00\", \"y\": 0.043}, {\"x\": \"2017-12-06T00:00:00\", \"y\": 0.043}, {\"x\": \"2017-12-07T00:00:00\", \"y\": 0.043}, {\"x\": \"2017-12-08T00:00:00\", \"y\": 0.043}, {\"x\": \"2017-12-11T00:00:00\", \"y\": 0.043}, {\"x\": \"2017-12-12T00:00:00\", \"y\": 0.043}, {\"x\": \"2017-12-13T00:00:00\", \"y\": 0.043}, {\"x\": \"2017-12-14T00:00:00\", \"y\": 0.043}, {\"x\": \"2017-12-15T00:00:00\", \"y\": 0.043}, {\"x\": \"2017-12-18T00:00:00\", \"y\": 0.043}, {\"x\": \"2017-12-19T00:00:00\", \"y\": 0.043}, {\"x\": \"2017-12-20T00:00:00\", \"y\": 0.043}, {\"x\": \"2017-12-21T00:00:00\", \"y\": 0.043}, {\"x\": \"2017-12-22T00:00:00\", \"y\": 0.043}, {\"x\": \"2017-12-25T00:00:00\", \"y\": 0.043}, {\"x\": \"2017-12-26T00:00:00\", \"y\": 0.043}, {\"x\": \"2017-12-27T00:00:00\", \"y\": 0.043}, {\"x\": \"2017-12-28T00:00:00\", \"y\": 0.043}, {\"x\": \"2017-12-29T00:00:00\", \"y\": 0.043}, {\"x\": \"2018-01-02T00:00:00\", \"y\": 0.043}, {\"x\": \"2018-01-03T00:00:00\", \"y\": 0.043}, {\"x\": \"2018-01-04T00:00:00\", \"y\": 0.043}, {\"x\": \"2018-01-05T00:00:00\", \"y\": 0.043}, {\"x\": \"2018-01-08T00:00:00\", \"y\": 0.043}, {\"x\": \"2018-01-09T00:00:00\", \"y\": 0.043}, {\"x\": \"2018-01-10T00:00:00\", \"y\": 0.043}, {\"x\": \"2018-01-11T00:00:00\", \"y\": 0.043}, {\"x\": \"2018-01-12T00:00:00\", \"y\": 0.043}, {\"x\": \"2018-01-15T00:00:00\", \"y\": 0.043}, {\"x\": \"2018-01-16T00:00:00\", \"y\": 0.043}, {\"x\": \"2018-01-17T00:00:00\", \"y\": 0.043}, {\"x\": \"2018-01-18T00:00:00\", \"y\": 0.043}, {\"x\": \"2018-01-19T00:00:00\", \"y\": 0.043}, {\"x\": \"2018-01-22T00:00:00\", \"y\": 0.043}, {\"x\": \"2018-01-23T00:00:00\", \"y\": 0.043}, {\"x\": \"2018-01-24T00:00:00\", \"y\": 0.043}, {\"x\": \"2018-01-25T00:00:00\", \"y\": 0.043}, {\"x\": \"2018-01-26T00:00:00\", \"y\": 0.043}, {\"x\": \"2018-01-29T00:00:00\", \"y\": 0.043}, {\"x\": \"2018-01-30T00:00:00\", \"y\": 0.043}, {\"x\": \"2018-01-31T00:00:00\", \"y\": 0.043}, {\"x\": \"2018-02-01T00:00:00\", \"y\": 0.043}, {\"x\": \"2018-02-02T00:00:00\", \"y\": 0.043}, {\"x\": \"2018-02-05T00:00:00\", \"y\": 0.043}, {\"x\": \"2018-02-06T00:00:00\", \"y\": 0.043}, {\"x\": \"2018-02-07T00:00:00\", \"y\": 0.043}, {\"x\": \"2018-02-08T00:00:00\", \"y\": 0.043}, {\"x\": \"2018-02-09T00:00:00\", \"y\": 0.043}, {\"x\": \"2018-02-11T00:00:00\", \"y\": 0.043}, {\"x\": \"2018-02-12T00:00:00\", \"y\": 0.043}, {\"x\": \"2018-02-13T00:00:00\", \"y\": 0.043}, {\"x\": \"2018-02-14T00:00:00\", \"y\": 0.043}, {\"x\": \"2018-02-22T00:00:00\", \"y\": 0.043}, {\"x\": \"2018-02-23T00:00:00\", \"y\": 0.043}, {\"x\": \"2018-02-24T00:00:00\", \"y\": 0.043}, {\"x\": \"2018-02-26T00:00:00\", \"y\": 0.043}, {\"x\": \"2018-02-27T00:00:00\", \"y\": 0.043}, {\"x\": \"2018-02-28T00:00:00\", \"y\": 0.043}, {\"x\": \"2018-03-01T00:00:00\", \"y\": 0.043}, {\"x\": \"2018-03-02T00:00:00\", \"y\": 0.043}, {\"x\": \"2018-03-05T00:00:00\", \"y\": 0.043}, {\"x\": \"2018-03-06T00:00:00\", \"y\": 0.043}, {\"x\": \"2018-03-07T00:00:00\", \"y\": 0.043}, {\"x\": \"2018-03-08T00:00:00\", \"y\": 0.043}, {\"x\": \"2018-03-09T00:00:00\", \"y\": 0.043}, {\"x\": \"2018-03-12T00:00:00\", \"y\": 0.043}, {\"x\": \"2018-03-13T00:00:00\", \"y\": 0.043}, {\"x\": \"2018-03-14T00:00:00\", \"y\": 0.043}, {\"x\": \"2018-03-15T00:00:00\", \"y\": 0.043}, {\"x\": \"2018-03-16T00:00:00\", \"y\": 0.043}, {\"x\": \"2018-03-19T00:00:00\", \"y\": 0.043}, {\"x\": \"2018-03-20T00:00:00\", \"y\": 0.043}, {\"x\": \"2018-03-21T00:00:00\", \"y\": 0.043}, {\"x\": \"2018-03-22T00:00:00\", \"y\": 0.043}, {\"x\": \"2018-03-23T00:00:00\", \"y\": 0.043}, {\"x\": \"2018-03-26T00:00:00\", \"y\": 0.043}, {\"x\": \"2018-03-27T00:00:00\", \"y\": 0.043}, {\"x\": \"2018-03-28T00:00:00\", \"y\": 0.043}, {\"x\": \"2018-03-29T00:00:00\", \"y\": 0.043}, {\"x\": \"2018-03-30T00:00:00\", \"y\": 0.043}, {\"x\": \"2018-04-02T00:00:00\", \"y\": 0.043}, {\"x\": \"2018-04-03T00:00:00\", \"y\": 0.043}, {\"x\": \"2018-04-04T00:00:00\", \"y\": 0.043}, {\"x\": \"2018-04-08T00:00:00\", \"y\": 0.0431}, {\"x\": \"2018-04-09T00:00:00\", \"y\": 0.0431}, {\"x\": \"2018-04-10T00:00:00\", \"y\": 0.0431}, {\"x\": \"2018-04-11T00:00:00\", \"y\": 0.0431}, {\"x\": \"2018-04-12T00:00:00\", \"y\": 0.0431}, {\"x\": \"2018-04-13T00:00:00\", \"y\": 0.0431}, {\"x\": \"2018-04-16T00:00:00\", \"y\": 0.0431}, {\"x\": \"2018-04-17T00:00:00\", \"y\": 0.0431}, {\"x\": \"2018-04-18T00:00:00\", \"y\": 0.0431}, {\"x\": \"2018-04-19T00:00:00\", \"y\": 0.0431}, {\"x\": \"2018-04-20T00:00:00\", \"y\": 0.0431}, {\"x\": \"2018-04-23T00:00:00\", \"y\": 0.0431}, {\"x\": \"2018-04-24T00:00:00\", \"y\": 0.0431}, {\"x\": \"2018-04-25T00:00:00\", \"y\": 0.0431}, {\"x\": \"2018-04-26T00:00:00\", \"y\": 0.0431}, {\"x\": \"2018-04-27T00:00:00\", \"y\": 0.0431}, {\"x\": \"2018-04-28T00:00:00\", \"y\": 0.0431}, {\"x\": \"2018-05-02T00:00:00\", \"y\": 0.0431}, {\"x\": \"2018-05-03T00:00:00\", \"y\": 0.0431}, {\"x\": \"2018-05-04T00:00:00\", \"y\": 0.0431}, {\"x\": \"2018-05-07T00:00:00\", \"y\": 0.0431}, {\"x\": \"2018-05-08T00:00:00\", \"y\": 0.0431}, {\"x\": \"2018-05-09T00:00:00\", \"y\": 0.0431}, {\"x\": \"2018-05-10T00:00:00\", \"y\": 0.0431}, {\"x\": \"2018-05-11T00:00:00\", \"y\": 0.0431}, {\"x\": \"2018-05-14T00:00:00\", \"y\": 0.0431}, {\"x\": \"2018-05-15T00:00:00\", \"y\": 0.0431}, {\"x\": \"2018-05-16T00:00:00\", \"y\": 0.0431}, {\"x\": \"2018-05-17T00:00:00\", \"y\": 0.0431}, {\"x\": \"2018-05-18T00:00:00\", \"y\": 0.0431}, {\"x\": \"2018-05-21T00:00:00\", \"y\": 0.0431}, {\"x\": \"2018-05-22T00:00:00\", \"y\": 0.0431}, {\"x\": \"2018-05-23T00:00:00\", \"y\": 0.0431}, {\"x\": \"2018-05-24T00:00:00\", \"y\": 0.0431}, {\"x\": \"2018-05-25T00:00:00\", \"y\": 0.0431}, {\"x\": \"2018-05-28T00:00:00\", \"y\": 0.0431}, {\"x\": \"2018-05-29T00:00:00\", \"y\": 0.0431}, {\"x\": \"2018-05-30T00:00:00\", \"y\": 0.0431}, {\"x\": \"2018-05-31T00:00:00\", \"y\": 0.0431}, {\"x\": \"2018-06-01T00:00:00\", \"y\": 0.0431}, {\"x\": \"2018-06-04T00:00:00\", \"y\": 0.0431}, {\"x\": \"2018-06-05T00:00:00\", \"y\": 0.0431}, {\"x\": \"2018-06-06T00:00:00\", \"y\": 0.0431}, {\"x\": \"2018-06-07T00:00:00\", \"y\": 0.0431}, {\"x\": \"2018-06-08T00:00:00\", \"y\": 0.0431}, {\"x\": \"2018-06-11T00:00:00\", \"y\": 0.0431}, {\"x\": \"2018-06-12T00:00:00\", \"y\": 0.0431}, {\"x\": \"2018-06-13T00:00:00\", \"y\": 0.0431}, {\"x\": \"2018-06-14T00:00:00\", \"y\": 0.0431}, {\"x\": \"2018-06-15T00:00:00\", \"y\": 0.0431}, {\"x\": \"2018-06-19T00:00:00\", \"y\": 0.0431}, {\"x\": \"2018-06-20T00:00:00\", \"y\": 0.0431}, {\"x\": \"2018-06-21T00:00:00\", \"y\": 0.0431}, {\"x\": \"2018-06-22T00:00:00\", \"y\": 0.0431}, {\"x\": \"2018-06-25T00:00:00\", \"y\": 0.0431}, {\"x\": \"2018-06-26T00:00:00\", \"y\": 0.0431}, {\"x\": \"2018-06-27T00:00:00\", \"y\": 0.0431}, {\"x\": \"2018-06-28T00:00:00\", \"y\": 0.0431}, {\"x\": \"2018-06-29T00:00:00\", \"y\": 0.0431}, {\"x\": \"2018-07-02T00:00:00\", \"y\": 0.0431}, {\"x\": \"2018-07-03T00:00:00\", \"y\": 0.0431}, {\"x\": \"2018-07-04T00:00:00\", \"y\": 0.0431}, {\"x\": \"2018-07-05T00:00:00\", \"y\": 0.0431}, {\"x\": \"2018-07-06T00:00:00\", \"y\": 0.0431}, {\"x\": \"2018-07-09T00:00:00\", \"y\": 0.0431}, {\"x\": \"2018-07-10T00:00:00\", \"y\": 0.0431}, {\"x\": \"2018-07-11T00:00:00\", \"y\": 0.0431}, {\"x\": \"2018-07-12T00:00:00\", \"y\": 0.0431}, {\"x\": \"2018-07-13T00:00:00\", \"y\": 0.0431}, {\"x\": \"2018-07-16T00:00:00\", \"y\": 0.0431}, {\"x\": \"2018-07-17T00:00:00\", \"y\": 0.0431}, {\"x\": \"2018-07-18T00:00:00\", \"y\": 0.0431}, {\"x\": \"2018-07-19T00:00:00\", \"y\": 0.0431}, {\"x\": \"2018-07-20T00:00:00\", \"y\": 0.0431}, {\"x\": \"2018-07-23T00:00:00\", \"y\": 0.0431}, {\"x\": \"2018-07-24T00:00:00\", \"y\": 0.0431}, {\"x\": \"2018-07-25T00:00:00\", \"y\": 0.0431}, {\"x\": \"2018-07-26T00:00:00\", \"y\": 0.0431}, {\"x\": \"2018-07-27T00:00:00\", \"y\": 0.0431}, {\"x\": \"2018-07-30T00:00:00\", \"y\": 0.0431}, {\"x\": \"2018-07-31T00:00:00\", \"y\": 0.0431}, {\"x\": \"2018-08-01T00:00:00\", \"y\": 0.0431}, {\"x\": \"2018-08-02T00:00:00\", \"y\": 0.0431}, {\"x\": \"2018-08-03T00:00:00\", \"y\": 0.0431}, {\"x\": \"2018-08-06T00:00:00\", \"y\": 0.0431}, {\"x\": \"2018-08-07T00:00:00\", \"y\": 0.0431}, {\"x\": \"2018-08-08T00:00:00\", \"y\": 0.0431}, {\"x\": \"2018-08-09T00:00:00\", \"y\": 0.0431}, {\"x\": \"2018-08-10T00:00:00\", \"y\": 0.0431}, {\"x\": \"2018-08-13T00:00:00\", \"y\": 0.0431}, {\"x\": \"2018-08-14T00:00:00\", \"y\": 0.0431}, {\"x\": \"2018-08-15T00:00:00\", \"y\": 0.0431}, {\"x\": \"2018-08-16T00:00:00\", \"y\": 0.0431}, {\"x\": \"2018-08-17T00:00:00\", \"y\": 0.0431}, {\"x\": \"2018-08-20T00:00:00\", \"y\": 0.0431}, {\"x\": \"2018-08-21T00:00:00\", \"y\": 0.0431}, {\"x\": \"2018-08-22T00:00:00\", \"y\": 0.0431}, {\"x\": \"2018-08-23T00:00:00\", \"y\": 0.0431}, {\"x\": \"2018-08-24T00:00:00\", \"y\": 0.0431}, {\"x\": \"2018-08-27T00:00:00\", \"y\": 0.0431}, {\"x\": \"2018-08-28T00:00:00\", \"y\": 0.0431}, {\"x\": \"2018-08-29T00:00:00\", \"y\": 0.0431}, {\"x\": \"2018-08-30T00:00:00\", \"y\": 0.0431}, {\"x\": \"2018-08-31T00:00:00\", \"y\": 0.0431}, {\"x\": \"2018-09-03T00:00:00\", \"y\": 0.0431}, {\"x\": \"2018-09-04T00:00:00\", \"y\": 0.0431}, {\"x\": \"2018-09-05T00:00:00\", \"y\": 0.0431}, {\"x\": \"2018-09-06T00:00:00\", \"y\": 0.0431}, {\"x\": \"2018-09-07T00:00:00\", \"y\": 0.0431}, {\"x\": \"2018-09-10T00:00:00\", \"y\": 0.0431}, {\"x\": \"2018-09-11T00:00:00\", \"y\": 0.0431}, {\"x\": \"2018-09-12T00:00:00\", \"y\": 0.0431}, {\"x\": \"2018-09-13T00:00:00\", \"y\": 0.0431}, {\"x\": \"2018-09-14T00:00:00\", \"y\": 0.0431}, {\"x\": \"2018-09-17T00:00:00\", \"y\": 0.0431}, {\"x\": \"2018-09-18T00:00:00\", \"y\": 0.0431}, {\"x\": \"2018-09-19T00:00:00\", \"y\": 0.0431}, {\"x\": \"2018-09-20T00:00:00\", \"y\": 0.0431}, {\"x\": \"2018-09-21T00:00:00\", \"y\": 0.0431}, {\"x\": \"2018-09-25T00:00:00\", \"y\": 0.0431}, {\"x\": \"2018-09-26T00:00:00\", \"y\": 0.0431}, {\"x\": \"2018-09-27T00:00:00\", \"y\": 0.0431}, {\"x\": \"2018-09-28T00:00:00\", \"y\": 0.0431}, {\"x\": \"2018-09-29T00:00:00\", \"y\": 0.0431}, {\"x\": \"2018-09-30T00:00:00\", \"y\": 0.0431}, {\"x\": \"2018-10-08T00:00:00\", \"y\": 0.0431}, {\"x\": \"2018-10-09T00:00:00\", \"y\": 0.0431}, {\"x\": \"2018-10-10T00:00:00\", \"y\": 0.0431}, {\"x\": \"2018-10-11T00:00:00\", \"y\": 0.0431}, {\"x\": \"2018-10-12T00:00:00\", \"y\": 0.0431}, {\"x\": \"2018-10-15T00:00:00\", \"y\": 0.0431}, {\"x\": \"2018-10-16T00:00:00\", \"y\": 0.0431}, {\"x\": \"2018-10-17T00:00:00\", \"y\": 0.0431}, {\"x\": \"2018-10-18T00:00:00\", \"y\": 0.0431}, {\"x\": \"2018-10-19T00:00:00\", \"y\": 0.0431}, {\"x\": \"2018-10-22T00:00:00\", \"y\": 0.0431}, {\"x\": \"2018-10-23T00:00:00\", \"y\": 0.0431}, {\"x\": \"2018-10-24T00:00:00\", \"y\": 0.0431}, {\"x\": \"2018-10-25T00:00:00\", \"y\": 0.0431}, {\"x\": \"2018-10-26T00:00:00\", \"y\": 0.0431}, {\"x\": \"2018-10-29T00:00:00\", \"y\": 0.0431}, {\"x\": \"2018-10-30T00:00:00\", \"y\": 0.0431}, {\"x\": \"2018-10-31T00:00:00\", \"y\": 0.0431}, {\"x\": \"2018-11-01T00:00:00\", \"y\": 0.0431}, {\"x\": \"2018-11-02T00:00:00\", \"y\": 0.0431}, {\"x\": \"2018-11-05T00:00:00\", \"y\": 0.0431}, {\"x\": \"2018-11-06T00:00:00\", \"y\": 0.0431}, {\"x\": \"2018-11-07T00:00:00\", \"y\": 0.0431}, {\"x\": \"2018-11-08T00:00:00\", \"y\": 0.0431}, {\"x\": \"2018-11-09T00:00:00\", \"y\": 0.0431}, {\"x\": \"2018-11-12T00:00:00\", \"y\": 0.0431}, {\"x\": \"2018-11-13T00:00:00\", \"y\": 0.0431}, {\"x\": \"2018-11-14T00:00:00\", \"y\": 0.0431}, {\"x\": \"2018-11-15T00:00:00\", \"y\": 0.0431}, {\"x\": \"2018-11-16T00:00:00\", \"y\": 0.0431}, {\"x\": \"2018-11-19T00:00:00\", \"y\": 0.0431}, {\"x\": \"2018-11-20T00:00:00\", \"y\": 0.0431}, {\"x\": \"2018-11-21T00:00:00\", \"y\": 0.0431}, {\"x\": \"2018-11-22T00:00:00\", \"y\": 0.0431}, {\"x\": \"2018-11-23T00:00:00\", \"y\": 0.0431}, {\"x\": \"2018-11-26T00:00:00\", \"y\": 0.0431}, {\"x\": \"2018-11-27T00:00:00\", \"y\": 0.0431}, {\"x\": \"2018-11-28T00:00:00\", \"y\": 0.0431}, {\"x\": \"2018-11-29T00:00:00\", \"y\": 0.0431}, {\"x\": \"2018-11-30T00:00:00\", \"y\": 0.0431}, {\"x\": \"2018-12-03T00:00:00\", \"y\": 0.0431}, {\"x\": \"2018-12-04T00:00:00\", \"y\": 0.0431}, {\"x\": \"2018-12-05T00:00:00\", \"y\": 0.0431}, {\"x\": \"2018-12-06T00:00:00\", \"y\": 0.0431}, {\"x\": \"2018-12-07T00:00:00\", \"y\": 0.0431}, {\"x\": \"2018-12-10T00:00:00\", \"y\": 0.0431}, {\"x\": \"2018-12-11T00:00:00\", \"y\": 0.0431}, {\"x\": \"2018-12-12T00:00:00\", \"y\": 0.0431}, {\"x\": \"2018-12-13T00:00:00\", \"y\": 0.0431}, {\"x\": \"2018-12-14T00:00:00\", \"y\": 0.0431}, {\"x\": \"2018-12-17T00:00:00\", \"y\": 0.0431}, {\"x\": \"2018-12-18T00:00:00\", \"y\": 0.0431}, {\"x\": \"2018-12-19T00:00:00\", \"y\": 0.0431}, {\"x\": \"2018-12-20T00:00:00\", \"y\": 0.0431}, {\"x\": \"2018-12-21T00:00:00\", \"y\": 0.0431}, {\"x\": \"2018-12-24T00:00:00\", \"y\": 0.0431}, {\"x\": \"2018-12-25T00:00:00\", \"y\": 0.0431}, {\"x\": \"2018-12-26T00:00:00\", \"y\": 0.0431}, {\"x\": \"2018-12-27T00:00:00\", \"y\": 0.0431}, {\"x\": \"2018-12-28T00:00:00\", \"y\": 0.0431}, {\"x\": \"2018-12-29T00:00:00\", \"y\": 0.0431}, {\"x\": \"2019-01-02T00:00:00\", \"y\": 0.0431}, {\"x\": \"2019-01-03T00:00:00\", \"y\": 0.0431}, {\"x\": \"2019-01-04T00:00:00\", \"y\": 0.0431}, {\"x\": \"2019-01-07T00:00:00\", \"y\": 0.0431}, {\"x\": \"2019-01-08T00:00:00\", \"y\": 0.0431}, {\"x\": \"2019-01-09T00:00:00\", \"y\": 0.0431}, {\"x\": \"2019-01-10T00:00:00\", \"y\": 0.0431}, {\"x\": \"2019-01-11T00:00:00\", \"y\": 0.0431}, {\"x\": \"2019-01-14T00:00:00\", \"y\": 0.0431}, {\"x\": \"2019-01-15T00:00:00\", \"y\": 0.0431}, {\"x\": \"2019-01-16T00:00:00\", \"y\": 0.0431}, {\"x\": \"2019-01-17T00:00:00\", \"y\": 0.0431}, {\"x\": \"2019-01-18T00:00:00\", \"y\": 0.0431}, {\"x\": \"2019-01-21T00:00:00\", \"y\": 0.0431}, {\"x\": \"2019-01-22T00:00:00\", \"y\": 0.0431}, {\"x\": \"2019-01-23T00:00:00\", \"y\": 0.0431}, {\"x\": \"2019-01-24T00:00:00\", \"y\": 0.0431}, {\"x\": \"2019-01-25T00:00:00\", \"y\": 0.0431}, {\"x\": \"2019-01-28T00:00:00\", \"y\": 0.0431}, {\"x\": \"2019-01-29T00:00:00\", \"y\": 0.0431}, {\"x\": \"2019-01-30T00:00:00\", \"y\": 0.0431}, {\"x\": \"2019-01-31T00:00:00\", \"y\": 0.0431}, {\"x\": \"2019-02-01T00:00:00\", \"y\": 0.0431}, {\"x\": \"2019-02-02T00:00:00\", \"y\": 0.0431}, {\"x\": \"2019-02-03T00:00:00\", \"y\": 0.0431}, {\"x\": \"2019-02-11T00:00:00\", \"y\": 0.0431}, {\"x\": \"2019-02-12T00:00:00\", \"y\": 0.0431}, {\"x\": \"2019-02-13T00:00:00\", \"y\": 0.0431}, {\"x\": \"2019-02-14T00:00:00\", \"y\": 0.0431}, {\"x\": \"2019-02-15T00:00:00\", \"y\": 0.0431}, {\"x\": \"2019-02-18T00:00:00\", \"y\": 0.0431}, {\"x\": \"2019-02-19T00:00:00\", \"y\": 0.0431}, {\"x\": \"2019-02-20T00:00:00\", \"y\": 0.0431}, {\"x\": \"2019-02-21T00:00:00\", \"y\": 0.0431}, {\"x\": \"2019-02-22T00:00:00\", \"y\": 0.0431}, {\"x\": \"2019-02-25T00:00:00\", \"y\": 0.0431}, {\"x\": \"2019-02-26T00:00:00\", \"y\": 0.0431}, {\"x\": \"2019-02-27T00:00:00\", \"y\": 0.0431}, {\"x\": \"2019-02-28T00:00:00\", \"y\": 0.0431}, {\"x\": \"2019-03-01T00:00:00\", \"y\": 0.0431}, {\"x\": \"2019-03-04T00:00:00\", \"y\": 0.0431}, {\"x\": \"2019-03-05T00:00:00\", \"y\": 0.0431}, {\"x\": \"2019-03-06T00:00:00\", \"y\": 0.0431}, {\"x\": \"2019-03-07T00:00:00\", \"y\": 0.0431}, {\"x\": \"2019-03-08T00:00:00\", \"y\": 0.0431}, {\"x\": \"2019-03-11T00:00:00\", \"y\": 0.0431}, {\"x\": \"2019-03-12T00:00:00\", \"y\": 0.0431}, {\"x\": \"2019-03-13T00:00:00\", \"y\": 0.0431}, {\"x\": \"2019-03-14T00:00:00\", \"y\": 0.0431}, {\"x\": \"2019-03-15T00:00:00\", \"y\": 0.0431}, {\"x\": \"2019-03-18T00:00:00\", \"y\": 0.0431}, {\"x\": \"2019-03-19T00:00:00\", \"y\": 0.0431}, {\"x\": \"2019-03-20T00:00:00\", \"y\": 0.0431}, {\"x\": \"2019-03-21T00:00:00\", \"y\": 0.0431}, {\"x\": \"2019-03-22T00:00:00\", \"y\": 0.0431}, {\"x\": \"2019-03-25T00:00:00\", \"y\": 0.0431}, {\"x\": \"2019-03-26T00:00:00\", \"y\": 0.0431}, {\"x\": \"2019-03-27T00:00:00\", \"y\": 0.0431}, {\"x\": \"2019-03-28T00:00:00\", \"y\": 0.0431}, {\"x\": \"2019-03-29T00:00:00\", \"y\": 0.0431}, {\"x\": \"2019-04-01T00:00:00\", \"y\": 0.0431}, {\"x\": \"2019-04-02T00:00:00\", \"y\": 0.0431}, {\"x\": \"2019-04-03T00:00:00\", \"y\": 0.0431}, {\"x\": \"2019-04-04T00:00:00\", \"y\": 0.0431}, {\"x\": \"2019-04-08T00:00:00\", \"y\": 0.0431}, {\"x\": \"2019-04-09T00:00:00\", \"y\": 0.0431}, {\"x\": \"2019-04-10T00:00:00\", \"y\": 0.0431}, {\"x\": \"2019-04-11T00:00:00\", \"y\": 0.0431}, {\"x\": \"2019-04-12T00:00:00\", \"y\": 0.0431}, {\"x\": \"2019-04-15T00:00:00\", \"y\": 0.0431}, {\"x\": \"2019-04-16T00:00:00\", \"y\": 0.0431}, {\"x\": \"2019-04-17T00:00:00\", \"y\": 0.0431}, {\"x\": \"2019-04-18T00:00:00\", \"y\": 0.0431}, {\"x\": \"2019-04-19T00:00:00\", \"y\": 0.0431}, {\"x\": \"2019-04-22T00:00:00\", \"y\": 0.0431}, {\"x\": \"2019-04-23T00:00:00\", \"y\": 0.0431}, {\"x\": \"2019-04-24T00:00:00\", \"y\": 0.0431}, {\"x\": \"2019-04-25T00:00:00\", \"y\": 0.0431}, {\"x\": \"2019-04-26T00:00:00\", \"y\": 0.0431}, {\"x\": \"2019-04-28T00:00:00\", \"y\": 0.0431}, {\"x\": \"2019-04-29T00:00:00\", \"y\": 0.0431}, {\"x\": \"2019-04-30T00:00:00\", \"y\": 0.0431}, {\"x\": \"2019-05-05T00:00:00\", \"y\": 0.0431}, {\"x\": \"2019-05-06T00:00:00\", \"y\": 0.0431}, {\"x\": \"2019-05-07T00:00:00\", \"y\": 0.0431}, {\"x\": \"2019-05-08T00:00:00\", \"y\": 0.0431}, {\"x\": \"2019-05-09T00:00:00\", \"y\": 0.0431}, {\"x\": \"2019-05-10T00:00:00\", \"y\": 0.0431}, {\"x\": \"2019-05-13T00:00:00\", \"y\": 0.0431}, {\"x\": \"2019-05-14T00:00:00\", \"y\": 0.0431}, {\"x\": \"2019-05-15T00:00:00\", \"y\": 0.0431}, {\"x\": \"2019-05-16T00:00:00\", \"y\": 0.0431}, {\"x\": \"2019-05-17T00:00:00\", \"y\": 0.0431}, {\"x\": \"2019-05-20T00:00:00\", \"y\": 0.0431}, {\"x\": \"2019-05-21T00:00:00\", \"y\": 0.0431}, {\"x\": \"2019-05-22T00:00:00\", \"y\": 0.0431}, {\"x\": \"2019-05-23T00:00:00\", \"y\": 0.0431}, {\"x\": \"2019-05-24T00:00:00\", \"y\": 0.0431}, {\"x\": \"2019-05-27T00:00:00\", \"y\": 0.0431}, {\"x\": \"2019-05-28T00:00:00\", \"y\": 0.0431}, {\"x\": \"2019-05-29T00:00:00\", \"y\": 0.0431}, {\"x\": \"2019-05-30T00:00:00\", \"y\": 0.0431}, {\"x\": \"2019-05-31T00:00:00\", \"y\": 0.0431}, {\"x\": \"2019-06-03T00:00:00\", \"y\": 0.0431}, {\"x\": \"2019-06-04T00:00:00\", \"y\": 0.0431}, {\"x\": \"2019-06-05T00:00:00\", \"y\": 0.0431}, {\"x\": \"2019-06-06T00:00:00\", \"y\": 0.0431}, {\"x\": \"2019-06-10T00:00:00\", \"y\": 0.0431}, {\"x\": \"2019-06-11T00:00:00\", \"y\": 0.0431}, {\"x\": \"2019-06-12T00:00:00\", \"y\": 0.0431}, {\"x\": \"2019-06-13T00:00:00\", \"y\": 0.0431}, {\"x\": \"2019-06-14T00:00:00\", \"y\": 0.0431}, {\"x\": \"2019-06-17T00:00:00\", \"y\": 0.0431}, {\"x\": \"2019-06-18T00:00:00\", \"y\": 0.0431}, {\"x\": \"2019-06-19T00:00:00\", \"y\": 0.0431}, {\"x\": \"2019-06-20T00:00:00\", \"y\": 0.0431}, {\"x\": \"2019-06-21T00:00:00\", \"y\": 0.0431}, {\"x\": \"2019-06-24T00:00:00\", \"y\": 0.0431}, {\"x\": \"2019-06-25T00:00:00\", \"y\": 0.0431}, {\"x\": \"2019-06-26T00:00:00\", \"y\": 0.0431}, {\"x\": \"2019-06-27T00:00:00\", \"y\": 0.0431}, {\"x\": \"2019-06-28T00:00:00\", \"y\": 0.0431}, {\"x\": \"2019-07-01T00:00:00\", \"y\": 0.0431}, {\"x\": \"2019-07-02T00:00:00\", \"y\": 0.0431}, {\"x\": \"2019-07-03T00:00:00\", \"y\": 0.0431}, {\"x\": \"2019-07-04T00:00:00\", \"y\": 0.0431}, {\"x\": \"2019-07-05T00:00:00\", \"y\": 0.0431}, {\"x\": \"2019-07-08T00:00:00\", \"y\": 0.0431}, {\"x\": \"2019-07-09T00:00:00\", \"y\": 0.0431}, {\"x\": \"2019-07-10T00:00:00\", \"y\": 0.0431}, {\"x\": \"2019-07-11T00:00:00\", \"y\": 0.0431}, {\"x\": \"2019-07-12T00:00:00\", \"y\": 0.0431}, {\"x\": \"2019-07-15T00:00:00\", \"y\": 0.0431}, {\"x\": \"2019-07-16T00:00:00\", \"y\": 0.0431}, {\"x\": \"2019-07-17T00:00:00\", \"y\": 0.0431}, {\"x\": \"2019-07-18T00:00:00\", \"y\": 0.0431}, {\"x\": \"2019-07-19T00:00:00\", \"y\": 0.0431}, {\"x\": \"2019-07-22T00:00:00\", \"y\": 0.0431}, {\"x\": \"2019-07-23T00:00:00\", \"y\": 0.0431}, {\"x\": \"2019-07-24T00:00:00\", \"y\": 0.0431}, {\"x\": \"2019-07-25T00:00:00\", \"y\": 0.0431}, {\"x\": \"2019-07-26T00:00:00\", \"y\": 0.0431}, {\"x\": \"2019-07-29T00:00:00\", \"y\": 0.0431}, {\"x\": \"2019-07-30T00:00:00\", \"y\": 0.0431}, {\"x\": \"2019-07-31T00:00:00\", \"y\": 0.0431}, {\"x\": \"2019-08-01T00:00:00\", \"y\": 0.0431}, {\"x\": \"2019-08-02T00:00:00\", \"y\": 0.0431}, {\"x\": \"2019-08-05T00:00:00\", \"y\": 0.0431}, {\"x\": \"2019-08-06T00:00:00\", \"y\": 0.0431}, {\"x\": \"2019-08-07T00:00:00\", \"y\": 0.0431}, {\"x\": \"2019-08-08T00:00:00\", \"y\": 0.0431}, {\"x\": \"2019-08-09T00:00:00\", \"y\": 0.0431}, {\"x\": \"2019-08-12T00:00:00\", \"y\": 0.0431}, {\"x\": \"2019-08-13T00:00:00\", \"y\": 0.0431}, {\"x\": \"2019-08-14T00:00:00\", \"y\": 0.0431}, {\"x\": \"2019-08-15T00:00:00\", \"y\": 0.0431}, {\"x\": \"2019-08-16T00:00:00\", \"y\": 0.0431}, {\"x\": \"2019-08-20T00:00:00\", \"y\": 0.0425}, {\"x\": \"2019-09-20T00:00:00\", \"y\": 0.042}, {\"x\": \"2019-10-09T00:00:00\", \"y\": 0.042}, {\"x\": \"2019-10-14T00:00:00\", \"y\": 0.042}, {\"x\": \"2019-10-15T00:00:00\", \"y\": 0.042}, {\"x\": \"2019-10-21T00:00:00\", \"y\": 0.042}, {\"x\": \"2019-11-15T00:00:00\", \"y\": 0.042}, {\"x\": \"2019-11-18T00:00:00\", \"y\": 0.042}, {\"x\": \"2019-11-20T00:00:00\", \"y\": 0.0415}, {\"x\": \"2019-11-28T00:00:00\", \"y\": 0.0415}, {\"x\": \"2019-11-29T00:00:00\", \"y\": 0.0415}, {\"x\": \"2019-12-04T00:00:00\", \"y\": 0.0415}, {\"x\": \"2019-12-06T00:00:00\", \"y\": 0.0415}, {\"x\": \"2019-12-17T00:00:00\", \"y\": 0.0415}, {\"x\": \"2019-12-20T00:00:00\", \"y\": 0.0415}, {\"x\": \"2019-12-25T00:00:00\", \"y\": 0.0415}, {\"x\": \"2020-01-08T00:00:00\", \"y\": 0.0415}, {\"x\": \"2020-01-17T00:00:00\", \"y\": 0.0415}, {\"x\": \"2020-01-20T00:00:00\", \"y\": 0.0415}, {\"x\": \"2020-02-03T00:00:00\", \"y\": 0.0415}, {\"x\": \"2020-02-04T00:00:00\", \"y\": 0.0415}, {\"x\": \"2020-02-14T00:00:00\", \"y\": 0.0415}, {\"x\": \"2020-02-17T00:00:00\", \"y\": 0.0415}, {\"x\": \"2020-02-18T00:00:00\", \"y\": 0.0415}, {\"x\": \"2020-02-20T00:00:00\", \"y\": 0.0405}, {\"x\": \"2020-03-06T00:00:00\", \"y\": 0.0405}, {\"x\": \"2020-03-10T00:00:00\", \"y\": 0.0405}, {\"x\": \"2020-03-11T00:00:00\", \"y\": 0.0405}, {\"x\": \"2020-03-16T00:00:00\", \"y\": 0.0405}, {\"x\": \"2020-03-20T00:00:00\", \"y\": 0.0405}, {\"x\": \"2020-03-24T00:00:00\", \"y\": 0.0405}, {\"x\": \"2020-04-02T00:00:00\", \"y\": 0.0405}, {\"x\": \"2020-04-08T00:00:00\", \"y\": 0.0405}, {\"x\": \"2020-04-09T00:00:00\", \"y\": 0.0405}, {\"x\": \"2020-04-20T00:00:00\", \"y\": 0.0385}, {\"x\": \"2020-04-29T00:00:00\", \"y\": 0.0385}, {\"x\": \"2020-05-07T00:00:00\", \"y\": 0.0385}, {\"x\": \"2020-05-09T00:00:00\", \"y\": 0.0385}, {\"x\": \"2020-05-11T00:00:00\", \"y\": 0.0385}, {\"x\": \"2020-05-12T00:00:00\", \"y\": 0.0385}, {\"x\": \"2020-05-13T00:00:00\", \"y\": 0.0385}, {\"x\": \"2020-05-14T00:00:00\", \"y\": 0.0385}, {\"x\": \"2020-05-15T00:00:00\", \"y\": 0.0385}, {\"x\": \"2020-05-20T00:00:00\", \"y\": 0.0385}, {\"x\": \"2020-05-21T00:00:00\", \"y\": 0.0385}, {\"x\": \"2020-06-03T00:00:00\", \"y\": 0.0385}, {\"x\": \"2020-06-04T00:00:00\", \"y\": 0.0385}, {\"x\": \"2020-06-05T00:00:00\", \"y\": 0.0385}, {\"x\": \"2020-06-22T00:00:00\", \"y\": 0.0385}, {\"x\": \"2020-06-24T00:00:00\", \"y\": 0.0385}, {\"x\": \"2020-07-01T00:00:00\", \"y\": 0.0385}, {\"x\": \"2020-07-07T00:00:00\", \"y\": 0.0385}, {\"x\": \"2020-07-20T00:00:00\", \"y\": 0.0385}, {\"x\": \"2020-08-20T00:00:00\", \"y\": 0.0385}, {\"x\": \"2020-09-08T00:00:00\", \"y\": 0.0385}, {\"x\": \"2020-09-09T00:00:00\", \"y\": 0.0385}, {\"x\": \"2020-09-21T00:00:00\", \"y\": 0.0385}, {\"x\": \"2020-10-20T00:00:00\", \"y\": 0.0385}, {\"x\": \"2020-10-23T00:00:00\", \"y\": 0.0385}, {\"x\": \"2020-11-06T00:00:00\", \"y\": 0.0385}, {\"x\": \"2020-11-20T00:00:00\", \"y\": 0.0385}, {\"x\": \"2020-11-27T00:00:00\", \"y\": 0.0385}, {\"x\": \"2020-12-21T00:00:00\", \"y\": 0.0385}, {\"x\": \"2021-01-20T00:00:00\", \"y\": 0.0385}, {\"x\": \"2021-02-18T00:00:00\", \"y\": 0.0385}, {\"x\": \"2021-02-20T00:00:00\", \"y\": 0.0385}, {\"x\": \"2021-03-22T00:00:00\", \"y\": 0.0385}, {\"x\": \"2021-03-26T00:00:00\", \"y\": 0.0385}, {\"x\": \"2021-04-20T00:00:00\", \"y\": 0.0385}, {\"x\": \"2021-04-23T00:00:00\", \"y\": 0.0385}, {\"x\": \"2021-05-17T00:00:00\", \"y\": 0.0385}, {\"x\": \"2021-05-20T00:00:00\", \"y\": 0.0385}, {\"x\": \"2021-05-21T00:00:00\", \"y\": 0.0385}, {\"x\": \"2021-06-03T00:00:00\", \"y\": 0.0385}, {\"x\": \"2021-06-21T00:00:00\", \"y\": 0.0385}, {\"x\": \"2021-07-06T00:00:00\", \"y\": 0.0385}, {\"x\": \"2021-07-20T00:00:00\", \"y\": 0.0385}, {\"x\": \"2021-07-28T00:00:00\", \"y\": 0.0385}, {\"x\": \"2021-07-29T00:00:00\", \"y\": 0.0385}, {\"x\": \"2021-08-06T00:00:00\", \"y\": 0.0385}, {\"x\": \"2021-08-10T00:00:00\", \"y\": 0.0385}, {\"x\": \"2021-08-20T00:00:00\", \"y\": 0.0385}, {\"x\": \"2021-09-01T00:00:00\", \"y\": 0.0385}, {\"x\": \"2021-09-08T00:00:00\", \"y\": 0.0385}, {\"x\": \"2021-09-15T00:00:00\", \"y\": 0.0385}, {\"x\": \"2021-09-22T00:00:00\", \"y\": 0.0385}, {\"x\": \"2021-10-20T00:00:00\", \"y\": 0.0385}, {\"x\": \"2021-11-22T00:00:00\", \"y\": 0.0385}, {\"x\": \"2021-11-24T00:00:00\", \"y\": 0.0385}, {\"x\": \"2021-11-30T00:00:00\", \"y\": 0.0385}, {\"x\": \"2021-12-01T00:00:00\", \"y\": 0.0385}, {\"x\": \"2021-12-02T00:00:00\", \"y\": 0.0385}, {\"x\": \"2021-12-07T00:00:00\", \"y\": 0.0385}, {\"x\": \"2021-12-08T00:00:00\", \"y\": 0.0385}, {\"x\": \"2021-12-20T00:00:00\", \"y\": 0.038}, {\"x\": \"2021-12-22T00:00:00\", \"y\": 0.038}, {\"x\": \"2022-01-04T00:00:00\", \"y\": 0.038}, {\"x\": \"2022-01-20T00:00:00\", \"y\": 0.037000000000000005}, {\"x\": \"2022-02-21T00:00:00\", \"y\": 0.037000000000000005}, {\"x\": \"2022-02-22T00:00:00\", \"y\": 0.037000000000000005}, {\"x\": \"2022-02-24T00:00:00\", \"y\": 0.037000000000000005}, {\"x\": \"2022-03-09T00:00:00\", \"y\": 0.037000000000000005}, {\"x\": \"2022-03-10T00:00:00\", \"y\": 0.037000000000000005}, {\"x\": \"2022-03-11T00:00:00\", \"y\": 0.037000000000000005}, {\"x\": \"2022-03-21T00:00:00\", \"y\": 0.037000000000000005}, {\"x\": \"2022-04-15T00:00:00\", \"y\": 0.037000000000000005}, {\"x\": \"2022-04-18T00:00:00\", \"y\": 0.037000000000000005}, {\"x\": \"2022-04-20T00:00:00\", \"y\": 0.037000000000000005}, {\"x\": \"2022-04-22T00:00:00\", \"y\": 0.037000000000000005}, {\"x\": \"2022-04-24T00:00:00\", \"y\": 0.037000000000000005}, {\"x\": \"2022-04-25T00:00:00\", \"y\": 0.037000000000000005}, {\"x\": \"2022-04-27T00:00:00\", \"y\": 0.037000000000000005}]}}, {\"mode\": \"vega-lite\"});\n</script>",
      "text/plain": "alt.Chart(...)"
     },
     "execution_count": 2,
     "metadata": {},
     "output_type": "execute_result"
    }
   ],
   "source": [
    "import altair as alt\n",
    "\n",
    "source = pd.DataFrame({\n",
    "    'x':data_RATE_.index,\n",
    "    'y':data_RATE_.rate})\n",
    "\n",
    "chart = alt.Chart(source).mark_trail().encode(\n",
    "    x='x:T',\n",
    "    y='y:Q',\n",
    "    size='y:Q').properties(\n",
    "    width = 150*6,\n",
    "    height=60*6)\n",
    "\n",
    "chart"
   ],
   "metadata": {
    "collapsed": false,
    "pycharm": {
     "name": "#%%\n"
    }
   }
  },
  {
   "cell_type": "code",
   "execution_count": 3,
   "outputs": [],
   "source": [
    "# 保存利率数据\n",
    "data_RATE_.to_excel('data/MSTAA_data/rate_states.xlsx')"
   ],
   "metadata": {
    "collapsed": false,
    "pycharm": {
     "name": "#%%\n"
    }
   }
  },
  {
   "cell_type": "markdown",
   "source": [
    "将2000年1月1日至今的宏观经济状态根据rate划分为加息和降息两个阶段，详见下表：\n",
    "![](media/img_5.png)"
   ],
   "metadata": {
    "collapsed": false,
    "pycharm": {
     "name": "#%% md\n"
    }
   }
  },
  {
   "cell_type": "markdown",
   "source": [
    "### 2.1.4 宏观经济状态"
   ],
   "metadata": {
    "collapsed": false,
    "pycharm": {
     "name": "#%% md\n"
    }
   }
  },
  {
   "cell_type": "markdown",
   "source": [
    "根据宏观经济的GDP、CPI及Rate的情况，将宏观经济状态划分为八种状态，详见下表：\n",
    "![](media/img_6.png)\n",
    "状态2和状态6出现的天数为0，从经济学角度不难解释，即宏观经济处于通缩的情况下，加息是不可取的，而同理在宏观经济处于通胀的情况下，降息同样不可取。\n",
    "基于上述状态分类，汇总整理了各个状态对应的时间。"
   ],
   "metadata": {
    "collapsed": false,
    "pycharm": {
     "name": "#%% md\n"
    }
   }
  },
  {
   "cell_type": "code",
   "execution_count": 115,
   "outputs": [
    {
     "data": {
      "text/plain": "        states1  states2    states3    states4    states5  states6    states7  \\\n3636        NaT      NaN 2021-10-05        NaT        NaT      NaN        NaT   \n3320        NaT      NaN 2020-07-26        NaT        NaT      NaN        NaT   \n7    2001-09-08      NaN 2000-10-08 2012-01-08 2000-01-08      NaN 2000-02-08   \n\n        states8  \n3636        NaT  \n3320        NaT  \n7    2004-08-11  ",
      "text/html": "<div>\n<style scoped>\n    .dataframe tbody tr th:only-of-type {\n        vertical-align: middle;\n    }\n\n    .dataframe tbody tr th {\n        vertical-align: top;\n    }\n\n    .dataframe thead th {\n        text-align: right;\n    }\n</style>\n<table border=\"1\" class=\"dataframe\">\n  <thead>\n    <tr style=\"text-align: right;\">\n      <th></th>\n      <th>states1</th>\n      <th>states2</th>\n      <th>states3</th>\n      <th>states4</th>\n      <th>states5</th>\n      <th>states6</th>\n      <th>states7</th>\n      <th>states8</th>\n    </tr>\n  </thead>\n  <tbody>\n    <tr>\n      <th>3636</th>\n      <td>NaT</td>\n      <td>NaN</td>\n      <td>2021-10-05</td>\n      <td>NaT</td>\n      <td>NaT</td>\n      <td>NaN</td>\n      <td>NaT</td>\n      <td>NaT</td>\n    </tr>\n    <tr>\n      <th>3320</th>\n      <td>NaT</td>\n      <td>NaN</td>\n      <td>2020-07-26</td>\n      <td>NaT</td>\n      <td>NaT</td>\n      <td>NaN</td>\n      <td>NaT</td>\n      <td>NaT</td>\n    </tr>\n    <tr>\n      <th>7</th>\n      <td>2001-09-08</td>\n      <td>NaN</td>\n      <td>2000-10-08</td>\n      <td>2012-01-08</td>\n      <td>2000-01-08</td>\n      <td>NaN</td>\n      <td>2000-02-08</td>\n      <td>2004-08-11</td>\n    </tr>\n  </tbody>\n</table>\n</div>"
     },
     "execution_count": 115,
     "metadata": {},
     "output_type": "execute_result"
    }
   ],
   "source": [
    "import pandas as pd\n",
    "\n",
    "states = pd.read_excel('data/MSTAA_data/states.xlsx',\n",
    "                       sheet_name='states',\n",
    "                       parse_dates=True)\n",
    "states.sample(3)"
   ],
   "metadata": {
    "collapsed": false,
    "pycharm": {
     "name": "#%%\n"
    }
   }
  },
  {
   "cell_type": "code",
   "execution_count": 12,
   "outputs": [
    {
     "data": {
      "text/plain": "            state\ndate             \n2000-01-01      5\n2000-01-02      5\n2000-01-03      5\n2000-01-04      5\n2000-01-05      5",
      "text/html": "<div>\n<style scoped>\n    .dataframe tbody tr th:only-of-type {\n        vertical-align: middle;\n    }\n\n    .dataframe tbody tr th {\n        vertical-align: top;\n    }\n\n    .dataframe thead th {\n        text-align: right;\n    }\n</style>\n<table border=\"1\" class=\"dataframe\">\n  <thead>\n    <tr style=\"text-align: right;\">\n      <th></th>\n      <th>state</th>\n    </tr>\n    <tr>\n      <th>date</th>\n      <th></th>\n    </tr>\n  </thead>\n  <tbody>\n    <tr>\n      <th>2000-01-01</th>\n      <td>5</td>\n    </tr>\n    <tr>\n      <th>2000-01-02</th>\n      <td>5</td>\n    </tr>\n    <tr>\n      <th>2000-01-03</th>\n      <td>5</td>\n    </tr>\n    <tr>\n      <th>2000-01-04</th>\n      <td>5</td>\n    </tr>\n    <tr>\n      <th>2000-01-05</th>\n      <td>5</td>\n    </tr>\n  </tbody>\n</table>\n</div>"
     },
     "execution_count": 12,
     "metadata": {},
     "output_type": "execute_result"
    }
   ],
   "source": [
    "import pandas as pd\n",
    "states_timeline = pd.read_excel('data/MSTAA_data/states.xlsx',\n",
    "                                sheet_name='states_timeline',\n",
    "                                index_col='date',\n",
    "                                parse_dates=True)\n",
    "states_timeline.sort_index(inplace=True)\n",
    "states_timeline.head(5)"
   ],
   "metadata": {
    "collapsed": false,
    "pycharm": {
     "name": "#%%\n"
    }
   }
  },
  {
   "cell_type": "code",
   "execution_count": 16,
   "outputs": [
    {
     "data": {
      "text/plain": "pandas.core.frame.DataFrame"
     },
     "execution_count": 16,
     "metadata": {},
     "output_type": "execute_result"
    }
   ],
   "source": [
    "type(states_timeline)"
   ],
   "metadata": {
    "collapsed": false,
    "pycharm": {
     "name": "#%%\n"
    }
   }
  },
  {
   "cell_type": "code",
   "execution_count": 66,
   "outputs": [
    {
     "data": {
      "text/plain": "        start        end  state\n0  2000-01-01 2000-01-31    5.0\n1  2000-02-01 2000-02-29    7.0\n2  2000-03-01 2000-04-30    5.0\n3  2000-05-01 2000-09-30    7.0\n4  2000-10-01 2000-12-31    3.0\n5  2001-01-01 2001-06-30    7.0\n6  2001-07-01 2001-08-31    3.0\n7  2001-09-01 2001-09-30    1.0\n8  2001-10-01 2001-10-31    3.0\n9  2001-11-01 2001-12-31    1.0\n10 2002-01-01 2002-01-31    5.0\n11 2002-02-01 2002-02-28    7.0\n12 2002-03-01 2002-12-31    5.0\n13 2003-01-01 2004-08-03    7.0\n14 2004-08-04 2008-09-12    8.0\n15 2008-09-13 2008-09-30    7.0\n16 2008-10-01 2009-01-31    3.0\n17 2009-02-01 2009-03-31    1.0\n18 2009-04-01 2009-10-31    5.0\n19 2009-11-01 2010-08-25    7.0\n20 2010-08-26 2011-12-31    8.0\n21 2012-01-01 2012-04-26    4.0\n22 2012-04-27 2020-10-31    3.0\n23 2020-11-01 2020-11-30    1.0\n24 2020-12-01 2020-12-31    3.0\n25 2021-01-01 2021-02-28    5.0\n26 2021-03-01 2021-03-31    7.0",
      "text/html": "<div>\n<style scoped>\n    .dataframe tbody tr th:only-of-type {\n        vertical-align: middle;\n    }\n\n    .dataframe tbody tr th {\n        vertical-align: top;\n    }\n\n    .dataframe thead th {\n        text-align: right;\n    }\n</style>\n<table border=\"1\" class=\"dataframe\">\n  <thead>\n    <tr style=\"text-align: right;\">\n      <th></th>\n      <th>start</th>\n      <th>end</th>\n      <th>state</th>\n    </tr>\n  </thead>\n  <tbody>\n    <tr>\n      <th>0</th>\n      <td>2000-01-01</td>\n      <td>2000-01-31</td>\n      <td>5.0</td>\n    </tr>\n    <tr>\n      <th>1</th>\n      <td>2000-02-01</td>\n      <td>2000-02-29</td>\n      <td>7.0</td>\n    </tr>\n    <tr>\n      <th>2</th>\n      <td>2000-03-01</td>\n      <td>2000-04-30</td>\n      <td>5.0</td>\n    </tr>\n    <tr>\n      <th>3</th>\n      <td>2000-05-01</td>\n      <td>2000-09-30</td>\n      <td>7.0</td>\n    </tr>\n    <tr>\n      <th>4</th>\n      <td>2000-10-01</td>\n      <td>2000-12-31</td>\n      <td>3.0</td>\n    </tr>\n    <tr>\n      <th>5</th>\n      <td>2001-01-01</td>\n      <td>2001-06-30</td>\n      <td>7.0</td>\n    </tr>\n    <tr>\n      <th>6</th>\n      <td>2001-07-01</td>\n      <td>2001-08-31</td>\n      <td>3.0</td>\n    </tr>\n    <tr>\n      <th>7</th>\n      <td>2001-09-01</td>\n      <td>2001-09-30</td>\n      <td>1.0</td>\n    </tr>\n    <tr>\n      <th>8</th>\n      <td>2001-10-01</td>\n      <td>2001-10-31</td>\n      <td>3.0</td>\n    </tr>\n    <tr>\n      <th>9</th>\n      <td>2001-11-01</td>\n      <td>2001-12-31</td>\n      <td>1.0</td>\n    </tr>\n    <tr>\n      <th>10</th>\n      <td>2002-01-01</td>\n      <td>2002-01-31</td>\n      <td>5.0</td>\n    </tr>\n    <tr>\n      <th>11</th>\n      <td>2002-02-01</td>\n      <td>2002-02-28</td>\n      <td>7.0</td>\n    </tr>\n    <tr>\n      <th>12</th>\n      <td>2002-03-01</td>\n      <td>2002-12-31</td>\n      <td>5.0</td>\n    </tr>\n    <tr>\n      <th>13</th>\n      <td>2003-01-01</td>\n      <td>2004-08-03</td>\n      <td>7.0</td>\n    </tr>\n    <tr>\n      <th>14</th>\n      <td>2004-08-04</td>\n      <td>2008-09-12</td>\n      <td>8.0</td>\n    </tr>\n    <tr>\n      <th>15</th>\n      <td>2008-09-13</td>\n      <td>2008-09-30</td>\n      <td>7.0</td>\n    </tr>\n    <tr>\n      <th>16</th>\n      <td>2008-10-01</td>\n      <td>2009-01-31</td>\n      <td>3.0</td>\n    </tr>\n    <tr>\n      <th>17</th>\n      <td>2009-02-01</td>\n      <td>2009-03-31</td>\n      <td>1.0</td>\n    </tr>\n    <tr>\n      <th>18</th>\n      <td>2009-04-01</td>\n      <td>2009-10-31</td>\n      <td>5.0</td>\n    </tr>\n    <tr>\n      <th>19</th>\n      <td>2009-11-01</td>\n      <td>2010-08-25</td>\n      <td>7.0</td>\n    </tr>\n    <tr>\n      <th>20</th>\n      <td>2010-08-26</td>\n      <td>2011-12-31</td>\n      <td>8.0</td>\n    </tr>\n    <tr>\n      <th>21</th>\n      <td>2012-01-01</td>\n      <td>2012-04-26</td>\n      <td>4.0</td>\n    </tr>\n    <tr>\n      <th>22</th>\n      <td>2012-04-27</td>\n      <td>2020-10-31</td>\n      <td>3.0</td>\n    </tr>\n    <tr>\n      <th>23</th>\n      <td>2020-11-01</td>\n      <td>2020-11-30</td>\n      <td>1.0</td>\n    </tr>\n    <tr>\n      <th>24</th>\n      <td>2020-12-01</td>\n      <td>2020-12-31</td>\n      <td>3.0</td>\n    </tr>\n    <tr>\n      <th>25</th>\n      <td>2021-01-01</td>\n      <td>2021-02-28</td>\n      <td>5.0</td>\n    </tr>\n    <tr>\n      <th>26</th>\n      <td>2021-03-01</td>\n      <td>2021-03-31</td>\n      <td>7.0</td>\n    </tr>\n  </tbody>\n</table>\n</div>"
     },
     "execution_count": 66,
     "metadata": {},
     "output_type": "execute_result"
    }
   ],
   "source": [
    "# 构造时间线状态表\n",
    "states_table = pd.DataFrame()\n",
    "start_date = states_timeline.index[0]\n",
    "sta = states_timeline.iloc[0, 0]\n",
    "inx = 0\n",
    "\n",
    "for D in states_timeline.index:\n",
    "    state_ = states_timeline.loc[D, 'state']\n",
    "    if state_ != sta:\n",
    "        states_table.loc[inx, 'start'] = start_date\n",
    "        states_table.loc[inx, 'end'] = D - pd.Timedelta('1 days')\n",
    "        states_table.loc[inx, 'state'] = sta\n",
    "        inx +=1\n",
    "        start_date = D\n",
    "        sta = state_\n",
    "\n",
    "states_table"
   ],
   "metadata": {
    "collapsed": false,
    "pycharm": {
     "name": "#%%\n"
    }
   }
  },
  {
   "cell_type": "code",
   "execution_count": 67,
   "outputs": [],
   "source": [
    "states_table.to_excel('data/MSTAA_data/states_table.xlsx')"
   ],
   "metadata": {
    "collapsed": false,
    "pycharm": {
     "name": "#%%\n"
    }
   }
  },
  {
   "cell_type": "code",
   "execution_count": 68,
   "outputs": [
    {
     "name": "stderr",
     "output_type": "stream",
     "text": [
      "C:\\Users\\ThinkPad\\AppData\\Local\\Temp\\ipykernel_4208\\3416376115.py:10: SettingWithCopyWarning: \n",
      "A value is trying to be set on a copy of a slice from a DataFrame\n",
      "\n",
      "See the caveats in the documentation: https://pandas.pydata.org/pandas-docs/stable/user_guide/indexing.html#returning-a-view-versus-a-copy\n",
      "  data_GDP_.rename(columns={'当季同比':'GDP'}, inplace=True)\n"
     ]
    }
   ],
   "source": [
    "import pandas as pd\n",
    "\n",
    "# 读取GDP数据\n",
    "data_GDP = pd.read_excel('data/MSTAA_data/GDP.xlsx',\n",
    "                         sheet_name='data_GDP',\n",
    "                         index_col='时间',\n",
    "                         parse_dates=True)\n",
    "data_GDP['当季同比'] = data_GDP['当季同比'] / 100\n",
    "data_GDP_ = data_GDP[data_GDP.index > '2000-1-1']\n",
    "data_GDP_.rename(columns={'当季同比':'GDP'}, inplace=True)\n",
    "\n",
    "# 读取CPI数据\n",
    "data_CPI = pd.read_excel('data/MSTAA_data/CPI.xlsx',\n",
    "                         sheet_name='data_CPI',\n",
    "                         index_col='date',\n",
    "                         parse_dates=True)\n",
    "data_CPI_ = data_CPI / 100\n",
    "\n",
    "# 读取利率数据\n",
    "data_RATE = pd.read_excel('data/MSTAA_data/rate.xlsx',\n",
    "                          sheet_name='rate',\n",
    "                          index_col='date',\n",
    "                          parse_dates=True,\n",
    "                          na_filter=True)\n",
    "data_RATE.fillna(method='ffill', inplace=True)\n",
    "data_RATE_ = data_RATE.apply(lambda x : x / 100)\n"
   ],
   "metadata": {
    "collapsed": false,
    "pycharm": {
     "name": "#%%\n"
    }
   }
  },
  {
   "cell_type": "code",
   "execution_count": 69,
   "outputs": [
    {
     "data": {
      "text/plain": "       start        end  state\n0 2000-01-01 2000-01-31    5.0\n1 2000-02-01 2000-02-29    7.0\n2 2000-03-01 2000-04-30    5.0\n3 2000-05-01 2000-09-30    7.0\n4 2000-10-01 2000-12-31    3.0",
      "text/html": "<div>\n<style scoped>\n    .dataframe tbody tr th:only-of-type {\n        vertical-align: middle;\n    }\n\n    .dataframe tbody tr th {\n        vertical-align: top;\n    }\n\n    .dataframe thead th {\n        text-align: right;\n    }\n</style>\n<table border=\"1\" class=\"dataframe\">\n  <thead>\n    <tr style=\"text-align: right;\">\n      <th></th>\n      <th>start</th>\n      <th>end</th>\n      <th>state</th>\n    </tr>\n  </thead>\n  <tbody>\n    <tr>\n      <th>0</th>\n      <td>2000-01-01</td>\n      <td>2000-01-31</td>\n      <td>5.0</td>\n    </tr>\n    <tr>\n      <th>1</th>\n      <td>2000-02-01</td>\n      <td>2000-02-29</td>\n      <td>7.0</td>\n    </tr>\n    <tr>\n      <th>2</th>\n      <td>2000-03-01</td>\n      <td>2000-04-30</td>\n      <td>5.0</td>\n    </tr>\n    <tr>\n      <th>3</th>\n      <td>2000-05-01</td>\n      <td>2000-09-30</td>\n      <td>7.0</td>\n    </tr>\n    <tr>\n      <th>4</th>\n      <td>2000-10-01</td>\n      <td>2000-12-31</td>\n      <td>3.0</td>\n    </tr>\n  </tbody>\n</table>\n</div>"
     },
     "execution_count": 69,
     "metadata": {},
     "output_type": "execute_result"
    }
   ],
   "source": [
    "import altair as alt\n",
    "\n",
    "# 导入GDP数据\n",
    "source1 = alt.pd.DataFrame(data_GDP_)\n",
    "# 导入CPI数据\n",
    "source2 = alt.pd.DataFrame(data_CPI_)\n",
    "# 导入利率数据\n",
    "source3 = alt.pd.DataFrame(data_RATE_)\n",
    "# 导入时间线状态表\n",
    "source4 = alt.pd.DataFrame(states_table)\n",
    "\n",
    "source4.head()"
   ],
   "metadata": {
    "collapsed": false,
    "pycharm": {
     "name": "#%%\n"
    }
   }
  },
  {
   "cell_type": "code",
   "execution_count": 70,
   "outputs": [
    {
     "data": {
      "text/html": "\n<div id=\"altair-viz-648136d7049048f68bac55f6552decc0\"></div>\n<script type=\"text/javascript\">\n  (function(spec, embedOpt){\n    let outputDiv = document.currentScript.previousElementSibling;\n    if (outputDiv.id !== \"altair-viz-648136d7049048f68bac55f6552decc0\") {\n      outputDiv = document.getElementById(\"altair-viz-648136d7049048f68bac55f6552decc0\");\n    }\n    const paths = {\n      \"vega\": \"https://cdn.jsdelivr.net/npm//vega@5?noext\",\n      \"vega-lib\": \"https://cdn.jsdelivr.net/npm//vega-lib?noext\",\n      \"vega-lite\": \"https://cdn.jsdelivr.net/npm//vega-lite@4.8.1?noext\",\n      \"vega-embed\": \"https://cdn.jsdelivr.net/npm//vega-embed@6?noext\",\n    };\n\n    function loadScript(lib) {\n      return new Promise(function(resolve, reject) {\n        var s = document.createElement('script');\n        s.src = paths[lib];\n        s.async = true;\n        s.onload = () => resolve(paths[lib]);\n        s.onerror = () => reject(`Error loading script: ${paths[lib]}`);\n        document.getElementsByTagName(\"head\")[0].appendChild(s);\n      });\n    }\n\n    function showError(err) {\n      outputDiv.innerHTML = `<div class=\"error\" style=\"color:red;\">${err}</div>`;\n      throw err;\n    }\n\n    function displayChart(vegaEmbed) {\n      vegaEmbed(outputDiv, spec, embedOpt)\n        .catch(err => showError(`Javascript Error: ${err.message}<br>This usually means there's a typo in your chart specification. See the javascript console for the full traceback.`));\n    }\n\n    if(typeof define === \"function\" && define.amd) {\n      requirejs.config({paths});\n      require([\"vega-embed\"], displayChart, err => showError(`Error loading script: ${err.message}`));\n    } else if (typeof vegaEmbed === \"function\") {\n      displayChart(vegaEmbed);\n    } else {\n      loadScript(\"vega\")\n        .then(() => loadScript(\"vega-lite\"))\n        .then(() => loadScript(\"vega-embed\"))\n        .catch(showError)\n        .then(() => displayChart(vegaEmbed));\n    }\n  })({\"config\": {\"view\": {\"continuousWidth\": 400, \"continuousHeight\": 300}}, \"data\": {\"name\": \"data-7def4388eb809847d9654d1c4cd523ff\"}, \"mark\": \"rect\", \"encoding\": {\"color\": {\"type\": \"nominal\", \"field\": \"state\"}, \"x\": {\"type\": \"temporal\", \"field\": \"start\"}, \"x2\": {\"field\": \"end\"}}, \"height\": 400, \"width\": 1000, \"$schema\": \"https://vega.github.io/schema/vega-lite/v4.8.1.json\", \"datasets\": {\"data-7def4388eb809847d9654d1c4cd523ff\": [{\"start\": \"2000-01-01T00:00:00\", \"end\": \"2000-01-31T00:00:00\", \"state\": 5.0}, {\"start\": \"2000-02-01T00:00:00\", \"end\": \"2000-02-29T00:00:00\", \"state\": 7.0}, {\"start\": \"2000-03-01T00:00:00\", \"end\": \"2000-04-30T00:00:00\", \"state\": 5.0}, {\"start\": \"2000-05-01T00:00:00\", \"end\": \"2000-09-30T00:00:00\", \"state\": 7.0}, {\"start\": \"2000-10-01T00:00:00\", \"end\": \"2000-12-31T00:00:00\", \"state\": 3.0}, {\"start\": \"2001-01-01T00:00:00\", \"end\": \"2001-06-30T00:00:00\", \"state\": 7.0}, {\"start\": \"2001-07-01T00:00:00\", \"end\": \"2001-08-31T00:00:00\", \"state\": 3.0}, {\"start\": \"2001-09-01T00:00:00\", \"end\": \"2001-09-30T00:00:00\", \"state\": 1.0}, {\"start\": \"2001-10-01T00:00:00\", \"end\": \"2001-10-31T00:00:00\", \"state\": 3.0}, {\"start\": \"2001-11-01T00:00:00\", \"end\": \"2001-12-31T00:00:00\", \"state\": 1.0}, {\"start\": \"2002-01-01T00:00:00\", \"end\": \"2002-01-31T00:00:00\", \"state\": 5.0}, {\"start\": \"2002-02-01T00:00:00\", \"end\": \"2002-02-28T00:00:00\", \"state\": 7.0}, {\"start\": \"2002-03-01T00:00:00\", \"end\": \"2002-12-31T00:00:00\", \"state\": 5.0}, {\"start\": \"2003-01-01T00:00:00\", \"end\": \"2004-08-03T00:00:00\", \"state\": 7.0}, {\"start\": \"2004-08-04T00:00:00\", \"end\": \"2008-09-12T00:00:00\", \"state\": 8.0}, {\"start\": \"2008-09-13T00:00:00\", \"end\": \"2008-09-30T00:00:00\", \"state\": 7.0}, {\"start\": \"2008-10-01T00:00:00\", \"end\": \"2009-01-31T00:00:00\", \"state\": 3.0}, {\"start\": \"2009-02-01T00:00:00\", \"end\": \"2009-03-31T00:00:00\", \"state\": 1.0}, {\"start\": \"2009-04-01T00:00:00\", \"end\": \"2009-10-31T00:00:00\", \"state\": 5.0}, {\"start\": \"2009-11-01T00:00:00\", \"end\": \"2010-08-25T00:00:00\", \"state\": 7.0}, {\"start\": \"2010-08-26T00:00:00\", \"end\": \"2011-12-31T00:00:00\", \"state\": 8.0}, {\"start\": \"2012-01-01T00:00:00\", \"end\": \"2012-04-26T00:00:00\", \"state\": 4.0}, {\"start\": \"2012-04-27T00:00:00\", \"end\": \"2020-10-31T00:00:00\", \"state\": 3.0}, {\"start\": \"2020-11-01T00:00:00\", \"end\": \"2020-11-30T00:00:00\", \"state\": 1.0}, {\"start\": \"2020-12-01T00:00:00\", \"end\": \"2020-12-31T00:00:00\", \"state\": 3.0}, {\"start\": \"2021-01-01T00:00:00\", \"end\": \"2021-02-28T00:00:00\", \"state\": 5.0}, {\"start\": \"2021-03-01T00:00:00\", \"end\": \"2021-03-31T00:00:00\", \"state\": 7.0}]}}, {\"mode\": \"vega-lite\"});\n</script>",
      "text/plain": "alt.Chart(...)"
     },
     "execution_count": 70,
     "metadata": {},
     "output_type": "execute_result"
    }
   ],
   "source": [
    "rect = alt.Chart(source4).mark_rect().encode(\n",
    "    x='start:T',\n",
    "    x2='end:T',\n",
    "    color='state:N')\n",
    "\n",
    "rect.properties(width = 1000, height = 400)"
   ],
   "metadata": {
    "collapsed": false,
    "pycharm": {
     "name": "#%%\n"
    }
   }
  },
  {
   "cell_type": "code",
   "execution_count": 71,
   "outputs": [
    {
     "data": {
      "text/plain": "        start        end  state timedelta\n0  2000-01-01 2000-01-31    5.0   30 days\n1  2000-02-01 2000-02-29    7.0   28 days\n2  2000-03-01 2000-04-30    5.0   60 days\n3  2000-05-01 2000-09-30    7.0  152 days\n4  2000-10-01 2000-12-31    3.0   91 days\n5  2001-01-01 2001-06-30    7.0  180 days\n6  2001-07-01 2001-08-31    3.0   61 days\n7  2001-09-01 2001-09-30    1.0   29 days\n8  2001-10-01 2001-10-31    3.0   30 days\n9  2001-11-01 2001-12-31    1.0   60 days\n10 2002-01-01 2002-01-31    5.0   30 days\n11 2002-02-01 2002-02-28    7.0   27 days\n12 2002-03-01 2002-12-31    5.0  305 days\n13 2003-01-01 2004-08-03    7.0  580 days\n14 2004-08-04 2008-09-12    8.0 1500 days\n15 2008-09-13 2008-09-30    7.0   17 days\n16 2008-10-01 2009-01-31    3.0  122 days\n17 2009-02-01 2009-03-31    1.0   58 days\n18 2009-04-01 2009-10-31    5.0  213 days\n19 2009-11-01 2010-08-25    7.0  297 days\n20 2010-08-26 2011-12-31    8.0  492 days\n21 2012-01-01 2012-04-26    4.0  116 days\n22 2012-04-27 2020-10-31    3.0 3109 days\n23 2020-11-01 2020-11-30    1.0   29 days\n24 2020-12-01 2020-12-31    3.0   30 days\n25 2021-01-01 2021-02-28    5.0   58 days\n26 2021-03-01 2021-03-31    7.0   30 days",
      "text/html": "<div>\n<style scoped>\n    .dataframe tbody tr th:only-of-type {\n        vertical-align: middle;\n    }\n\n    .dataframe tbody tr th {\n        vertical-align: top;\n    }\n\n    .dataframe thead th {\n        text-align: right;\n    }\n</style>\n<table border=\"1\" class=\"dataframe\">\n  <thead>\n    <tr style=\"text-align: right;\">\n      <th></th>\n      <th>start</th>\n      <th>end</th>\n      <th>state</th>\n      <th>timedelta</th>\n    </tr>\n  </thead>\n  <tbody>\n    <tr>\n      <th>0</th>\n      <td>2000-01-01</td>\n      <td>2000-01-31</td>\n      <td>5.0</td>\n      <td>30 days</td>\n    </tr>\n    <tr>\n      <th>1</th>\n      <td>2000-02-01</td>\n      <td>2000-02-29</td>\n      <td>7.0</td>\n      <td>28 days</td>\n    </tr>\n    <tr>\n      <th>2</th>\n      <td>2000-03-01</td>\n      <td>2000-04-30</td>\n      <td>5.0</td>\n      <td>60 days</td>\n    </tr>\n    <tr>\n      <th>3</th>\n      <td>2000-05-01</td>\n      <td>2000-09-30</td>\n      <td>7.0</td>\n      <td>152 days</td>\n    </tr>\n    <tr>\n      <th>4</th>\n      <td>2000-10-01</td>\n      <td>2000-12-31</td>\n      <td>3.0</td>\n      <td>91 days</td>\n    </tr>\n    <tr>\n      <th>5</th>\n      <td>2001-01-01</td>\n      <td>2001-06-30</td>\n      <td>7.0</td>\n      <td>180 days</td>\n    </tr>\n    <tr>\n      <th>6</th>\n      <td>2001-07-01</td>\n      <td>2001-08-31</td>\n      <td>3.0</td>\n      <td>61 days</td>\n    </tr>\n    <tr>\n      <th>7</th>\n      <td>2001-09-01</td>\n      <td>2001-09-30</td>\n      <td>1.0</td>\n      <td>29 days</td>\n    </tr>\n    <tr>\n      <th>8</th>\n      <td>2001-10-01</td>\n      <td>2001-10-31</td>\n      <td>3.0</td>\n      <td>30 days</td>\n    </tr>\n    <tr>\n      <th>9</th>\n      <td>2001-11-01</td>\n      <td>2001-12-31</td>\n      <td>1.0</td>\n      <td>60 days</td>\n    </tr>\n    <tr>\n      <th>10</th>\n      <td>2002-01-01</td>\n      <td>2002-01-31</td>\n      <td>5.0</td>\n      <td>30 days</td>\n    </tr>\n    <tr>\n      <th>11</th>\n      <td>2002-02-01</td>\n      <td>2002-02-28</td>\n      <td>7.0</td>\n      <td>27 days</td>\n    </tr>\n    <tr>\n      <th>12</th>\n      <td>2002-03-01</td>\n      <td>2002-12-31</td>\n      <td>5.0</td>\n      <td>305 days</td>\n    </tr>\n    <tr>\n      <th>13</th>\n      <td>2003-01-01</td>\n      <td>2004-08-03</td>\n      <td>7.0</td>\n      <td>580 days</td>\n    </tr>\n    <tr>\n      <th>14</th>\n      <td>2004-08-04</td>\n      <td>2008-09-12</td>\n      <td>8.0</td>\n      <td>1500 days</td>\n    </tr>\n    <tr>\n      <th>15</th>\n      <td>2008-09-13</td>\n      <td>2008-09-30</td>\n      <td>7.0</td>\n      <td>17 days</td>\n    </tr>\n    <tr>\n      <th>16</th>\n      <td>2008-10-01</td>\n      <td>2009-01-31</td>\n      <td>3.0</td>\n      <td>122 days</td>\n    </tr>\n    <tr>\n      <th>17</th>\n      <td>2009-02-01</td>\n      <td>2009-03-31</td>\n      <td>1.0</td>\n      <td>58 days</td>\n    </tr>\n    <tr>\n      <th>18</th>\n      <td>2009-04-01</td>\n      <td>2009-10-31</td>\n      <td>5.0</td>\n      <td>213 days</td>\n    </tr>\n    <tr>\n      <th>19</th>\n      <td>2009-11-01</td>\n      <td>2010-08-25</td>\n      <td>7.0</td>\n      <td>297 days</td>\n    </tr>\n    <tr>\n      <th>20</th>\n      <td>2010-08-26</td>\n      <td>2011-12-31</td>\n      <td>8.0</td>\n      <td>492 days</td>\n    </tr>\n    <tr>\n      <th>21</th>\n      <td>2012-01-01</td>\n      <td>2012-04-26</td>\n      <td>4.0</td>\n      <td>116 days</td>\n    </tr>\n    <tr>\n      <th>22</th>\n      <td>2012-04-27</td>\n      <td>2020-10-31</td>\n      <td>3.0</td>\n      <td>3109 days</td>\n    </tr>\n    <tr>\n      <th>23</th>\n      <td>2020-11-01</td>\n      <td>2020-11-30</td>\n      <td>1.0</td>\n      <td>29 days</td>\n    </tr>\n    <tr>\n      <th>24</th>\n      <td>2020-12-01</td>\n      <td>2020-12-31</td>\n      <td>3.0</td>\n      <td>30 days</td>\n    </tr>\n    <tr>\n      <th>25</th>\n      <td>2021-01-01</td>\n      <td>2021-02-28</td>\n      <td>5.0</td>\n      <td>58 days</td>\n    </tr>\n    <tr>\n      <th>26</th>\n      <td>2021-03-01</td>\n      <td>2021-03-31</td>\n      <td>7.0</td>\n      <td>30 days</td>\n    </tr>\n  </tbody>\n</table>\n</div>"
     },
     "execution_count": 71,
     "metadata": {},
     "output_type": "execute_result"
    }
   ],
   "source": [
    "states_table['timedelta'] = states_table['end'] - states_table['start']\n",
    "states_table"
   ],
   "metadata": {
    "collapsed": false,
    "pycharm": {
     "name": "#%%\n"
    }
   }
  },
  {
   "cell_type": "code",
   "execution_count": 72,
   "outputs": [
    {
     "data": {
      "text/plain": "state\n1.0    176 days\n3.0   3443 days\n4.0    116 days\n5.0    696 days\n7.0   1311 days\n8.0   1992 days\nName: timedelta, dtype: timedelta64[ns]"
     },
     "execution_count": 72,
     "metadata": {},
     "output_type": "execute_result"
    }
   ],
   "source": [
    "states_table.groupby('state')['timedelta'].sum()"
   ],
   "metadata": {
    "collapsed": false,
    "pycharm": {
     "name": "#%%\n"
    }
   }
  },
  {
   "cell_type": "markdown",
   "source": [
    "从上表中可以看到，宏观经济各个状态的时间跨度，比如状态1的时间跨度是176天，再比如状态3的时间跨度是3443天。"
   ],
   "metadata": {
    "collapsed": false,
    "pycharm": {
     "name": "#%% md\n"
    }
   }
  },
  {
   "cell_type": "markdown",
   "source": [
    "## 2.2 获取大类资产数据"
   ],
   "metadata": {
    "collapsed": false,
    "pycharm": {
     "name": "#%% md\n"
    }
   }
  },
  {
   "cell_type": "markdown",
   "source": [
    "### 2.2.1 资产配置标的选择\n",
    "正如前文所述，大类资产配置的对象并不涉及大类资产的内部，而是以指数来代表大类资产，拟针对四类资产，即股票资产、债券资产、商品资产、货币资产，寻求具有代表性的指数来拟合大类资产的特征。\n",
    "#### （1） 股票资产\n",
    "全A指数是最能代表股票资产的指数，目前可供选择的有wind全A、同花顺全A等，由于wind全A指数需要付费终端，同花顺全A指数于2016年才开始编制，不具有代表性。因此，基于可获得性和可代表性，且考量存续时间的情况下，选择国证A指代表股票资产，国证A指的覆盖范围包括在深圳、上海证券交易所上市的除ST、*ST 股票外的A 股，在一定程度上具有代表性。\n",
    "**国证A股**通过akshare库的API接口获得数据，接口代码为：**sz399317**\n",
    "#### （2） 债券资产\n",
    "目前，关于债券资产的代表指数，目前最优的选择应该是中债综合指数，但中债综合指数需要从付费终端读取。因此，退而求其次选取了**企债指数**，企债指数为从国内交易所上市企业债中挑选了满足一定条件的具有代表性的债券组成样本,按照债券发行量加权计算的指数。\n",
    "**企债指数**通过同花顺iFind导出数据。\n",
    "#### （3） 商品资产\n",
    "目前，关于商品资产的代表指数，现选择南华商品指数。\n",
    "**南华商品指数**通过同花顺iFind导出数据。\n",
    "#### （4） 货币资产\n",
    "目前，关于货币资产的代表指数，现可供选择的有国证货币基金指数和中证货币基金指数，拟选择国证货币基金指数。\n",
    "**国证货币基金指数**通过同花顺iFind导出数据。"
   ],
   "metadata": {
    "collapsed": false,
    "pycharm": {
     "name": "#%% md\n"
    }
   }
  },
  {
   "cell_type": "markdown",
   "source": [
    "### 2.2.2 读取指数列表"
   ],
   "metadata": {
    "collapsed": false,
    "pycharm": {
     "name": "#%% md\n"
    }
   }
  },
  {
   "cell_type": "code",
   "execution_count": 77,
   "outputs": [
    {
     "name": "stderr",
     "output_type": "stream",
     "text": [
      "                                             \r"
     ]
    },
    {
     "data": {
      "text/plain": "         代码    名称        最新价     涨跌额    涨跌幅         昨收         今开         最高  \\\n0  sh000001  上证指数  3001.5605 -66.198 -2.158  3067.7587  3011.3187  3030.6926   \n1  sh000002  Ａ股指数  3145.6338 -69.468 -2.161  3215.1015  3155.9059  3176.2408   \n2  sh000003  Ｂ股指数   289.2877  -2.566 -0.879   291.8534   289.4382   291.2718   \n\n          最低        成交量           成交额  \n0  2992.7152  343264218  346214397720  \n1  3136.4014  342897140  345916536393  \n2   287.6310     351259     241574169  ",
      "text/html": "<div>\n<style scoped>\n    .dataframe tbody tr th:only-of-type {\n        vertical-align: middle;\n    }\n\n    .dataframe tbody tr th {\n        vertical-align: top;\n    }\n\n    .dataframe thead th {\n        text-align: right;\n    }\n</style>\n<table border=\"1\" class=\"dataframe\">\n  <thead>\n    <tr style=\"text-align: right;\">\n      <th></th>\n      <th>代码</th>\n      <th>名称</th>\n      <th>最新价</th>\n      <th>涨跌额</th>\n      <th>涨跌幅</th>\n      <th>昨收</th>\n      <th>今开</th>\n      <th>最高</th>\n      <th>最低</th>\n      <th>成交量</th>\n      <th>成交额</th>\n    </tr>\n  </thead>\n  <tbody>\n    <tr>\n      <th>0</th>\n      <td>sh000001</td>\n      <td>上证指数</td>\n      <td>3001.5605</td>\n      <td>-66.198</td>\n      <td>-2.158</td>\n      <td>3067.7587</td>\n      <td>3011.3187</td>\n      <td>3030.6926</td>\n      <td>2992.7152</td>\n      <td>343264218</td>\n      <td>346214397720</td>\n    </tr>\n    <tr>\n      <th>1</th>\n      <td>sh000002</td>\n      <td>Ａ股指数</td>\n      <td>3145.6338</td>\n      <td>-69.468</td>\n      <td>-2.161</td>\n      <td>3215.1015</td>\n      <td>3155.9059</td>\n      <td>3176.2408</td>\n      <td>3136.4014</td>\n      <td>342897140</td>\n      <td>345916536393</td>\n    </tr>\n    <tr>\n      <th>2</th>\n      <td>sh000003</td>\n      <td>Ｂ股指数</td>\n      <td>289.2877</td>\n      <td>-2.566</td>\n      <td>-0.879</td>\n      <td>291.8534</td>\n      <td>289.4382</td>\n      <td>291.2718</td>\n      <td>287.6310</td>\n      <td>351259</td>\n      <td>241574169</td>\n    </tr>\n  </tbody>\n</table>\n</div>"
     },
     "execution_count": 77,
     "metadata": {},
     "output_type": "execute_result"
    }
   ],
   "source": [
    "# 抓取全部指数\n",
    "import akshare as ak\n",
    "stock_zh_index_spot_df = ak.stock_zh_index_spot()\n",
    "stock_zh_index_spot_df.to_excel('data/MSTAA_data/stock_zh_index_spot.xlsx')\n",
    "stock_zh_index_spot_df.head(3)"
   ],
   "metadata": {
    "collapsed": false,
    "pycharm": {
     "name": "#%%\n"
    }
   }
  },
  {
   "cell_type": "markdown",
   "source": [
    "### 2.2.3 读取股票指数"
   ],
   "metadata": {
    "collapsed": false,
    "pycharm": {
     "name": "#%% md\n"
    }
   }
  },
  {
   "cell_type": "code",
   "execution_count": 102,
   "outputs": [
    {
     "name": "stderr",
     "output_type": "stream",
     "text": [
      "100%|██████████| 20/20 [00:18<00:00,  1.08it/s]\n"
     ]
    },
    {
     "name": "stdout",
     "output_type": "stream",
     "text": [
      "         date     open    close     high      low      amount\n",
      "0  2003-05-28  1120.37  1109.14  1125.54  1106.92  21412400.0\n",
      "1  2003-05-29  1107.89  1122.81  1122.95  1105.34  22243900.0\n",
      "2  2003-05-30  1125.12  1129.69  1132.96  1122.92  24120100.0\n"
     ]
    }
   ],
   "source": [
    "# 读取国证A股\n",
    "stock_zh_index_daily_tx = ak.stock_zh_index_daily_tx(symbol='sz399317')\n",
    "print(stock_zh_index_daily_tx.head(3))\n",
    "stock_zh_index_daily_tx.to_excel('data/MSTAA_data/stock_zh_index_tx.xlsx')"
   ],
   "metadata": {
    "collapsed": false,
    "pycharm": {
     "name": "#%%\n"
    }
   }
  },
  {
   "cell_type": "code",
   "execution_count": 103,
   "outputs": [
    {
     "data": {
      "text/plain": "              close\ndate               \n2003-05-28  1109.14\n2003-05-29  1122.81\n2003-05-30  1129.69\n2003-06-02  1130.59\n2003-06-03  1117.86\n...             ...\n2022-04-27  4787.42\n2022-04-28  4785.92\n2022-04-29  4941.02\n2022-05-05  4974.37\n2022-05-06  4871.17\n\n[4243 rows x 1 columns]",
      "text/html": "<div>\n<style scoped>\n    .dataframe tbody tr th:only-of-type {\n        vertical-align: middle;\n    }\n\n    .dataframe tbody tr th {\n        vertical-align: top;\n    }\n\n    .dataframe thead th {\n        text-align: right;\n    }\n</style>\n<table border=\"1\" class=\"dataframe\">\n  <thead>\n    <tr style=\"text-align: right;\">\n      <th></th>\n      <th>close</th>\n    </tr>\n    <tr>\n      <th>date</th>\n      <th></th>\n    </tr>\n  </thead>\n  <tbody>\n    <tr>\n      <th>2003-05-28</th>\n      <td>1109.14</td>\n    </tr>\n    <tr>\n      <th>2003-05-29</th>\n      <td>1122.81</td>\n    </tr>\n    <tr>\n      <th>2003-05-30</th>\n      <td>1129.69</td>\n    </tr>\n    <tr>\n      <th>2003-06-02</th>\n      <td>1130.59</td>\n    </tr>\n    <tr>\n      <th>2003-06-03</th>\n      <td>1117.86</td>\n    </tr>\n    <tr>\n      <th>...</th>\n      <td>...</td>\n    </tr>\n    <tr>\n      <th>2022-04-27</th>\n      <td>4787.42</td>\n    </tr>\n    <tr>\n      <th>2022-04-28</th>\n      <td>4785.92</td>\n    </tr>\n    <tr>\n      <th>2022-04-29</th>\n      <td>4941.02</td>\n    </tr>\n    <tr>\n      <th>2022-05-05</th>\n      <td>4974.37</td>\n    </tr>\n    <tr>\n      <th>2022-05-06</th>\n      <td>4871.17</td>\n    </tr>\n  </tbody>\n</table>\n<p>4243 rows × 1 columns</p>\n</div>"
     },
     "execution_count": 103,
     "metadata": {},
     "output_type": "execute_result"
    }
   ],
   "source": [
    "stock_zh_index_daily_tx = stock_zh_index_daily_tx.loc[:, ['date', 'close']]\n",
    "stock_zh_index_daily_tx['date'] = pd.to_datetime(stock_zh_index_daily_tx['date'])\n",
    "stock_zh_index_daily_tx.set_index('date', inplace=True)\n",
    "stock_index = stock_zh_index_daily_tx\n",
    "stock_index"
   ],
   "metadata": {
    "collapsed": false,
    "pycharm": {
     "name": "#%%\n"
    }
   }
  },
  {
   "cell_type": "markdown",
   "source": [
    "### 2.2.4 读取债券指数"
   ],
   "metadata": {
    "collapsed": false,
    "pycharm": {
     "name": "#%% md\n"
    }
   }
  },
  {
   "cell_type": "code",
   "execution_count": 109,
   "outputs": [
    {
     "data": {
      "text/plain": "             close\ndate              \n2003-06-09  104.28\n2003-06-10  104.45\n2003-06-11  104.54\n2003-06-12  104.65\n2003-06-13  104.76\n...            ...\n2022-03-25  261.68\n2022-03-28  261.75\n2022-03-29  261.77\n2022-03-30  261.82\n2022-03-31  261.90\n\n[4573 rows x 1 columns]",
      "text/html": "<div>\n<style scoped>\n    .dataframe tbody tr th:only-of-type {\n        vertical-align: middle;\n    }\n\n    .dataframe tbody tr th {\n        vertical-align: top;\n    }\n\n    .dataframe thead th {\n        text-align: right;\n    }\n</style>\n<table border=\"1\" class=\"dataframe\">\n  <thead>\n    <tr style=\"text-align: right;\">\n      <th></th>\n      <th>close</th>\n    </tr>\n    <tr>\n      <th>date</th>\n      <th></th>\n    </tr>\n  </thead>\n  <tbody>\n    <tr>\n      <th>2003-06-09</th>\n      <td>104.28</td>\n    </tr>\n    <tr>\n      <th>2003-06-10</th>\n      <td>104.45</td>\n    </tr>\n    <tr>\n      <th>2003-06-11</th>\n      <td>104.54</td>\n    </tr>\n    <tr>\n      <th>2003-06-12</th>\n      <td>104.65</td>\n    </tr>\n    <tr>\n      <th>2003-06-13</th>\n      <td>104.76</td>\n    </tr>\n    <tr>\n      <th>...</th>\n      <td>...</td>\n    </tr>\n    <tr>\n      <th>2022-03-25</th>\n      <td>261.68</td>\n    </tr>\n    <tr>\n      <th>2022-03-28</th>\n      <td>261.75</td>\n    </tr>\n    <tr>\n      <th>2022-03-29</th>\n      <td>261.77</td>\n    </tr>\n    <tr>\n      <th>2022-03-30</th>\n      <td>261.82</td>\n    </tr>\n    <tr>\n      <th>2022-03-31</th>\n      <td>261.90</td>\n    </tr>\n  </tbody>\n</table>\n<p>4573 rows × 1 columns</p>\n</div>"
     },
     "execution_count": 109,
     "metadata": {},
     "output_type": "execute_result"
    }
   ],
   "source": [
    "# 读取企债指数\n",
    "import pandas as pd\n",
    "bond_zh_index_ifind = pd.read_excel('data/MSTAA_data/bond_zh_index_ifind.xlsx',\n",
    "                                    usecols=['交易日期', '收盘点位'],\n",
    "                                    parse_dates=True)\n",
    "bond_zh_index_ifind.rename(columns={'交易日期':'date',\n",
    "                                    '收盘点位':'close'},\n",
    "                           inplace=True)\n",
    "bond_zh_index_ifind['date'] = pd.to_datetime(bond_zh_index_ifind['date'])\n",
    "bond_zh_index_ifind.set_index('date',inplace=True)\n",
    "bond_index = bond_zh_index_ifind\n",
    "bond_index"
   ],
   "metadata": {
    "collapsed": false,
    "pycharm": {
     "name": "#%%\n"
    }
   }
  },
  {
   "cell_type": "markdown",
   "source": [
    "### 2.2.5 读取商品指数"
   ],
   "metadata": {
    "collapsed": false,
    "pycharm": {
     "name": "#%% md\n"
    }
   }
  },
  {
   "cell_type": "code",
   "execution_count": 110,
   "outputs": [
    {
     "data": {
      "text/plain": "              close\ndate               \n2004-06-01  1000.00\n2004-06-02  1010.57\n2004-06-03   992.78\n2004-06-04   990.27\n2004-06-07   996.31",
      "text/html": "<div>\n<style scoped>\n    .dataframe tbody tr th:only-of-type {\n        vertical-align: middle;\n    }\n\n    .dataframe tbody tr th {\n        vertical-align: top;\n    }\n\n    .dataframe thead th {\n        text-align: right;\n    }\n</style>\n<table border=\"1\" class=\"dataframe\">\n  <thead>\n    <tr style=\"text-align: right;\">\n      <th></th>\n      <th>close</th>\n    </tr>\n    <tr>\n      <th>date</th>\n      <th></th>\n    </tr>\n  </thead>\n  <tbody>\n    <tr>\n      <th>2004-06-01</th>\n      <td>1000.00</td>\n    </tr>\n    <tr>\n      <th>2004-06-02</th>\n      <td>1010.57</td>\n    </tr>\n    <tr>\n      <th>2004-06-03</th>\n      <td>992.78</td>\n    </tr>\n    <tr>\n      <th>2004-06-04</th>\n      <td>990.27</td>\n    </tr>\n    <tr>\n      <th>2004-06-07</th>\n      <td>996.31</td>\n    </tr>\n  </tbody>\n</table>\n</div>"
     },
     "execution_count": 110,
     "metadata": {},
     "output_type": "execute_result"
    }
   ],
   "source": [
    "# 读取南华商品指数\n",
    "import pandas as pd\n",
    "commodity_zh_index_ifind = pd.read_excel('data/MSTAA_data/commodity_zh_index_ifind.xlsx',\n",
    "                                         usecols=['交易日期', '收盘点位'],\n",
    "                                         parse_dates=True)\n",
    "commodity_zh_index_ifind.rename(columns={'交易日期':'date',\n",
    "                                    '收盘点位':'close'},\n",
    "                                inplace=True)\n",
    "commodity_zh_index_ifind['date'] = pd.to_datetime(commodity_zh_index_ifind['date'])\n",
    "commodity_zh_index_ifind.set_index('date', inplace=True)\n",
    "comm_index = commodity_zh_index_ifind\n",
    "comm_index.head(5)"
   ],
   "metadata": {
    "collapsed": false,
    "pycharm": {
     "name": "#%%\n"
    }
   }
  },
  {
   "cell_type": "markdown",
   "source": [
    "### 2.2.6 读取货币指数"
   ],
   "metadata": {
    "collapsed": false,
    "pycharm": {
     "name": "#%% md\n"
    }
   }
  },
  {
   "cell_type": "code",
   "execution_count": 111,
   "outputs": [
    {
     "data": {
      "text/plain": "              close\ndate               \n2003-12-31  1000.00\n2004-01-05  1000.43\n2004-01-06  1000.48\n2004-01-07  1000.54\n2004-01-08  1000.59",
      "text/html": "<div>\n<style scoped>\n    .dataframe tbody tr th:only-of-type {\n        vertical-align: middle;\n    }\n\n    .dataframe tbody tr th {\n        vertical-align: top;\n    }\n\n    .dataframe thead th {\n        text-align: right;\n    }\n</style>\n<table border=\"1\" class=\"dataframe\">\n  <thead>\n    <tr style=\"text-align: right;\">\n      <th></th>\n      <th>close</th>\n    </tr>\n    <tr>\n      <th>date</th>\n      <th></th>\n    </tr>\n  </thead>\n  <tbody>\n    <tr>\n      <th>2003-12-31</th>\n      <td>1000.00</td>\n    </tr>\n    <tr>\n      <th>2004-01-05</th>\n      <td>1000.43</td>\n    </tr>\n    <tr>\n      <th>2004-01-06</th>\n      <td>1000.48</td>\n    </tr>\n    <tr>\n      <th>2004-01-07</th>\n      <td>1000.54</td>\n    </tr>\n    <tr>\n      <th>2004-01-08</th>\n      <td>1000.59</td>\n    </tr>\n  </tbody>\n</table>\n</div>"
     },
     "execution_count": 111,
     "metadata": {},
     "output_type": "execute_result"
    }
   ],
   "source": [
    "# 读取国证货币基金指数\n",
    "import pandas as pd\n",
    "currency_zh_index_ifind = pd.read_excel('data/MSTAA_data/currency_zh_index_ifind.xlsx',\n",
    "                                         usecols=['交易日期', '收盘点位'],\n",
    "                                         parse_dates=True)\n",
    "currency_zh_index_ifind.rename(columns={'交易日期':'date',\n",
    "                                    '收盘点位':'close'},\n",
    "                                inplace=True)\n",
    "currency_zh_index_ifind['date'] = pd.to_datetime(currency_zh_index_ifind['date'])\n",
    "currency_zh_index_ifind.set_index('date', inplace=True)\n",
    "curr_index = currency_zh_index_ifind\n",
    "curr_index.head(5)"
   ],
   "metadata": {
    "collapsed": false,
    "pycharm": {
     "name": "#%%\n"
    }
   }
  },
  {
   "cell_type": "code",
   "execution_count": 121,
   "outputs": [
    {
     "data": {
      "text/plain": "              stock    bond     comm     curr\ndate                                         \n2005-02-03   806.97   97.53   967.98  1027.01\n2005-02-04   816.04   97.74   971.37  1027.10\n2005-02-16   822.66   97.89   984.03  1028.01\n2005-02-17   823.07   98.14   984.11  1028.32\n2005-02-18   812.10   98.45   992.05  1028.42\n...             ...     ...      ...      ...\n2022-03-25  5412.22  261.68  2487.42  1698.09\n2022-03-28  5387.47  261.75  2454.79  1698.38\n2022-03-29  5361.17  261.77  2442.88  1698.48\n2022-03-30  5487.95  261.82  2462.33  1698.58\n2022-03-31  5445.75  261.90  2447.05  1698.69\n\n[4121 rows x 4 columns]",
      "text/html": "<div>\n<style scoped>\n    .dataframe tbody tr th:only-of-type {\n        vertical-align: middle;\n    }\n\n    .dataframe tbody tr th {\n        vertical-align: top;\n    }\n\n    .dataframe thead th {\n        text-align: right;\n    }\n</style>\n<table border=\"1\" class=\"dataframe\">\n  <thead>\n    <tr style=\"text-align: right;\">\n      <th></th>\n      <th>stock</th>\n      <th>bond</th>\n      <th>comm</th>\n      <th>curr</th>\n    </tr>\n    <tr>\n      <th>date</th>\n      <th></th>\n      <th></th>\n      <th></th>\n      <th></th>\n    </tr>\n  </thead>\n  <tbody>\n    <tr>\n      <th>2005-02-03</th>\n      <td>806.97</td>\n      <td>97.53</td>\n      <td>967.98</td>\n      <td>1027.01</td>\n    </tr>\n    <tr>\n      <th>2005-02-04</th>\n      <td>816.04</td>\n      <td>97.74</td>\n      <td>971.37</td>\n      <td>1027.10</td>\n    </tr>\n    <tr>\n      <th>2005-02-16</th>\n      <td>822.66</td>\n      <td>97.89</td>\n      <td>984.03</td>\n      <td>1028.01</td>\n    </tr>\n    <tr>\n      <th>2005-02-17</th>\n      <td>823.07</td>\n      <td>98.14</td>\n      <td>984.11</td>\n      <td>1028.32</td>\n    </tr>\n    <tr>\n      <th>2005-02-18</th>\n      <td>812.10</td>\n      <td>98.45</td>\n      <td>992.05</td>\n      <td>1028.42</td>\n    </tr>\n    <tr>\n      <th>...</th>\n      <td>...</td>\n      <td>...</td>\n      <td>...</td>\n      <td>...</td>\n    </tr>\n    <tr>\n      <th>2022-03-25</th>\n      <td>5412.22</td>\n      <td>261.68</td>\n      <td>2487.42</td>\n      <td>1698.09</td>\n    </tr>\n    <tr>\n      <th>2022-03-28</th>\n      <td>5387.47</td>\n      <td>261.75</td>\n      <td>2454.79</td>\n      <td>1698.38</td>\n    </tr>\n    <tr>\n      <th>2022-03-29</th>\n      <td>5361.17</td>\n      <td>261.77</td>\n      <td>2442.88</td>\n      <td>1698.48</td>\n    </tr>\n    <tr>\n      <th>2022-03-30</th>\n      <td>5487.95</td>\n      <td>261.82</td>\n      <td>2462.33</td>\n      <td>1698.58</td>\n    </tr>\n    <tr>\n      <th>2022-03-31</th>\n      <td>5445.75</td>\n      <td>261.90</td>\n      <td>2447.05</td>\n      <td>1698.69</td>\n    </tr>\n  </tbody>\n</table>\n<p>4121 rows × 4 columns</p>\n</div>"
     },
     "execution_count": 121,
     "metadata": {},
     "output_type": "execute_result"
    }
   ],
   "source": [
    "import pandas as pd\n",
    "stock = stock_index.rename(columns={'close':'stock'})\n",
    "bond = bond_index.rename(columns={'close':'bond'})\n",
    "comm = comm_index.rename(columns={'close':'comm'})\n",
    "curr = curr_index.rename(columns={'close':'curr'})\n",
    "\n",
    "df = [stock, bond, comm, curr]\n",
    "assets = pd.concat(df, axis=1)\n",
    "assets_data = assets.dropna()\n",
    "assets_data"
   ],
   "metadata": {
    "collapsed": false,
    "pycharm": {
     "name": "#%%\n"
    }
   }
  },
  {
   "cell_type": "code",
   "execution_count": 122,
   "outputs": [
    {
     "data": {
      "text/plain": "               stock      bond      comm      curr\ndate                                              \n2005-02-04  0.011240  0.002153  0.003502  0.000088\n2005-02-16  0.008112  0.001535  0.013033  0.000886\n2005-02-17  0.000498  0.002554  0.000081  0.000302\n2005-02-18 -0.013328  0.003159  0.008068  0.000097\n2005-02-21  0.018680  0.002539  0.005282  0.000233",
      "text/html": "<div>\n<style scoped>\n    .dataframe tbody tr th:only-of-type {\n        vertical-align: middle;\n    }\n\n    .dataframe tbody tr th {\n        vertical-align: top;\n    }\n\n    .dataframe thead th {\n        text-align: right;\n    }\n</style>\n<table border=\"1\" class=\"dataframe\">\n  <thead>\n    <tr style=\"text-align: right;\">\n      <th></th>\n      <th>stock</th>\n      <th>bond</th>\n      <th>comm</th>\n      <th>curr</th>\n    </tr>\n    <tr>\n      <th>date</th>\n      <th></th>\n      <th></th>\n      <th></th>\n      <th></th>\n    </tr>\n  </thead>\n  <tbody>\n    <tr>\n      <th>2005-02-04</th>\n      <td>0.011240</td>\n      <td>0.002153</td>\n      <td>0.003502</td>\n      <td>0.000088</td>\n    </tr>\n    <tr>\n      <th>2005-02-16</th>\n      <td>0.008112</td>\n      <td>0.001535</td>\n      <td>0.013033</td>\n      <td>0.000886</td>\n    </tr>\n    <tr>\n      <th>2005-02-17</th>\n      <td>0.000498</td>\n      <td>0.002554</td>\n      <td>0.000081</td>\n      <td>0.000302</td>\n    </tr>\n    <tr>\n      <th>2005-02-18</th>\n      <td>-0.013328</td>\n      <td>0.003159</td>\n      <td>0.008068</td>\n      <td>0.000097</td>\n    </tr>\n    <tr>\n      <th>2005-02-21</th>\n      <td>0.018680</td>\n      <td>0.002539</td>\n      <td>0.005282</td>\n      <td>0.000233</td>\n    </tr>\n  </tbody>\n</table>\n</div>"
     },
     "execution_count": 122,
     "metadata": {},
     "output_type": "execute_result"
    }
   ],
   "source": [
    "# 计算日收益\n",
    "assets_data = assets_data.pct_change().dropna()\n",
    "assets_data.head(5)"
   ],
   "metadata": {
    "collapsed": false,
    "pycharm": {
     "name": "#%%\n"
    }
   }
  },
  {
   "cell_type": "markdown",
   "source": [
    "## 2.3 宏观经济状态匹配"
   ],
   "metadata": {
    "collapsed": false,
    "pycharm": {
     "name": "#%% md\n"
    }
   }
  },
  {
   "cell_type": "code",
   "execution_count": 123,
   "outputs": [
    {
     "data": {
      "text/plain": "               stock      bond      comm      curr    state\ndate                                                       \n2012-02-01 -0.011093  0.000134 -0.005132  0.000138  state_4\n2005-02-04  0.011240  0.002153  0.003502  0.000088  state_8\n2012-06-19 -0.007535 -0.000064  0.000589  0.000096  state_3\n2008-01-10  0.008476  0.002937 -0.005338  0.000063  state_8\n2015-04-27  0.015308  0.000702  0.014488  0.000307  state_3\n2012-09-21 -0.002606  0.000255  0.000067  0.000087  state_3\n2019-08-19  0.026262  0.000470  0.002731  0.000193  state_3\n2018-09-13  0.008951  0.000181  0.006027  0.000077  state_3\n2016-09-22  0.006161  0.000145  0.004390  0.000068  state_3\n2011-09-08 -0.009246  0.001174 -0.001893  0.000083  state_8",
      "text/html": "<div>\n<style scoped>\n    .dataframe tbody tr th:only-of-type {\n        vertical-align: middle;\n    }\n\n    .dataframe tbody tr th {\n        vertical-align: top;\n    }\n\n    .dataframe thead th {\n        text-align: right;\n    }\n</style>\n<table border=\"1\" class=\"dataframe\">\n  <thead>\n    <tr style=\"text-align: right;\">\n      <th></th>\n      <th>stock</th>\n      <th>bond</th>\n      <th>comm</th>\n      <th>curr</th>\n      <th>state</th>\n    </tr>\n    <tr>\n      <th>date</th>\n      <th></th>\n      <th></th>\n      <th></th>\n      <th></th>\n      <th></th>\n    </tr>\n  </thead>\n  <tbody>\n    <tr>\n      <th>2012-02-01</th>\n      <td>-0.011093</td>\n      <td>0.000134</td>\n      <td>-0.005132</td>\n      <td>0.000138</td>\n      <td>state_4</td>\n    </tr>\n    <tr>\n      <th>2005-02-04</th>\n      <td>0.011240</td>\n      <td>0.002153</td>\n      <td>0.003502</td>\n      <td>0.000088</td>\n      <td>state_8</td>\n    </tr>\n    <tr>\n      <th>2012-06-19</th>\n      <td>-0.007535</td>\n      <td>-0.000064</td>\n      <td>0.000589</td>\n      <td>0.000096</td>\n      <td>state_3</td>\n    </tr>\n    <tr>\n      <th>2008-01-10</th>\n      <td>0.008476</td>\n      <td>0.002937</td>\n      <td>-0.005338</td>\n      <td>0.000063</td>\n      <td>state_8</td>\n    </tr>\n    <tr>\n      <th>2015-04-27</th>\n      <td>0.015308</td>\n      <td>0.000702</td>\n      <td>0.014488</td>\n      <td>0.000307</td>\n      <td>state_3</td>\n    </tr>\n    <tr>\n      <th>2012-09-21</th>\n      <td>-0.002606</td>\n      <td>0.000255</td>\n      <td>0.000067</td>\n      <td>0.000087</td>\n      <td>state_3</td>\n    </tr>\n    <tr>\n      <th>2019-08-19</th>\n      <td>0.026262</td>\n      <td>0.000470</td>\n      <td>0.002731</td>\n      <td>0.000193</td>\n      <td>state_3</td>\n    </tr>\n    <tr>\n      <th>2018-09-13</th>\n      <td>0.008951</td>\n      <td>0.000181</td>\n      <td>0.006027</td>\n      <td>0.000077</td>\n      <td>state_3</td>\n    </tr>\n    <tr>\n      <th>2016-09-22</th>\n      <td>0.006161</td>\n      <td>0.000145</td>\n      <td>0.004390</td>\n      <td>0.000068</td>\n      <td>state_3</td>\n    </tr>\n    <tr>\n      <th>2011-09-08</th>\n      <td>-0.009246</td>\n      <td>0.001174</td>\n      <td>-0.001893</td>\n      <td>0.000083</td>\n      <td>state_8</td>\n    </tr>\n  </tbody>\n</table>\n</div>"
     },
     "execution_count": 123,
     "metadata": {},
     "output_type": "execute_result"
    }
   ],
   "source": [
    "'''\n",
    "将资产按照时间序列与宏观经济的状态进行匹配\n",
    "'''\n",
    "import pandas as pd\n",
    "\n",
    "states_1 = pd.Series(states.states1)\n",
    "states_2 = pd.Series(states.states2)\n",
    "states_3 = pd.Series(states.states3)\n",
    "states_4 = pd.Series(states.states4)\n",
    "states_5 = pd.Series(states.states5)\n",
    "states_6 = pd.Series(states.states6)\n",
    "states_7 = pd.Series(states.states7)\n",
    "states_8 = pd.Series(states.states8)\n",
    "\n",
    "for D in assets_data.index:\n",
    "    if D in states_1.values:\n",
    "        assets_data.loc[D, 'state'] = 'state_1'\n",
    "    elif D in states_2.values:\n",
    "        assets_data.loc[D, 'state'] = 'state_2'\n",
    "    elif D in states_3.values:\n",
    "        assets_data.loc[D, 'state'] = 'state_3'\n",
    "    elif D in states_4.values:\n",
    "        assets_data.loc[D, 'state'] = 'state_4'\n",
    "    elif D in states_5.values:\n",
    "        assets_data.loc[D, 'state'] = 'state_5'\n",
    "    elif D in states_6.values:\n",
    "        assets_data.loc[D, 'state'] = 'state_6'\n",
    "    elif D in states_7.values:\n",
    "        assets_data.loc[D, 'state'] = 'state_7'\n",
    "    elif D in states_8.values:\n",
    "        assets_data.loc[D, 'state'] = 'state_8'\n",
    "\n",
    "assets_data.sample(10)"
   ],
   "metadata": {
    "collapsed": false,
    "pycharm": {
     "name": "#%%\n"
    }
   }
  },
  {
   "cell_type": "markdown",
   "source": [
    "## 2.4 宏观经济状态下的不同资产表现\n",
    "宏观经济状态分别为：\n",
    "![](media/img_6.png)"
   ],
   "metadata": {
    "collapsed": false,
    "pycharm": {
     "name": "#%% md\n"
    }
   }
  },
  {
   "cell_type": "markdown",
   "source": [
    "### 2.4.1 状态1下不同资产配置\n",
    "宏观经济状态的状态1为：GDP收缩、CPI下降（通缩）、利率降息，分析在此经济状态下的不同资产表现及最优资产配置。"
   ],
   "metadata": {
    "collapsed": false,
    "pycharm": {
     "name": "#%% md\n"
    }
   }
  },
  {
   "cell_type": "markdown",
   "source": [
    "#### （1） 简单统计分析"
   ],
   "metadata": {
    "collapsed": false,
    "pycharm": {
     "name": "#%% md\n"
    }
   }
  },
  {
   "cell_type": "code",
   "execution_count": 124,
   "outputs": [
    {
     "data": {
      "text/plain": "               stock      bond      comm      curr\ndate                                              \n2009-02-02  0.017287 -0.001129 -0.007347  0.000349\n2009-02-03  0.026095 -0.000301  0.026624  0.000061\n2009-02-04  0.025281 -0.002865  0.010710  0.000044\n2009-02-05 -0.009789 -0.001210 -0.003112  0.000061\n2009-02-06  0.041225 -0.000984  0.024401  0.000035",
      "text/html": "<div>\n<style scoped>\n    .dataframe tbody tr th:only-of-type {\n        vertical-align: middle;\n    }\n\n    .dataframe tbody tr th {\n        vertical-align: top;\n    }\n\n    .dataframe thead th {\n        text-align: right;\n    }\n</style>\n<table border=\"1\" class=\"dataframe\">\n  <thead>\n    <tr style=\"text-align: right;\">\n      <th></th>\n      <th>stock</th>\n      <th>bond</th>\n      <th>comm</th>\n      <th>curr</th>\n    </tr>\n    <tr>\n      <th>date</th>\n      <th></th>\n      <th></th>\n      <th></th>\n      <th></th>\n    </tr>\n  </thead>\n  <tbody>\n    <tr>\n      <th>2009-02-02</th>\n      <td>0.017287</td>\n      <td>-0.001129</td>\n      <td>-0.007347</td>\n      <td>0.000349</td>\n    </tr>\n    <tr>\n      <th>2009-02-03</th>\n      <td>0.026095</td>\n      <td>-0.000301</td>\n      <td>0.026624</td>\n      <td>0.000061</td>\n    </tr>\n    <tr>\n      <th>2009-02-04</th>\n      <td>0.025281</td>\n      <td>-0.002865</td>\n      <td>0.010710</td>\n      <td>0.000044</td>\n    </tr>\n    <tr>\n      <th>2009-02-05</th>\n      <td>-0.009789</td>\n      <td>-0.001210</td>\n      <td>-0.003112</td>\n      <td>0.000061</td>\n    </tr>\n    <tr>\n      <th>2009-02-06</th>\n      <td>0.041225</td>\n      <td>-0.000984</td>\n      <td>0.024401</td>\n      <td>0.000035</td>\n    </tr>\n  </tbody>\n</table>\n</div>"
     },
     "execution_count": 124,
     "metadata": {},
     "output_type": "execute_result"
    }
   ],
   "source": [
    "#状态1的资产指数\n",
    "Y_states_1 = assets_data[assets_data['state'] == 'state_1'].loc[:, ['stock', 'bond', 'comm', 'curr']]\n",
    "Y_states_1.head(5)"
   ],
   "metadata": {
    "collapsed": false,
    "pycharm": {
     "name": "#%%\n"
    }
   }
  },
  {
   "cell_type": "code",
   "execution_count": 126,
   "outputs": [
    {
     "data": {
      "text/plain": "           stock       bond       comm       curr\ncount  63.000000  63.000000  63.000000  63.000000\nmean    0.004474   0.000186   0.003137   0.000074\nstd     0.021491   0.000938   0.011508   0.000054\nmin    -0.056444  -0.002865  -0.028768   0.000026\n25%    -0.004909  -0.000149  -0.002551   0.000044\n50%     0.005198   0.000040   0.003096   0.000061\n75%     0.017220   0.000370   0.010531   0.000074\nmax     0.065079   0.003466   0.027773   0.000349",
      "text/html": "<div>\n<style scoped>\n    .dataframe tbody tr th:only-of-type {\n        vertical-align: middle;\n    }\n\n    .dataframe tbody tr th {\n        vertical-align: top;\n    }\n\n    .dataframe thead th {\n        text-align: right;\n    }\n</style>\n<table border=\"1\" class=\"dataframe\">\n  <thead>\n    <tr style=\"text-align: right;\">\n      <th></th>\n      <th>stock</th>\n      <th>bond</th>\n      <th>comm</th>\n      <th>curr</th>\n    </tr>\n  </thead>\n  <tbody>\n    <tr>\n      <th>count</th>\n      <td>63.000000</td>\n      <td>63.000000</td>\n      <td>63.000000</td>\n      <td>63.000000</td>\n    </tr>\n    <tr>\n      <th>mean</th>\n      <td>0.004474</td>\n      <td>0.000186</td>\n      <td>0.003137</td>\n      <td>0.000074</td>\n    </tr>\n    <tr>\n      <th>std</th>\n      <td>0.021491</td>\n      <td>0.000938</td>\n      <td>0.011508</td>\n      <td>0.000054</td>\n    </tr>\n    <tr>\n      <th>min</th>\n      <td>-0.056444</td>\n      <td>-0.002865</td>\n      <td>-0.028768</td>\n      <td>0.000026</td>\n    </tr>\n    <tr>\n      <th>25%</th>\n      <td>-0.004909</td>\n      <td>-0.000149</td>\n      <td>-0.002551</td>\n      <td>0.000044</td>\n    </tr>\n    <tr>\n      <th>50%</th>\n      <td>0.005198</td>\n      <td>0.000040</td>\n      <td>0.003096</td>\n      <td>0.000061</td>\n    </tr>\n    <tr>\n      <th>75%</th>\n      <td>0.017220</td>\n      <td>0.000370</td>\n      <td>0.010531</td>\n      <td>0.000074</td>\n    </tr>\n    <tr>\n      <th>max</th>\n      <td>0.065079</td>\n      <td>0.003466</td>\n      <td>0.027773</td>\n      <td>0.000349</td>\n    </tr>\n  </tbody>\n</table>\n</div>"
     },
     "execution_count": 126,
     "metadata": {},
     "output_type": "execute_result"
    }
   ],
   "source": [
    "#状态1收益的描述性统计\n",
    "Y_states_1.describe()"
   ],
   "metadata": {
    "collapsed": false,
    "pycharm": {
     "name": "#%%\n"
    }
   }
  },
  {
   "cell_type": "markdown",
   "source": [
    "从收益来看，日度业绩表现为：股票>商品>债券>现金，日度风险表现为：股票>商品>债券>现金。"
   ],
   "metadata": {
    "collapsed": false,
    "pycharm": {
     "name": "#%% md\n"
    }
   }
  },
  {
   "cell_type": "code",
   "execution_count": 127,
   "outputs": [
    {
     "data": {
      "text/plain": "          stock      bond      comm      curr\nstock  1.000000 -0.209444  0.483621  0.108487\nbond  -0.209444  1.000000 -0.088047 -0.094236\ncomm   0.483621 -0.088047  1.000000  0.010288\ncurr   0.108487 -0.094236  0.010288  1.000000",
      "text/html": "<div>\n<style scoped>\n    .dataframe tbody tr th:only-of-type {\n        vertical-align: middle;\n    }\n\n    .dataframe tbody tr th {\n        vertical-align: top;\n    }\n\n    .dataframe thead th {\n        text-align: right;\n    }\n</style>\n<table border=\"1\" class=\"dataframe\">\n  <thead>\n    <tr style=\"text-align: right;\">\n      <th></th>\n      <th>stock</th>\n      <th>bond</th>\n      <th>comm</th>\n      <th>curr</th>\n    </tr>\n  </thead>\n  <tbody>\n    <tr>\n      <th>stock</th>\n      <td>1.000000</td>\n      <td>-0.209444</td>\n      <td>0.483621</td>\n      <td>0.108487</td>\n    </tr>\n    <tr>\n      <th>bond</th>\n      <td>-0.209444</td>\n      <td>1.000000</td>\n      <td>-0.088047</td>\n      <td>-0.094236</td>\n    </tr>\n    <tr>\n      <th>comm</th>\n      <td>0.483621</td>\n      <td>-0.088047</td>\n      <td>1.000000</td>\n      <td>0.010288</td>\n    </tr>\n    <tr>\n      <th>curr</th>\n      <td>0.108487</td>\n      <td>-0.094236</td>\n      <td>0.010288</td>\n      <td>1.000000</td>\n    </tr>\n  </tbody>\n</table>\n</div>"
     },
     "execution_count": 127,
     "metadata": {},
     "output_type": "execute_result"
    }
   ],
   "source": [
    "# 计算状态1下四类资产的相关性\n",
    "Y_states_1.corr()"
   ],
   "metadata": {
    "collapsed": false,
    "pycharm": {
     "name": "#%%\n"
    }
   }
  },
  {
   "cell_type": "markdown",
   "source": [
    "可以看出，在宏观经济处于状态1下，股票与债券呈现负相关，股票与商品呈现正相关，但相关性不强，股票与现金也呈现正相关，相关性较弱。"
   ],
   "metadata": {
    "collapsed": false,
    "pycharm": {
     "name": "#%% md\n"
    }
   }
  },
  {
   "cell_type": "code",
   "execution_count": 129,
   "outputs": [
    {
     "data": {
      "text/plain": "<Figure size 864x864 with 2 Axes>",
      "image/png": "[encoded data removed]"
     },
     "metadata": {
      "needs_background": "light"
     },
     "output_type": "display_data"
    }
   ],
   "source": [
    "# 相关性展示\n",
    "import riskfolio as rp\n",
    "ax = rp.plot_clusters(returns=Y_states_1,\n",
    "                      linkage='ward',\n",
    "                      k=None,\n",
    "                      max_k=10,\n",
    "                      leaf_order=True,\n",
    "                      dendrogram=False,\n",
    "                      ax=None)"
   ],
   "metadata": {
    "collapsed": false,
    "pycharm": {
     "name": "#%%\n"
    }
   }
  },
  {
   "cell_type": "markdown",
   "source": [],
   "metadata": {
    "collapsed": false,
    "pycharm": {
     "name": "#%% md\n"
    }
   }
  },
  {
   "cell_type": "markdown",
   "source": [
    "#### （2） 利用均值方差模型构建最优投资组合"
   ],
   "metadata": {
    "collapsed": false,
    "pycharm": {
     "name": "#%% md\n"
    }
   }
  },
  {
   "cell_type": "code",
   "execution_count": null,
   "outputs": [],
   "source": [],
   "metadata": {
    "collapsed": false,
    "pycharm": {
     "name": "#%%\n"
    }
   }
  }
 ],
 "metadata": {
  "kernelspec": {
   "display_name": "Python 3 (ipykernel)",
   "language": "python",
   "name": "python3"
  },
  "language_info": {
   "codemirror_mode": {
    "name": "ipython",
    "version": 3
   },
   "file_extension": ".py",
   "mimetype": "text/x-python",
   "name": "python",
   "nbconvert_exporter": "python",
   "pygments_lexer": "ipython3",
   "version": "3.8.13"
  }
 },
 "nbformat": 4,
 "nbformat_minor": 1
}