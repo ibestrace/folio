{
 "cells": [
  {
   "cell_type": "code",
   "execution_count": 3,
   "metadata": {
    "collapsed": true
   },
   "outputs": [
    {
     "name": "stderr",
     "output_type": "stream",
     "text": [
      "                                             \r"
     ]
    },
    {
     "data": {
      "text/plain": "         代码    名称        最新价     涨跌额    涨跌幅         昨收         今开        最高  \\\n0  sh000001  上证指数  2886.4257 -42.086 -1.437  2928.5118  2930.4532  2957.680   \n1  sh000002  Ａ股指数  3025.0258 -44.140 -1.438  3069.1653  3071.1617  3099.743   \n2  sh000003  Ｂ股指数   275.6589  -2.578 -0.926   278.2367   278.1760   281.209   \n\n          最低        成交量           成交额  \n0  2878.2563  401615154  395985961275  \n1  3016.4786  401286452  395732757165  \n2   275.2484     319951     222489572  ",
      "text/html": "<div>\n<style scoped>\n    .dataframe tbody tr th:only-of-type {\n        vertical-align: middle;\n    }\n\n    .dataframe tbody tr th {\n        vertical-align: top;\n    }\n\n    .dataframe thead th {\n        text-align: right;\n    }\n</style>\n<table border=\"1\" class=\"dataframe\">\n  <thead>\n    <tr style=\"text-align: right;\">\n      <th></th>\n      <th>代码</th>\n      <th>名称</th>\n      <th>最新价</th>\n      <th>涨跌额</th>\n      <th>涨跌幅</th>\n      <th>昨收</th>\n      <th>今开</th>\n      <th>最高</th>\n      <th>最低</th>\n      <th>成交量</th>\n      <th>成交额</th>\n    </tr>\n  </thead>\n  <tbody>\n    <tr>\n      <th>0</th>\n      <td>sh000001</td>\n      <td>上证指数</td>\n      <td>2886.4257</td>\n      <td>-42.086</td>\n      <td>-1.437</td>\n      <td>2928.5118</td>\n      <td>2930.4532</td>\n      <td>2957.680</td>\n      <td>2878.2563</td>\n      <td>401615154</td>\n      <td>395985961275</td>\n    </tr>\n    <tr>\n      <th>1</th>\n      <td>sh000002</td>\n      <td>Ａ股指数</td>\n      <td>3025.0258</td>\n      <td>-44.140</td>\n      <td>-1.438</td>\n      <td>3069.1653</td>\n      <td>3071.1617</td>\n      <td>3099.743</td>\n      <td>3016.4786</td>\n      <td>401286452</td>\n      <td>395732757165</td>\n    </tr>\n    <tr>\n      <th>2</th>\n      <td>sh000003</td>\n      <td>Ｂ股指数</td>\n      <td>275.6589</td>\n      <td>-2.578</td>\n      <td>-0.926</td>\n      <td>278.2367</td>\n      <td>278.1760</td>\n      <td>281.209</td>\n      <td>275.2484</td>\n      <td>319951</td>\n      <td>222489572</td>\n    </tr>\n  </tbody>\n</table>\n</div>"
     },
     "execution_count": 3,
     "metadata": {},
     "output_type": "execute_result"
    }
   ],
   "source": [
    "import pandas as pd\n",
    "import numpy as np\n",
    "import akshare as ak\n",
    "\n",
    "from pypfopt.expected_returns import mean_historical_return\n",
    "from pypfopt.risk_models import CovarianceShrinkage\n",
    "\n",
    "stock_zh_index_spot_df = ak.stock_zh_index_spot()\n"
   ]
  },
  {
   "cell_type": "code",
   "execution_count": null,
   "outputs": [],
   "source": [],
   "metadata": {
    "collapsed": false,
    "pycharm": {
     "name": "#%%\n"
    }
   }
  }
 ],
 "metadata": {
  "kernelspec": {
   "display_name": "Python 3",
   "language": "python",
   "name": "python3"
  },
  "language_info": {
   "codemirror_mode": {
    "name": "ipython",
    "version": 2
   },
   "file_extension": ".py",
   "mimetype": "text/x-python",
   "name": "python",
   "nbconvert_exporter": "python",
   "pygments_lexer": "ipython2",
   "version": "2.7.6"
  }
 },
 "nbformat": 4,
 "nbformat_minor": 0
}